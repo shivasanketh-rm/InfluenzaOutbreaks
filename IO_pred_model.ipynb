{
  "nbformat": 4,
  "nbformat_minor": 0,
  "metadata": {
    "colab": {
      "name": "IO_pred_model.ipynb",
      "provenance": [],
      "collapsed_sections": []
    },
    "kernelspec": {
      "name": "python3",
      "display_name": "Python 3"
    },
    "accelerator": "GPU"
  },
  "cells": [
    {
      "cell_type": "code",
      "metadata": {
        "id": "_hyNVLriWD_i",
        "colab_type": "code",
        "colab": {}
      },
      "source": [
        "import pandas as pd\n",
        "import numpy as np\n",
        "import matplotlib.pyplot as plt  \n",
        "import seaborn as seabornInstance \n",
        "\n",
        "import sklearn\n",
        "from sklearn import metrics\n",
        "from sklearn import model_selection\n",
        "from sklearn import linear_model\n",
        "from sklearn import svm\n",
        "from sklearn import ensemble\n",
        "from sklearn import tree\n",
        "\n",
        "import matplotlib.pyplot as plt\n",
        "import copy\n",
        "%matplotlib inline"
      ],
      "execution_count": 0,
      "outputs": []
    },
    {
      "cell_type": "code",
      "metadata": {
        "id": "0Uc9jSi6Wv0G",
        "colab_type": "code",
        "outputId": "00cfbdf8-cfc2-4953-c7b9-3b0ae16496c4",
        "colab": {
          "base_uri": "https://localhost:8080/",
          "height": 308
        }
      },
      "source": [
        "df_master = pd.read_csv(\"master.csv\", index_col=0)\n",
        "#df_master = df_master.drop(columns = 'Unnamed:0.1')\n",
        "df_master.describe()"
      ],
      "execution_count": 96,
      "outputs": [
        {
          "output_type": "execute_result",
          "data": {
            "text/html": [
              "<div>\n",
              "<style scoped>\n",
              "    .dataframe tbody tr th:only-of-type {\n",
              "        vertical-align: middle;\n",
              "    }\n",
              "\n",
              "    .dataframe tbody tr th {\n",
              "        vertical-align: top;\n",
              "    }\n",
              "\n",
              "    .dataframe thead th {\n",
              "        text-align: right;\n",
              "    }\n",
              "</style>\n",
              "<table border=\"1\" class=\"dataframe\">\n",
              "  <thead>\n",
              "    <tr style=\"text-align: right;\">\n",
              "      <th></th>\n",
              "      <th>year</th>\n",
              "      <th>CDC Week</th>\n",
              "      <th>FIPS</th>\n",
              "      <th>Count</th>\n",
              "      <th>Disease_INFLUENZA_A</th>\n",
              "      <th>Disease_INFLUENZA_B</th>\n",
              "      <th>Disease_INFLUENZA_UNSPECIFIED</th>\n",
              "      <th>UnempRate</th>\n",
              "      <th>GDP</th>\n",
              "      <th>GDP_change</th>\n",
              "      <th>Population</th>\n",
              "      <th>flu</th>\n",
              "      <th>fluSymptoms</th>\n",
              "      <th>fever</th>\n",
              "      <th>cough</th>\n",
              "      <th>soreThroat</th>\n",
              "      <th>Target</th>\n",
              "      <th>VaxRate</th>\n",
              "      <th>PRCP</th>\n",
              "      <th>SNOW</th>\n",
              "      <th>TAVG</th>\n",
              "      <th>TMAX</th>\n",
              "      <th>TMIN</th>\n",
              "      <th>SNOWDepth</th>\n",
              "      <th>F_PRCP</th>\n",
              "      <th>F_SNOW</th>\n",
              "      <th>F_TAVG</th>\n",
              "    </tr>\n",
              "  </thead>\n",
              "  <tbody>\n",
              "    <tr>\n",
              "      <th>count</th>\n",
              "      <td>20080.000000</td>\n",
              "      <td>20080.000000</td>\n",
              "      <td>20080.000000</td>\n",
              "      <td>20080.000000</td>\n",
              "      <td>20080.000000</td>\n",
              "      <td>20080.000000</td>\n",
              "      <td>20080.000000</td>\n",
              "      <td>18530.000000</td>\n",
              "      <td>7.432000e+03</td>\n",
              "      <td>5386.000000</td>\n",
              "      <td>1.778600e+04</td>\n",
              "      <td>18592.000000</td>\n",
              "      <td>18592.000000</td>\n",
              "      <td>18592.000000</td>\n",
              "      <td>18592.000000</td>\n",
              "      <td>18592.000000</td>\n",
              "      <td>19956.000000</td>\n",
              "      <td>9540.000000</td>\n",
              "      <td>20080.000000</td>\n",
              "      <td>20080.000000</td>\n",
              "      <td>20080.000000</td>\n",
              "      <td>20080.000000</td>\n",
              "      <td>20080.000000</td>\n",
              "      <td>20080.000000</td>\n",
              "      <td>19956.000000</td>\n",
              "      <td>19956.000000</td>\n",
              "      <td>19956.000000</td>\n",
              "    </tr>\n",
              "    <tr>\n",
              "      <th>mean</th>\n",
              "      <td>2014.174402</td>\n",
              "      <td>24.816434</td>\n",
              "      <td>36063.424900</td>\n",
              "      <td>26.010458</td>\n",
              "      <td>20.003088</td>\n",
              "      <td>5.811604</td>\n",
              "      <td>0.195767</td>\n",
              "      <td>6.718840</td>\n",
              "      <td>2.319177e+07</td>\n",
              "      <td>1.283420</td>\n",
              "      <td>3.236327e+05</td>\n",
              "      <td>0.026605</td>\n",
              "      <td>0.020833</td>\n",
              "      <td>0.287768</td>\n",
              "      <td>0.256351</td>\n",
              "      <td>0.260344</td>\n",
              "      <td>26.124424</td>\n",
              "      <td>0.555987</td>\n",
              "      <td>0.131557</td>\n",
              "      <td>0.484755</td>\n",
              "      <td>37.844781</td>\n",
              "      <td>46.809265</td>\n",
              "      <td>28.886304</td>\n",
              "      <td>2.103956</td>\n",
              "      <td>0.131296</td>\n",
              "      <td>0.487767</td>\n",
              "      <td>37.756891</td>\n",
              "    </tr>\n",
              "    <tr>\n",
              "      <th>std</th>\n",
              "      <td>2.992755</td>\n",
              "      <td>18.086529</td>\n",
              "      <td>35.586314</td>\n",
              "      <td>88.217416</td>\n",
              "      <td>68.727437</td>\n",
              "      <td>29.215823</td>\n",
              "      <td>1.604029</td>\n",
              "      <td>1.915021</td>\n",
              "      <td>8.214317e+07</td>\n",
              "      <td>3.383907</td>\n",
              "      <td>5.484115e+05</td>\n",
              "      <td>0.090495</td>\n",
              "      <td>0.079796</td>\n",
              "      <td>0.149518</td>\n",
              "      <td>0.178057</td>\n",
              "      <td>0.168710</td>\n",
              "      <td>88.469715</td>\n",
              "      <td>0.089235</td>\n",
              "      <td>0.130011</td>\n",
              "      <td>1.029249</td>\n",
              "      <td>13.171385</td>\n",
              "      <td>13.964036</td>\n",
              "      <td>12.856703</td>\n",
              "      <td>4.154272</td>\n",
              "      <td>0.130091</td>\n",
              "      <td>1.031730</td>\n",
              "      <td>13.161972</td>\n",
              "    </tr>\n",
              "    <tr>\n",
              "      <th>min</th>\n",
              "      <td>2009.000000</td>\n",
              "      <td>1.000000</td>\n",
              "      <td>36001.000000</td>\n",
              "      <td>0.000000</td>\n",
              "      <td>0.000000</td>\n",
              "      <td>0.000000</td>\n",
              "      <td>0.000000</td>\n",
              "      <td>3.300000</td>\n",
              "      <td>1.221810e+05</td>\n",
              "      <td>-9.800000</td>\n",
              "      <td>4.434000e+03</td>\n",
              "      <td>0.000000</td>\n",
              "      <td>0.000000</td>\n",
              "      <td>0.000000</td>\n",
              "      <td>0.000000</td>\n",
              "      <td>0.000000</td>\n",
              "      <td>0.000000</td>\n",
              "      <td>0.337000</td>\n",
              "      <td>0.000000</td>\n",
              "      <td>0.000000</td>\n",
              "      <td>-5.785714</td>\n",
              "      <td>6.375000</td>\n",
              "      <td>-23.142857</td>\n",
              "      <td>0.000000</td>\n",
              "      <td>0.000000</td>\n",
              "      <td>0.000000</td>\n",
              "      <td>-5.785714</td>\n",
              "    </tr>\n",
              "    <tr>\n",
              "      <th>25%</th>\n",
              "      <td>2012.000000</td>\n",
              "      <td>9.000000</td>\n",
              "      <td>36033.000000</td>\n",
              "      <td>0.000000</td>\n",
              "      <td>0.000000</td>\n",
              "      <td>0.000000</td>\n",
              "      <td>0.000000</td>\n",
              "      <td>5.000000</td>\n",
              "      <td>1.497613e+06</td>\n",
              "      <td>-0.600000</td>\n",
              "      <td>5.030000e+04</td>\n",
              "      <td>0.002475</td>\n",
              "      <td>0.001258</td>\n",
              "      <td>0.204321</td>\n",
              "      <td>0.139920</td>\n",
              "      <td>0.140832</td>\n",
              "      <td>0.000000</td>\n",
              "      <td>0.520000</td>\n",
              "      <td>0.038333</td>\n",
              "      <td>0.000000</td>\n",
              "      <td>28.250000</td>\n",
              "      <td>36.000000</td>\n",
              "      <td>20.285714</td>\n",
              "      <td>0.000000</td>\n",
              "      <td>0.038000</td>\n",
              "      <td>0.000000</td>\n",
              "      <td>28.214286</td>\n",
              "    </tr>\n",
              "    <tr>\n",
              "      <th>50%</th>\n",
              "      <td>2014.000000</td>\n",
              "      <td>17.000000</td>\n",
              "      <td>36065.000000</td>\n",
              "      <td>2.000000</td>\n",
              "      <td>1.000000</td>\n",
              "      <td>0.000000</td>\n",
              "      <td>0.000000</td>\n",
              "      <td>6.700000</td>\n",
              "      <td>3.190219e+06</td>\n",
              "      <td>1.300000</td>\n",
              "      <td>9.235000e+04</td>\n",
              "      <td>0.005558</td>\n",
              "      <td>0.002965</td>\n",
              "      <td>0.271068</td>\n",
              "      <td>0.221400</td>\n",
              "      <td>0.247043</td>\n",
              "      <td>2.000000</td>\n",
              "      <td>0.591000</td>\n",
              "      <td>0.100000</td>\n",
              "      <td>0.000000</td>\n",
              "      <td>37.714286</td>\n",
              "      <td>46.000000</td>\n",
              "      <td>29.285714</td>\n",
              "      <td>0.000000</td>\n",
              "      <td>0.100000</td>\n",
              "      <td>0.000000</td>\n",
              "      <td>37.571429</td>\n",
              "    </tr>\n",
              "    <tr>\n",
              "      <th>75%</th>\n",
              "      <td>2017.000000</td>\n",
              "      <td>44.000000</td>\n",
              "      <td>36095.000000</td>\n",
              "      <td>14.000000</td>\n",
              "      <td>10.000000</td>\n",
              "      <td>2.000000</td>\n",
              "      <td>0.000000</td>\n",
              "      <td>8.200000</td>\n",
              "      <td>1.068296e+07</td>\n",
              "      <td>3.300000</td>\n",
              "      <td>2.342030e+05</td>\n",
              "      <td>0.013376</td>\n",
              "      <td>0.008617</td>\n",
              "      <td>0.355073</td>\n",
              "      <td>0.332691</td>\n",
              "      <td>0.364779</td>\n",
              "      <td>15.000000</td>\n",
              "      <td>0.620000</td>\n",
              "      <td>0.186667</td>\n",
              "      <td>0.540000</td>\n",
              "      <td>48.214286</td>\n",
              "      <td>58.142857</td>\n",
              "      <td>38.285714</td>\n",
              "      <td>2.428571</td>\n",
              "      <td>0.185714</td>\n",
              "      <td>0.550000</td>\n",
              "      <td>48.000000</td>\n",
              "    </tr>\n",
              "    <tr>\n",
              "      <th>max</th>\n",
              "      <td>2019.000000</td>\n",
              "      <td>53.000000</td>\n",
              "      <td>36123.000000</td>\n",
              "      <td>2401.000000</td>\n",
              "      <td>1213.000000</td>\n",
              "      <td>1166.000000</td>\n",
              "      <td>92.000000</td>\n",
              "      <td>12.400000</td>\n",
              "      <td>6.296820e+08</td>\n",
              "      <td>12.600000</td>\n",
              "      <td>2.611232e+06</td>\n",
              "      <td>1.000000</td>\n",
              "      <td>0.915000</td>\n",
              "      <td>1.244567</td>\n",
              "      <td>1.245430</td>\n",
              "      <td>1.016013</td>\n",
              "      <td>2401.000000</td>\n",
              "      <td>0.721000</td>\n",
              "      <td>2.820000</td>\n",
              "      <td>15.000000</td>\n",
              "      <td>72.928571</td>\n",
              "      <td>85.714286</td>\n",
              "      <td>65.285714</td>\n",
              "      <td>38.285714</td>\n",
              "      <td>2.820000</td>\n",
              "      <td>15.000000</td>\n",
              "      <td>72.928571</td>\n",
              "    </tr>\n",
              "  </tbody>\n",
              "</table>\n",
              "</div>"
            ],
            "text/plain": [
              "               year      CDC Week  ...        F_SNOW        F_TAVG\n",
              "count  20080.000000  20080.000000  ...  19956.000000  19956.000000\n",
              "mean    2014.174402     24.816434  ...      0.487767     37.756891\n",
              "std        2.992755     18.086529  ...      1.031730     13.161972\n",
              "min     2009.000000      1.000000  ...      0.000000     -5.785714\n",
              "25%     2012.000000      9.000000  ...      0.000000     28.214286\n",
              "50%     2014.000000     17.000000  ...      0.000000     37.571429\n",
              "75%     2017.000000     44.000000  ...      0.550000     48.000000\n",
              "max     2019.000000     53.000000  ...     15.000000     72.928571\n",
              "\n",
              "[8 rows x 27 columns]"
            ]
          },
          "metadata": {
            "tags": []
          },
          "execution_count": 96
        }
      ]
    },
    {
      "cell_type": "code",
      "metadata": {
        "id": "vPRFvIZqtNEe",
        "colab_type": "code",
        "colab": {
          "base_uri": "https://localhost:8080/",
          "height": 92
        },
        "outputId": "9522b0cb-8697-4118-8359-ba50a53d03a0"
      },
      "source": [
        "columns = list(df_master.columns)\n",
        "print(\"Columns in dataframe = \", columns)\n",
        "columns_to_drop = ['County','FIPS', 'County Centroid', 'Disease_INFLUENZA_A','Disease_INFLUENZA_B', 'Disease_INFLUENZA_UNSPECIFIED', 'GDP', 'Population'] \n",
        "columns = [x for x in columns if x not in columns_to_drop]\n",
        "print(\"columns = \", columns)\n",
        "\n",
        "target_variable = 'Target'\n",
        "non_features_for_model = ['Week Ending Date']\n",
        "features = [x for x in columns if x not in non_features_for_model]\n",
        "print(\"features = \", features)"
      ],
      "execution_count": 97,
      "outputs": [
        {
          "output_type": "stream",
          "text": [
            "Columns in dataframe =  ['County', 'year', 'CDC Week', 'FIPS', 'County Centroid', 'Week Ending Date', 'Count', 'Disease_INFLUENZA_A', 'Disease_INFLUENZA_B', 'Disease_INFLUENZA_UNSPECIFIED', 'UnempRate', 'GDP', 'GDP_change', 'Population', 'flu', 'fluSymptoms', 'fever', 'cough', 'soreThroat', 'Target', 'VaxRate', 'PRCP', 'SNOW', 'TAVG', 'TMAX', 'TMIN', 'SNOWDepth', 'Density', 'F_PRCP', 'F_SNOW', 'F_TAVG']\n",
            "columns =  ['year', 'CDC Week', 'Week Ending Date', 'Count', 'UnempRate', 'GDP_change', 'flu', 'fluSymptoms', 'fever', 'cough', 'soreThroat', 'Target', 'VaxRate', 'PRCP', 'SNOW', 'TAVG', 'TMAX', 'TMIN', 'SNOWDepth', 'Density', 'F_PRCP', 'F_SNOW', 'F_TAVG']\n",
            "features =  ['year', 'CDC Week', 'Count', 'UnempRate', 'GDP_change', 'flu', 'fluSymptoms', 'fever', 'cough', 'soreThroat', 'Target', 'VaxRate', 'PRCP', 'SNOW', 'TAVG', 'TMAX', 'TMIN', 'SNOWDepth', 'Density', 'F_PRCP', 'F_SNOW', 'F_TAVG']\n"
          ],
          "name": "stdout"
        }
      ]
    },
    {
      "cell_type": "code",
      "metadata": {
        "id": "UGgxBkkAwHei",
        "colab_type": "code",
        "colab": {
          "base_uri": "https://localhost:8080/",
          "height": 500
        },
        "outputId": "7a409ed6-ffd5-4d84-cca4-5b21dc22341d"
      },
      "source": [
        "df_master_modified = df_master[columns]\n",
        "\n",
        "for column in df_master_modified.columns:\n",
        "  if column not in ['Week Ending Date']:#, 'County']:\n",
        "    df_master_modified[column] = pd.to_numeric(df_master_modified[column],errors='coerce')\n",
        "print(\"Shape of dataframe = \", df_master_modified.shape)\n",
        "\n",
        "\n",
        "#df_master_modified = pd.get_dummies(df_master_modified, columns=['County'])\n",
        "#df_master_modified = df_master_modified.drop(columns = ['County_YATES'])\n",
        "df_master_modified.sample(8)"
      ],
      "execution_count": 133,
      "outputs": [
        {
          "output_type": "stream",
          "text": [
            "Shape of dataframe =  (20080, 23)\n"
          ],
          "name": "stdout"
        },
        {
          "output_type": "stream",
          "text": [
            "/usr/local/lib/python3.6/dist-packages/ipykernel_launcher.py:5: SettingWithCopyWarning: \n",
            "A value is trying to be set on a copy of a slice from a DataFrame.\n",
            "Try using .loc[row_indexer,col_indexer] = value instead\n",
            "\n",
            "See the caveats in the documentation: http://pandas.pydata.org/pandas-docs/stable/user_guide/indexing.html#returning-a-view-versus-a-copy\n",
            "  \"\"\"\n"
          ],
          "name": "stderr"
        },
        {
          "output_type": "execute_result",
          "data": {
            "text/html": [
              "<div>\n",
              "<style scoped>\n",
              "    .dataframe tbody tr th:only-of-type {\n",
              "        vertical-align: middle;\n",
              "    }\n",
              "\n",
              "    .dataframe tbody tr th {\n",
              "        vertical-align: top;\n",
              "    }\n",
              "\n",
              "    .dataframe thead th {\n",
              "        text-align: right;\n",
              "    }\n",
              "</style>\n",
              "<table border=\"1\" class=\"dataframe\">\n",
              "  <thead>\n",
              "    <tr style=\"text-align: right;\">\n",
              "      <th></th>\n",
              "      <th>year</th>\n",
              "      <th>CDC Week</th>\n",
              "      <th>Week Ending Date</th>\n",
              "      <th>Count</th>\n",
              "      <th>UnempRate</th>\n",
              "      <th>GDP_change</th>\n",
              "      <th>flu</th>\n",
              "      <th>fluSymptoms</th>\n",
              "      <th>fever</th>\n",
              "      <th>cough</th>\n",
              "      <th>soreThroat</th>\n",
              "      <th>Target</th>\n",
              "      <th>VaxRate</th>\n",
              "      <th>PRCP</th>\n",
              "      <th>SNOW</th>\n",
              "      <th>TAVG</th>\n",
              "      <th>TMAX</th>\n",
              "      <th>TMIN</th>\n",
              "      <th>SNOWDepth</th>\n",
              "      <th>Density</th>\n",
              "      <th>F_PRCP</th>\n",
              "      <th>F_SNOW</th>\n",
              "      <th>F_TAVG</th>\n",
              "    </tr>\n",
              "    <tr>\n",
              "      <th>Index_column</th>\n",
              "      <th></th>\n",
              "      <th></th>\n",
              "      <th></th>\n",
              "      <th></th>\n",
              "      <th></th>\n",
              "      <th></th>\n",
              "      <th></th>\n",
              "      <th></th>\n",
              "      <th></th>\n",
              "      <th></th>\n",
              "      <th></th>\n",
              "      <th></th>\n",
              "      <th></th>\n",
              "      <th></th>\n",
              "      <th></th>\n",
              "      <th></th>\n",
              "      <th></th>\n",
              "      <th></th>\n",
              "      <th></th>\n",
              "      <th></th>\n",
              "      <th></th>\n",
              "      <th></th>\n",
              "      <th></th>\n",
              "    </tr>\n",
              "  </thead>\n",
              "  <tbody>\n",
              "    <tr>\n",
              "      <th>1882</th>\n",
              "      <td>2010</td>\n",
              "      <td>44</td>\n",
              "      <td>11/06/2010</td>\n",
              "      <td>1</td>\n",
              "      <td>8.9</td>\n",
              "      <td>NaN</td>\n",
              "      <td>0.009200</td>\n",
              "      <td>0.001872</td>\n",
              "      <td>0.492704</td>\n",
              "      <td>0.064800</td>\n",
              "      <td>0.224460</td>\n",
              "      <td>0.0</td>\n",
              "      <td>NaN</td>\n",
              "      <td>0.081429</td>\n",
              "      <td>0.000000</td>\n",
              "      <td>36.357143</td>\n",
              "      <td>45.571429</td>\n",
              "      <td>27.142857</td>\n",
              "      <td>0.000000</td>\n",
              "      <td>127.071484</td>\n",
              "      <td>0.148571</td>\n",
              "      <td>0.000000</td>\n",
              "      <td>40.285714</td>\n",
              "    </tr>\n",
              "    <tr>\n",
              "      <th>13539</th>\n",
              "      <td>2015</td>\n",
              "      <td>2</td>\n",
              "      <td>01/17/2015</td>\n",
              "      <td>53</td>\n",
              "      <td>5.0</td>\n",
              "      <td>-5.3</td>\n",
              "      <td>0.024813</td>\n",
              "      <td>0.028784</td>\n",
              "      <td>0.325308</td>\n",
              "      <td>0.339400</td>\n",
              "      <td>0.388734</td>\n",
              "      <td>56.0</td>\n",
              "      <td>0.665</td>\n",
              "      <td>0.051429</td>\n",
              "      <td>4.195000</td>\n",
              "      <td>15.642857</td>\n",
              "      <td>24.285714</td>\n",
              "      <td>7.000000</td>\n",
              "      <td>3.760256</td>\n",
              "      <td>8095.271544</td>\n",
              "      <td>0.008000</td>\n",
              "      <td>0.650000</td>\n",
              "      <td>23.928571</td>\n",
              "    </tr>\n",
              "    <tr>\n",
              "      <th>13862</th>\n",
              "      <td>2014</td>\n",
              "      <td>41</td>\n",
              "      <td>10/11/2014</td>\n",
              "      <td>0</td>\n",
              "      <td>5.2</td>\n",
              "      <td>4.7</td>\n",
              "      <td>0.015086</td>\n",
              "      <td>0.003235</td>\n",
              "      <td>0.241529</td>\n",
              "      <td>0.177173</td>\n",
              "      <td>0.337556</td>\n",
              "      <td>0.0</td>\n",
              "      <td>0.385</td>\n",
              "      <td>0.400000</td>\n",
              "      <td>0.000000</td>\n",
              "      <td>50.428571</td>\n",
              "      <td>63.285714</td>\n",
              "      <td>37.571429</td>\n",
              "      <td>0.000000</td>\n",
              "      <td>1850.625180</td>\n",
              "      <td>0.356667</td>\n",
              "      <td>0.000000</td>\n",
              "      <td>44.333333</td>\n",
              "    </tr>\n",
              "    <tr>\n",
              "      <th>15567</th>\n",
              "      <td>2015</td>\n",
              "      <td>14</td>\n",
              "      <td>04/11/2015</td>\n",
              "      <td>2</td>\n",
              "      <td>5.0</td>\n",
              "      <td>-3.1</td>\n",
              "      <td>0.009147</td>\n",
              "      <td>0.009201</td>\n",
              "      <td>0.338799</td>\n",
              "      <td>0.358118</td>\n",
              "      <td>0.299353</td>\n",
              "      <td>0.0</td>\n",
              "      <td>0.635</td>\n",
              "      <td>0.020000</td>\n",
              "      <td>0.000000</td>\n",
              "      <td>37.642857</td>\n",
              "      <td>46.857143</td>\n",
              "      <td>28.428571</td>\n",
              "      <td>0.000000</td>\n",
              "      <td>12.988457</td>\n",
              "      <td>0.077143</td>\n",
              "      <td>0.000000</td>\n",
              "      <td>51.142857</td>\n",
              "    </tr>\n",
              "    <tr>\n",
              "      <th>13643</th>\n",
              "      <td>2018</td>\n",
              "      <td>6</td>\n",
              "      <td>02/10/2018</td>\n",
              "      <td>412</td>\n",
              "      <td>4.1</td>\n",
              "      <td>NaN</td>\n",
              "      <td>0.358142</td>\n",
              "      <td>0.267115</td>\n",
              "      <td>0.860147</td>\n",
              "      <td>0.687317</td>\n",
              "      <td>0.655603</td>\n",
              "      <td>219.0</td>\n",
              "      <td>0.668</td>\n",
              "      <td>0.104000</td>\n",
              "      <td>0.321429</td>\n",
              "      <td>21.785714</td>\n",
              "      <td>28.571429</td>\n",
              "      <td>15.000000</td>\n",
              "      <td>0.571429</td>\n",
              "      <td>8157.940723</td>\n",
              "      <td>0.142857</td>\n",
              "      <td>0.030000</td>\n",
              "      <td>43.285714</td>\n",
              "    </tr>\n",
              "    <tr>\n",
              "      <th>4906</th>\n",
              "      <td>2010</td>\n",
              "      <td>48</td>\n",
              "      <td>12/04/2010</td>\n",
              "      <td>0</td>\n",
              "      <td>9.0</td>\n",
              "      <td>NaN</td>\n",
              "      <td>0.000210</td>\n",
              "      <td>0.000255</td>\n",
              "      <td>0.036052</td>\n",
              "      <td>0.023616</td>\n",
              "      <td>0.015675</td>\n",
              "      <td>0.0</td>\n",
              "      <td>NaN</td>\n",
              "      <td>0.133333</td>\n",
              "      <td>0.250000</td>\n",
              "      <td>32.785714</td>\n",
              "      <td>39.714286</td>\n",
              "      <td>25.857143</td>\n",
              "      <td>8.285714</td>\n",
              "      <td>31.705461</td>\n",
              "      <td>0.138571</td>\n",
              "      <td>1.785714</td>\n",
              "      <td>17.000000</td>\n",
              "    </tr>\n",
              "    <tr>\n",
              "      <th>1244</th>\n",
              "      <td>2009</td>\n",
              "      <td>42</td>\n",
              "      <td>10/24/2009</td>\n",
              "      <td>17</td>\n",
              "      <td>8.6</td>\n",
              "      <td>NaN</td>\n",
              "      <td>0.712080</td>\n",
              "      <td>0.631800</td>\n",
              "      <td>0.493050</td>\n",
              "      <td>0.332820</td>\n",
              "      <td>0.149292</td>\n",
              "      <td>32.0</td>\n",
              "      <td>NaN</td>\n",
              "      <td>0.060000</td>\n",
              "      <td>0.500000</td>\n",
              "      <td>36.625000</td>\n",
              "      <td>44.600000</td>\n",
              "      <td>30.000000</td>\n",
              "      <td>0.000000</td>\n",
              "      <td>NaN</td>\n",
              "      <td>0.187143</td>\n",
              "      <td>0.000000</td>\n",
              "      <td>49.166667</td>\n",
              "    </tr>\n",
              "    <tr>\n",
              "      <th>801</th>\n",
              "      <td>2015</td>\n",
              "      <td>20</td>\n",
              "      <td>05/23/2015</td>\n",
              "      <td>3</td>\n",
              "      <td>7.0</td>\n",
              "      <td>-0.3</td>\n",
              "      <td>0.001191</td>\n",
              "      <td>0.000479</td>\n",
              "      <td>0.227939</td>\n",
              "      <td>0.145113</td>\n",
              "      <td>0.383290</td>\n",
              "      <td>3.0</td>\n",
              "      <td>0.721</td>\n",
              "      <td>0.072500</td>\n",
              "      <td>0.000000</td>\n",
              "      <td>67.928571</td>\n",
              "      <td>77.285714</td>\n",
              "      <td>58.571429</td>\n",
              "      <td>0.000000</td>\n",
              "      <td>34221.520190</td>\n",
              "      <td>0.071429</td>\n",
              "      <td>0.000000</td>\n",
              "      <td>63.214286</td>\n",
              "    </tr>\n",
              "  </tbody>\n",
              "</table>\n",
              "</div>"
            ],
            "text/plain": [
              "              year  CDC Week Week Ending Date  ...    F_PRCP    F_SNOW     F_TAVG\n",
              "Index_column                                   ...                               \n",
              "1882          2010        44       11/06/2010  ...  0.148571  0.000000  40.285714\n",
              "13539         2015         2       01/17/2015  ...  0.008000  0.650000  23.928571\n",
              "13862         2014        41       10/11/2014  ...  0.356667  0.000000  44.333333\n",
              "15567         2015        14       04/11/2015  ...  0.077143  0.000000  51.142857\n",
              "13643         2018         6       02/10/2018  ...  0.142857  0.030000  43.285714\n",
              "4906          2010        48       12/04/2010  ...  0.138571  1.785714  17.000000\n",
              "1244          2009        42       10/24/2009  ...  0.187143  0.000000  49.166667\n",
              "801           2015        20       05/23/2015  ...  0.071429  0.000000  63.214286\n",
              "\n",
              "[8 rows x 23 columns]"
            ]
          },
          "metadata": {
            "tags": []
          },
          "execution_count": 133
        }
      ]
    },
    {
      "cell_type": "code",
      "metadata": {
        "id": "yFDcK2Bv1akK",
        "colab_type": "code",
        "colab": {
          "base_uri": "https://localhost:8080/",
          "height": 345
        },
        "outputId": "b7eae5ad-7cc0-43c0-f325-ce6ba09fa444"
      },
      "source": [
        "#Copying all the rows with year == 2018 to df_test\n",
        "\n",
        "df_test = df_master_modified.loc[df_master_modified['year'] == 2018]\n",
        "print(df_master_modified.shape)\n",
        "#Deleting all the rows with year == 2018 from County onehot encoded master dataframe\n",
        "df_master_modified = df_master_modified.drop(list(np.where(df_master_modified['year'] == 2018)[0]))\n",
        "df_master_modified = df_master_modified.reset_index(drop=True)\n",
        "df_master_modified = df_master_modified.drop(list(np.where(df_master_modified['year'] == 2019)[0]))\n",
        "print(df_master_modified.shape)\n",
        "df_test.describe()"
      ],
      "execution_count": 134,
      "outputs": [
        {
          "output_type": "stream",
          "text": [
            "(20080, 23)\n",
            "(16484, 23)\n"
          ],
          "name": "stdout"
        },
        {
          "output_type": "execute_result",
          "data": {
            "text/html": [
              "<div>\n",
              "<style scoped>\n",
              "    .dataframe tbody tr th:only-of-type {\n",
              "        vertical-align: middle;\n",
              "    }\n",
              "\n",
              "    .dataframe tbody tr th {\n",
              "        vertical-align: top;\n",
              "    }\n",
              "\n",
              "    .dataframe thead th {\n",
              "        text-align: right;\n",
              "    }\n",
              "</style>\n",
              "<table border=\"1\" class=\"dataframe\">\n",
              "  <thead>\n",
              "    <tr style=\"text-align: right;\">\n",
              "      <th></th>\n",
              "      <th>year</th>\n",
              "      <th>CDC Week</th>\n",
              "      <th>Count</th>\n",
              "      <th>UnempRate</th>\n",
              "      <th>GDP_change</th>\n",
              "      <th>flu</th>\n",
              "      <th>fluSymptoms</th>\n",
              "      <th>fever</th>\n",
              "      <th>cough</th>\n",
              "      <th>soreThroat</th>\n",
              "      <th>Target</th>\n",
              "      <th>VaxRate</th>\n",
              "      <th>PRCP</th>\n",
              "      <th>SNOW</th>\n",
              "      <th>TAVG</th>\n",
              "      <th>TMAX</th>\n",
              "      <th>TMIN</th>\n",
              "      <th>SNOWDepth</th>\n",
              "      <th>Density</th>\n",
              "      <th>F_PRCP</th>\n",
              "      <th>F_SNOW</th>\n",
              "      <th>F_TAVG</th>\n",
              "    </tr>\n",
              "  </thead>\n",
              "  <tbody>\n",
              "    <tr>\n",
              "      <th>count</th>\n",
              "      <td>2046.0</td>\n",
              "      <td>2046.000000</td>\n",
              "      <td>2046.000000</td>\n",
              "      <td>2046.000000</td>\n",
              "      <td>0.0</td>\n",
              "      <td>2046.000000</td>\n",
              "      <td>2046.000000</td>\n",
              "      <td>2046.000000</td>\n",
              "      <td>2046.000000</td>\n",
              "      <td>2046.000000</td>\n",
              "      <td>2046.000000</td>\n",
              "      <td>1240.000000</td>\n",
              "      <td>2046.000000</td>\n",
              "      <td>2046.000000</td>\n",
              "      <td>2046.000000</td>\n",
              "      <td>2046.000000</td>\n",
              "      <td>2046.000000</td>\n",
              "      <td>2046.000000</td>\n",
              "      <td>2046.000000</td>\n",
              "      <td>2046.000000</td>\n",
              "      <td>2046.000000</td>\n",
              "      <td>2046.000000</td>\n",
              "    </tr>\n",
              "    <tr>\n",
              "      <th>mean</th>\n",
              "      <td>2018.0</td>\n",
              "      <td>24.484848</td>\n",
              "      <td>63.324536</td>\n",
              "      <td>4.490323</td>\n",
              "      <td>NaN</td>\n",
              "      <td>0.081542</td>\n",
              "      <td>0.066524</td>\n",
              "      <td>0.400646</td>\n",
              "      <td>0.438592</td>\n",
              "      <td>0.401290</td>\n",
              "      <td>62.141740</td>\n",
              "      <td>0.583598</td>\n",
              "      <td>0.146464</td>\n",
              "      <td>0.559250</td>\n",
              "      <td>36.291117</td>\n",
              "      <td>44.594451</td>\n",
              "      <td>27.993058</td>\n",
              "      <td>1.952675</td>\n",
              "      <td>3096.566368</td>\n",
              "      <td>0.144025</td>\n",
              "      <td>0.516013</td>\n",
              "      <td>36.899554</td>\n",
              "    </tr>\n",
              "    <tr>\n",
              "      <th>std</th>\n",
              "      <td>0.0</td>\n",
              "      <td>18.075190</td>\n",
              "      <td>188.224465</td>\n",
              "      <td>0.690122</td>\n",
              "      <td>NaN</td>\n",
              "      <td>0.151238</td>\n",
              "      <td>0.135483</td>\n",
              "      <td>0.215465</td>\n",
              "      <td>0.234025</td>\n",
              "      <td>0.181954</td>\n",
              "      <td>188.342388</td>\n",
              "      <td>0.035214</td>\n",
              "      <td>0.114763</td>\n",
              "      <td>1.109026</td>\n",
              "      <td>12.790490</td>\n",
              "      <td>13.313936</td>\n",
              "      <td>12.720465</td>\n",
              "      <td>3.432462</td>\n",
              "      <td>11022.482059</td>\n",
              "      <td>0.109344</td>\n",
              "      <td>1.001390</td>\n",
              "      <td>11.965815</td>\n",
              "    </tr>\n",
              "    <tr>\n",
              "      <th>min</th>\n",
              "      <td>2018.0</td>\n",
              "      <td>1.000000</td>\n",
              "      <td>0.000000</td>\n",
              "      <td>3.300000</td>\n",
              "      <td>NaN</td>\n",
              "      <td>0.000000</td>\n",
              "      <td>0.000000</td>\n",
              "      <td>0.032049</td>\n",
              "      <td>0.000000</td>\n",
              "      <td>0.000000</td>\n",
              "      <td>0.000000</td>\n",
              "      <td>0.548000</td>\n",
              "      <td>0.000000</td>\n",
              "      <td>0.000000</td>\n",
              "      <td>-3.375000</td>\n",
              "      <td>6.375000</td>\n",
              "      <td>-14.750000</td>\n",
              "      <td>0.000000</td>\n",
              "      <td>2.581855</td>\n",
              "      <td>0.000000</td>\n",
              "      <td>0.000000</td>\n",
              "      <td>9.714286</td>\n",
              "    </tr>\n",
              "    <tr>\n",
              "      <th>25%</th>\n",
              "      <td>2018.0</td>\n",
              "      <td>9.000000</td>\n",
              "      <td>1.000000</td>\n",
              "      <td>3.900000</td>\n",
              "      <td>NaN</td>\n",
              "      <td>0.009004</td>\n",
              "      <td>0.003374</td>\n",
              "      <td>0.267507</td>\n",
              "      <td>0.271584</td>\n",
              "      <td>0.293795</td>\n",
              "      <td>1.000000</td>\n",
              "      <td>0.565000</td>\n",
              "      <td>0.056786</td>\n",
              "      <td>0.000000</td>\n",
              "      <td>27.857143</td>\n",
              "      <td>35.571429</td>\n",
              "      <td>19.678571</td>\n",
              "      <td>0.000000</td>\n",
              "      <td>73.463654</td>\n",
              "      <td>0.058333</td>\n",
              "      <td>0.000000</td>\n",
              "      <td>28.500000</td>\n",
              "    </tr>\n",
              "    <tr>\n",
              "      <th>50%</th>\n",
              "      <td>2018.0</td>\n",
              "      <td>17.000000</td>\n",
              "      <td>9.000000</td>\n",
              "      <td>4.400000</td>\n",
              "      <td>NaN</td>\n",
              "      <td>0.017440</td>\n",
              "      <td>0.007548</td>\n",
              "      <td>0.336033</td>\n",
              "      <td>0.391467</td>\n",
              "      <td>0.406973</td>\n",
              "      <td>8.000000</td>\n",
              "      <td>0.585000</td>\n",
              "      <td>0.125714</td>\n",
              "      <td>0.060000</td>\n",
              "      <td>34.785714</td>\n",
              "      <td>42.142857</td>\n",
              "      <td>27.428571</td>\n",
              "      <td>0.142857</td>\n",
              "      <td>118.670179</td>\n",
              "      <td>0.125000</td>\n",
              "      <td>0.042857</td>\n",
              "      <td>35.000000</td>\n",
              "    </tr>\n",
              "    <tr>\n",
              "      <th>75%</th>\n",
              "      <td>2018.0</td>\n",
              "      <td>44.000000</td>\n",
              "      <td>40.750000</td>\n",
              "      <td>4.900000</td>\n",
              "      <td>NaN</td>\n",
              "      <td>0.046315</td>\n",
              "      <td>0.034956</td>\n",
              "      <td>0.473984</td>\n",
              "      <td>0.579788</td>\n",
              "      <td>0.503815</td>\n",
              "      <td>38.000000</td>\n",
              "      <td>0.594000</td>\n",
              "      <td>0.213833</td>\n",
              "      <td>0.714286</td>\n",
              "      <td>43.142857</td>\n",
              "      <td>52.000000</td>\n",
              "      <td>35.714286</td>\n",
              "      <td>2.666667</td>\n",
              "      <td>429.386479</td>\n",
              "      <td>0.208571</td>\n",
              "      <td>0.666667</td>\n",
              "      <td>43.142857</td>\n",
              "    </tr>\n",
              "    <tr>\n",
              "      <th>max</th>\n",
              "      <td>2018.0</td>\n",
              "      <td>52.000000</td>\n",
              "      <td>2401.000000</td>\n",
              "      <td>6.800000</td>\n",
              "      <td>NaN</td>\n",
              "      <td>0.721835</td>\n",
              "      <td>0.704762</td>\n",
              "      <td>1.244567</td>\n",
              "      <td>1.245430</td>\n",
              "      <td>0.983772</td>\n",
              "      <td>2401.000000</td>\n",
              "      <td>0.715000</td>\n",
              "      <td>1.046667</td>\n",
              "      <td>14.000000</td>\n",
              "      <td>71.071429</td>\n",
              "      <td>79.714286</td>\n",
              "      <td>65.285714</td>\n",
              "      <td>27.428571</td>\n",
              "      <td>71340.385458</td>\n",
              "      <td>0.920000</td>\n",
              "      <td>13.000000</td>\n",
              "      <td>71.071429</td>\n",
              "    </tr>\n",
              "  </tbody>\n",
              "</table>\n",
              "</div>"
            ],
            "text/plain": [
              "         year     CDC Week        Count  ...       F_PRCP       F_SNOW       F_TAVG\n",
              "count  2046.0  2046.000000  2046.000000  ...  2046.000000  2046.000000  2046.000000\n",
              "mean   2018.0    24.484848    63.324536  ...     0.144025     0.516013    36.899554\n",
              "std       0.0    18.075190   188.224465  ...     0.109344     1.001390    11.965815\n",
              "min    2018.0     1.000000     0.000000  ...     0.000000     0.000000     9.714286\n",
              "25%    2018.0     9.000000     1.000000  ...     0.058333     0.000000    28.500000\n",
              "50%    2018.0    17.000000     9.000000  ...     0.125000     0.042857    35.000000\n",
              "75%    2018.0    44.000000    40.750000  ...     0.208571     0.666667    43.142857\n",
              "max    2018.0    52.000000  2401.000000  ...     0.920000    13.000000    71.071429\n",
              "\n",
              "[8 rows x 22 columns]"
            ]
          },
          "metadata": {
            "tags": []
          },
          "execution_count": 134
        }
      ]
    },
    {
      "cell_type": "markdown",
      "metadata": {
        "id": "fkIJNJ8z4A9A",
        "colab_type": "text"
      },
      "source": [
        "Handling missing data"
      ]
    },
    {
      "cell_type": "code",
      "metadata": {
        "id": "qzMycM_44EaE",
        "colab_type": "code",
        "colab": {
          "base_uri": "https://localhost:8080/",
          "height": 452
        },
        "outputId": "5e676170-1df5-454f-ea0d-e9ccf9a51af4"
      },
      "source": [
        "def missing_data_handle(dataframe, method = \"drop\"):\n",
        "  if method == \"drop\":\n",
        "    dataframe_updated = dataframe.dropna()\n",
        "    return dataframe_updated\n",
        "  elif method == \"avg_over_month\":\n",
        "    dataframe['Date'] = pd.to_datetime(dataframe['Week Ending Date'])\n",
        "    dataframe_updated = dataframe.fillna(dataframe.groupby(dataframe.Date.dt.month).transform('mean'))\n",
        "    dataframe_updated = dataframe_updated.drop(columns = [\"Date\"])\n",
        "    return dataframe_updated\n",
        "  else:\n",
        "    print(\"Invalid method\")\n",
        "    return dataframe\n",
        "\n",
        "df_master_modified = missing_data_handle(dataframe = df_master_modified, method = \"avg_over_month\")\n",
        "df_test_modified = missing_data_handle(dataframe = df_test, method = \"avg_over_month\")\n",
        "\n",
        "#columns_to_remove = ['Week Ending Date']\n",
        "df_master_modified = df_master_modified.drop(columns = non_features_for_model)\n",
        "df_test_modified = df_test_modified.drop(columns = non_features_for_model)\n",
        "\n",
        "print(df_master_modified.shape)\n",
        "print(df_test_modified.shape)\n",
        "df_test_modified = df_test_modified.fillna(0)\n",
        "df_test_modified.sample(10)"
      ],
      "execution_count": 135,
      "outputs": [
        {
          "output_type": "stream",
          "text": [
            "(16484, 22)\n",
            "(2046, 22)\n"
          ],
          "name": "stdout"
        },
        {
          "output_type": "execute_result",
          "data": {
            "text/html": [
              "<div>\n",
              "<style scoped>\n",
              "    .dataframe tbody tr th:only-of-type {\n",
              "        vertical-align: middle;\n",
              "    }\n",
              "\n",
              "    .dataframe tbody tr th {\n",
              "        vertical-align: top;\n",
              "    }\n",
              "\n",
              "    .dataframe thead th {\n",
              "        text-align: right;\n",
              "    }\n",
              "</style>\n",
              "<table border=\"1\" class=\"dataframe\">\n",
              "  <thead>\n",
              "    <tr style=\"text-align: right;\">\n",
              "      <th></th>\n",
              "      <th>year</th>\n",
              "      <th>CDC Week</th>\n",
              "      <th>Count</th>\n",
              "      <th>UnempRate</th>\n",
              "      <th>GDP_change</th>\n",
              "      <th>flu</th>\n",
              "      <th>fluSymptoms</th>\n",
              "      <th>fever</th>\n",
              "      <th>cough</th>\n",
              "      <th>soreThroat</th>\n",
              "      <th>Target</th>\n",
              "      <th>VaxRate</th>\n",
              "      <th>PRCP</th>\n",
              "      <th>SNOW</th>\n",
              "      <th>TAVG</th>\n",
              "      <th>TMAX</th>\n",
              "      <th>TMIN</th>\n",
              "      <th>SNOWDepth</th>\n",
              "      <th>Density</th>\n",
              "      <th>F_PRCP</th>\n",
              "      <th>F_SNOW</th>\n",
              "      <th>F_TAVG</th>\n",
              "    </tr>\n",
              "    <tr>\n",
              "      <th>Index_column</th>\n",
              "      <th></th>\n",
              "      <th></th>\n",
              "      <th></th>\n",
              "      <th></th>\n",
              "      <th></th>\n",
              "      <th></th>\n",
              "      <th></th>\n",
              "      <th></th>\n",
              "      <th></th>\n",
              "      <th></th>\n",
              "      <th></th>\n",
              "      <th></th>\n",
              "      <th></th>\n",
              "      <th></th>\n",
              "      <th></th>\n",
              "      <th></th>\n",
              "      <th></th>\n",
              "      <th></th>\n",
              "      <th></th>\n",
              "      <th></th>\n",
              "      <th></th>\n",
              "      <th></th>\n",
              "    </tr>\n",
              "  </thead>\n",
              "  <tbody>\n",
              "    <tr>\n",
              "      <th>8276</th>\n",
              "      <td>2018</td>\n",
              "      <td>15</td>\n",
              "      <td>24</td>\n",
              "      <td>4.8</td>\n",
              "      <td>0.0</td>\n",
              "      <td>0.012577</td>\n",
              "      <td>0.009743</td>\n",
              "      <td>0.420890</td>\n",
              "      <td>0.395404</td>\n",
              "      <td>0.433274</td>\n",
              "      <td>9.0</td>\n",
              "      <td>0.594</td>\n",
              "      <td>0.048000</td>\n",
              "      <td>0.050000</td>\n",
              "      <td>32.571429</td>\n",
              "      <td>42.000000</td>\n",
              "      <td>23.142857</td>\n",
              "      <td>0.00</td>\n",
              "      <td>108.110378</td>\n",
              "      <td>0.058571</td>\n",
              "      <td>0.000000</td>\n",
              "      <td>47.428571</td>\n",
              "    </tr>\n",
              "    <tr>\n",
              "      <th>6643</th>\n",
              "      <td>2018</td>\n",
              "      <td>43</td>\n",
              "      <td>0</td>\n",
              "      <td>4.9</td>\n",
              "      <td>0.0</td>\n",
              "      <td>0.045324</td>\n",
              "      <td>0.009261</td>\n",
              "      <td>0.259156</td>\n",
              "      <td>0.271584</td>\n",
              "      <td>0.190556</td>\n",
              "      <td>0.0</td>\n",
              "      <td>0.000</td>\n",
              "      <td>0.331429</td>\n",
              "      <td>0.000000</td>\n",
              "      <td>36.928571</td>\n",
              "      <td>39.000000</td>\n",
              "      <td>34.857143</td>\n",
              "      <td>0.00</td>\n",
              "      <td>43.807520</td>\n",
              "      <td>0.285000</td>\n",
              "      <td>0.000000</td>\n",
              "      <td>36.857143</td>\n",
              "    </tr>\n",
              "    <tr>\n",
              "      <th>13317</th>\n",
              "      <td>2018</td>\n",
              "      <td>16</td>\n",
              "      <td>8</td>\n",
              "      <td>3.9</td>\n",
              "      <td>0.0</td>\n",
              "      <td>0.005749</td>\n",
              "      <td>0.003856</td>\n",
              "      <td>0.283618</td>\n",
              "      <td>0.238315</td>\n",
              "      <td>0.230009</td>\n",
              "      <td>3.0</td>\n",
              "      <td>0.594</td>\n",
              "      <td>0.135000</td>\n",
              "      <td>0.028571</td>\n",
              "      <td>38.785714</td>\n",
              "      <td>47.571429</td>\n",
              "      <td>30.000000</td>\n",
              "      <td>0.00</td>\n",
              "      <td>244.381773</td>\n",
              "      <td>0.163333</td>\n",
              "      <td>0.000000</td>\n",
              "      <td>57.357143</td>\n",
              "    </tr>\n",
              "    <tr>\n",
              "      <th>3618</th>\n",
              "      <td>2018</td>\n",
              "      <td>19</td>\n",
              "      <td>1</td>\n",
              "      <td>5.1</td>\n",
              "      <td>0.0</td>\n",
              "      <td>0.004002</td>\n",
              "      <td>0.001624</td>\n",
              "      <td>0.395999</td>\n",
              "      <td>0.304729</td>\n",
              "      <td>0.381472</td>\n",
              "      <td>0.0</td>\n",
              "      <td>0.594</td>\n",
              "      <td>0.061429</td>\n",
              "      <td>0.000000</td>\n",
              "      <td>54.357143</td>\n",
              "      <td>65.714286</td>\n",
              "      <td>43.000000</td>\n",
              "      <td>0.00</td>\n",
              "      <td>95.883792</td>\n",
              "      <td>0.356667</td>\n",
              "      <td>0.000000</td>\n",
              "      <td>57.142857</td>\n",
              "    </tr>\n",
              "    <tr>\n",
              "      <th>1216</th>\n",
              "      <td>2018</td>\n",
              "      <td>52</td>\n",
              "      <td>24</td>\n",
              "      <td>4.9</td>\n",
              "      <td>0.0</td>\n",
              "      <td>0.032916</td>\n",
              "      <td>0.039960</td>\n",
              "      <td>0.608587</td>\n",
              "      <td>0.964204</td>\n",
              "      <td>0.926744</td>\n",
              "      <td>44.0</td>\n",
              "      <td>0.000</td>\n",
              "      <td>0.092000</td>\n",
              "      <td>0.500000</td>\n",
              "      <td>30.785714</td>\n",
              "      <td>36.428571</td>\n",
              "      <td>25.142857</td>\n",
              "      <td>2.25</td>\n",
              "      <td>271.560140</td>\n",
              "      <td>0.101429</td>\n",
              "      <td>0.766667</td>\n",
              "      <td>19.785714</td>\n",
              "    </tr>\n",
              "    <tr>\n",
              "      <th>12983</th>\n",
              "      <td>2018</td>\n",
              "      <td>18</td>\n",
              "      <td>32</td>\n",
              "      <td>3.6</td>\n",
              "      <td>0.0</td>\n",
              "      <td>0.002541</td>\n",
              "      <td>0.001677</td>\n",
              "      <td>0.341048</td>\n",
              "      <td>0.221446</td>\n",
              "      <td>0.438097</td>\n",
              "      <td>9.0</td>\n",
              "      <td>0.715</td>\n",
              "      <td>0.000000</td>\n",
              "      <td>0.000000</td>\n",
              "      <td>63.642857</td>\n",
              "      <td>73.714286</td>\n",
              "      <td>53.571429</td>\n",
              "      <td>0.00</td>\n",
              "      <td>20997.936055</td>\n",
              "      <td>0.337143</td>\n",
              "      <td>0.000000</td>\n",
              "      <td>61.142857</td>\n",
              "    </tr>\n",
              "    <tr>\n",
              "      <th>18705</th>\n",
              "      <td>2018</td>\n",
              "      <td>47</td>\n",
              "      <td>0</td>\n",
              "      <td>4.1</td>\n",
              "      <td>0.0</td>\n",
              "      <td>0.006260</td>\n",
              "      <td>0.002410</td>\n",
              "      <td>0.289835</td>\n",
              "      <td>0.364375</td>\n",
              "      <td>0.249473</td>\n",
              "      <td>3.0</td>\n",
              "      <td>0.000</td>\n",
              "      <td>0.125000</td>\n",
              "      <td>0.300000</td>\n",
              "      <td>25.642857</td>\n",
              "      <td>32.142857</td>\n",
              "      <td>19.142857</td>\n",
              "      <td>0.50</td>\n",
              "      <td>73.626651</td>\n",
              "      <td>0.000000</td>\n",
              "      <td>0.000000</td>\n",
              "      <td>27.285714</td>\n",
              "    </tr>\n",
              "    <tr>\n",
              "      <th>6026</th>\n",
              "      <td>2018</td>\n",
              "      <td>11</td>\n",
              "      <td>8</td>\n",
              "      <td>4.5</td>\n",
              "      <td>0.0</td>\n",
              "      <td>0.014310</td>\n",
              "      <td>0.010605</td>\n",
              "      <td>0.341928</td>\n",
              "      <td>0.371844</td>\n",
              "      <td>0.402847</td>\n",
              "      <td>3.0</td>\n",
              "      <td>0.585</td>\n",
              "      <td>0.047143</td>\n",
              "      <td>2.500000</td>\n",
              "      <td>26.428571</td>\n",
              "      <td>33.714286</td>\n",
              "      <td>19.142857</td>\n",
              "      <td>0.00</td>\n",
              "      <td>73.383707</td>\n",
              "      <td>0.142857</td>\n",
              "      <td>0.000000</td>\n",
              "      <td>37.214286</td>\n",
              "    </tr>\n",
              "    <tr>\n",
              "      <th>17681</th>\n",
              "      <td>2018</td>\n",
              "      <td>12</td>\n",
              "      <td>35</td>\n",
              "      <td>3.6</td>\n",
              "      <td>0.0</td>\n",
              "      <td>0.013935</td>\n",
              "      <td>0.006698</td>\n",
              "      <td>0.464638</td>\n",
              "      <td>0.444458</td>\n",
              "      <td>0.534729</td>\n",
              "      <td>14.0</td>\n",
              "      <td>0.585</td>\n",
              "      <td>0.000000</td>\n",
              "      <td>1.304365</td>\n",
              "      <td>24.785714</td>\n",
              "      <td>36.857143</td>\n",
              "      <td>12.714286</td>\n",
              "      <td>0.25</td>\n",
              "      <td>216.565891</td>\n",
              "      <td>0.256000</td>\n",
              "      <td>1.833333</td>\n",
              "      <td>31.285714</td>\n",
              "    </tr>\n",
              "    <tr>\n",
              "      <th>15337</th>\n",
              "      <td>2018</td>\n",
              "      <td>20</td>\n",
              "      <td>0</td>\n",
              "      <td>5.1</td>\n",
              "      <td>0.0</td>\n",
              "      <td>0.000000</td>\n",
              "      <td>0.000000</td>\n",
              "      <td>0.193414</td>\n",
              "      <td>0.114547</td>\n",
              "      <td>0.070506</td>\n",
              "      <td>0.0</td>\n",
              "      <td>0.594</td>\n",
              "      <td>0.061429</td>\n",
              "      <td>0.000000</td>\n",
              "      <td>57.714286</td>\n",
              "      <td>68.571429</td>\n",
              "      <td>46.857143</td>\n",
              "      <td>0.00</td>\n",
              "      <td>55.333477</td>\n",
              "      <td>0.228571</td>\n",
              "      <td>0.000000</td>\n",
              "      <td>58.285714</td>\n",
              "    </tr>\n",
              "  </tbody>\n",
              "</table>\n",
              "</div>"
            ],
            "text/plain": [
              "              year  CDC Week  Count  ...    F_PRCP    F_SNOW     F_TAVG\n",
              "Index_column                         ...                               \n",
              "8276          2018        15     24  ...  0.058571  0.000000  47.428571\n",
              "6643          2018        43      0  ...  0.285000  0.000000  36.857143\n",
              "13317         2018        16      8  ...  0.163333  0.000000  57.357143\n",
              "3618          2018        19      1  ...  0.356667  0.000000  57.142857\n",
              "1216          2018        52     24  ...  0.101429  0.766667  19.785714\n",
              "12983         2018        18     32  ...  0.337143  0.000000  61.142857\n",
              "18705         2018        47      0  ...  0.000000  0.000000  27.285714\n",
              "6026          2018        11      8  ...  0.142857  0.000000  37.214286\n",
              "17681         2018        12     35  ...  0.256000  1.833333  31.285714\n",
              "15337         2018        20      0  ...  0.228571  0.000000  58.285714\n",
              "\n",
              "[10 rows x 22 columns]"
            ]
          },
          "metadata": {
            "tags": []
          },
          "execution_count": 135
        }
      ]
    },
    {
      "cell_type": "markdown",
      "metadata": {
        "id": "foe-D0wc4W-L",
        "colab_type": "text"
      },
      "source": [
        "Preprocessing"
      ]
    },
    {
      "cell_type": "code",
      "metadata": {
        "id": "8odVxQYa4Lpo",
        "colab_type": "code",
        "colab": {}
      },
      "source": [
        "#Divide into features and dependent variable \n",
        "X = df_master_modified.copy()\n",
        "X = X.drop(columns = [target_variable])\n",
        "y = df_master_modified[target_variable]\n",
        "\n",
        "#Divide into Training set and test set\n",
        "X_train, X_test, y_train, y_test = model_selection.train_test_split(X, y, test_size=0.2, random_state=0, shuffle = False)\n",
        "\n",
        "\n",
        "#Scaling\n",
        "mm_scaler = sklearn.preprocessing.MinMaxScaler()\n",
        "X_train_scaled = mm_scaler.fit_transform(X_train)\n",
        "X_test_scaled = mm_scaler.transform(X_test)\n",
        "X_test_scaled = mm_scaler.transform(X_test)\n",
        "\n",
        "final_y_test = df_test_modified[target_variable]\n",
        "df_test_modified = df_test_modified.drop(columns = [target_variable])\n",
        "np_test = df_test_modified.to_numpy()\n",
        "final_x_test_scaled = mm_scaler.transform(np_test)"
      ],
      "execution_count": 0,
      "outputs": []
    },
    {
      "cell_type": "markdown",
      "metadata": {
        "id": "Y9W0gTB646kE",
        "colab_type": "text"
      },
      "source": [
        "Linear Regression model\n",
        "with subset of features for base modeling"
      ]
    },
    {
      "cell_type": "code",
      "metadata": {
        "id": "QZAD_NTGtJ15",
        "colab_type": "code",
        "colab": {}
      },
      "source": [
        "#Divide into features and dependent variable \n",
        "sub_features = ['year', 'Count','CDC Week', 'flu' ,'fluSymptoms', 'fever', 'cough', 'soreThroat','VaxRate', 'PRCP', 'SNOW', 'TAVG', 'TMAX', 'TMIN', 'SNOWDepth', 'Density']\n",
        "X_sub = df_master_modified[sub_features]\n",
        "y_sub = df_master_modified[target_variable]\n",
        "\n",
        "#Divide into Training set and test set\n",
        "X_train_sub, X_test_sub, y_train_sub, y_test_sub = model_selection.train_test_split(X_sub, y_sub, test_size=0.2, random_state=0, shuffle = False)\n",
        "\n",
        "#Scaling\n",
        "mm_scaler = sklearn.preprocessing.MinMaxScaler()\n",
        "X_train_scaled_sub = mm_scaler.fit_transform(X_train_sub)\n",
        "X_test_scaled_sub = mm_scaler.transform(X_test_sub)"
      ],
      "execution_count": 0,
      "outputs": []
    },
    {
      "cell_type": "code",
      "metadata": {
        "id": "jVERA4uMZQdE",
        "colab_type": "code",
        "outputId": "37252923-c2a2-475d-8b25-ed90811b79bc",
        "colab": {
          "base_uri": "https://localhost:8080/",
          "height": 54
        }
      },
      "source": [
        "def pred_model_regr_sub(X_train, y_train, X_test, y_test ):\n",
        "  model_regr = linear_model.LinearRegression()\n",
        "  model_regr.fit(X_train, y_train)\n",
        "  y_pred_regression = model_regr.predict(X_test)\n",
        "  Test_r2_score_regression = metrics.r2_score(y_test, y_pred_regression)\n",
        "  print(\"R2 Score for Regression on testing data = {}\" .format(Test_r2_score_regression * 100))\n",
        "\n",
        "  y_train_pred_regression = model_regr.predict(X_train)\n",
        "  Train_r2_score_regression = metrics.r2_score(y_train, y_train_pred_regression)\n",
        "  print(\"R2 Score for Regression on training data = {}\" .format(Train_r2_score_regression * 100))\n",
        "\n",
        "  return model_regr, Test_r2_score_regression, Train_r2_score_regression\n",
        "\n",
        "\n",
        "model_regr, regr_test_score_sub, regr_train_score_sub = pred_model_regr_sub(X_train_scaled_sub, y_train_sub, X_test_scaled_sub, y_test_sub )"
      ],
      "execution_count": 138,
      "outputs": [
        {
          "output_type": "stream",
          "text": [
            "R2 Score for Regression on testing data = 65.68112322810771\n",
            "R2 Score for Regression on training data = 64.79006195405128\n"
          ],
          "name": "stdout"
        }
      ]
    },
    {
      "cell_type": "markdown",
      "metadata": {
        "id": "ge24XymhshUi",
        "colab_type": "text"
      },
      "source": [
        "Test R2 value is too low, opting for regularization \n",
        "LASSO penalizes features to zero if not required but Ridge does not penalize the feature to zero but minimizes them if required"
      ]
    },
    {
      "cell_type": "markdown",
      "metadata": {
        "id": "ZT_Jfm-rp3Qv",
        "colab_type": "text"
      },
      "source": [
        "Ridge Regression"
      ]
    },
    {
      "cell_type": "code",
      "metadata": {
        "id": "8x8alHtEuOR0",
        "colab_type": "code",
        "colab": {
          "base_uri": "https://localhost:8080/",
          "height": 54
        },
        "outputId": "c3849d41-db02-44eb-f59b-6e022632e8a2"
      },
      "source": [
        "def pred_model_ridge_sub(X_train, y_train, X_test, y_test ):\n",
        "  model_ridge_sub = linear_model.Ridge(alpha = 0.8)\n",
        "  model_ridge_sub.fit(X_train, y_train)\n",
        "  y_pred_ridge = model_ridge_sub.predict(X_test)\n",
        "  Test_r2_score_ridge = metrics.r2_score(y_test, y_pred_ridge)\n",
        "  print(\"R2 Score for Ridge Regression with subset features on testing data = {}\" .format(Test_r2_score_ridge * 100))\n",
        "\n",
        "  y_train_pred_ridge = model_ridge_sub.predict(X_train)\n",
        "  Train_r2_score_ridge = metrics.r2_score(y_train, y_train_pred_ridge)\n",
        "  print(\"R2 Score for Ridge Regression with subset features on training data = {}\" .format(Train_r2_score_ridge * 100))\n",
        "\n",
        "  return model_ridge_sub, Test_r2_score_ridge, Train_r2_score_ridge\n",
        "\n",
        "\n",
        "model_ridge_sub, ridge_test_score_sub, ridge_train_score_sub = pred_model_ridge_sub(X_train_scaled_sub, y_train_sub, X_test_scaled_sub, y_test_sub )"
      ],
      "execution_count": 139,
      "outputs": [
        {
          "output_type": "stream",
          "text": [
            "R2 Score for Ridge Regression with subset features on testing data = 65.54600968320766\n",
            "R2 Score for Ridge Regression with subset features on training data = 64.76677283360695\n"
          ],
          "name": "stdout"
        }
      ]
    },
    {
      "cell_type": "markdown",
      "metadata": {
        "id": "PG4msr3nvn__",
        "colab_type": "text"
      },
      "source": [
        "All the features"
      ]
    },
    {
      "cell_type": "code",
      "metadata": {
        "id": "LQJgLjsWvHz8",
        "colab_type": "code",
        "colab": {
          "base_uri": "https://localhost:8080/",
          "height": 54
        },
        "outputId": "cfd34eca-f968-4a9f-cd30-5171f3707df2"
      },
      "source": [
        "def pred_model_regr(X_train, y_train, X_test, y_test ):\n",
        "  model_regr = linear_model.LinearRegression()\n",
        "  model_regr.fit(X_train, y_train)\n",
        "  y_pred_regression = model_regr.predict(X_test)\n",
        "  Test_r2_score_regression = metrics.r2_score(y_test, y_pred_regression)\n",
        "  print(\"R2 Score for Regression on testing data = {}\" .format(Test_r2_score_regression * 100))\n",
        "\n",
        "  y_train_pred_regression = model_regr.predict(X_train)\n",
        "  Train_r2_score_regression = metrics.r2_score(y_train, y_train_pred_regression)\n",
        "  print(\"R2 Score for Regression on training data = {}\" .format(Train_r2_score_regression * 100))\n",
        "\n",
        "  return model_regr, Test_r2_score_regression, Train_r2_score_regression\n",
        "\n",
        "\n",
        "model_regr, regr_test_score, regr_train_score = pred_model_regr(X_train_scaled, y_train, X_test_scaled, y_test )"
      ],
      "execution_count": 120,
      "outputs": [
        {
          "output_type": "stream",
          "text": [
            "R2 Score for Regression on testing data = 65.74098354465687\n",
            "R2 Score for Regression on training data = 64.84138959099128\n"
          ],
          "name": "stdout"
        }
      ]
    },
    {
      "cell_type": "code",
      "metadata": {
        "id": "uj6DOueKp2VA",
        "colab_type": "code",
        "colab": {
          "base_uri": "https://localhost:8080/",
          "height": 54
        },
        "outputId": "cfba8616-a366-4b33-f077-376bc34b3835"
      },
      "source": [
        "def pred_model_ridge(X_train, y_train, X_test, y_test ):\n",
        "  model_ridge = linear_model.Ridge(alpha = 0.2)\n",
        "  model_ridge.fit(X_train, y_train)\n",
        "  y_pred_ridge = model_ridge.predict(X_test)\n",
        "  Test_r2_score_ridge = metrics.r2_score(y_test, y_pred_ridge)\n",
        "  print(\"R2 Score for Ridge Regression on testing data = {}\" .format(Test_r2_score_ridge * 100))\n",
        "\n",
        "  y_train_pred_ridge = model_ridge.predict(X_train)\n",
        "  Train_r2_score_ridge = metrics.r2_score(y_train, y_train_pred_ridge)\n",
        "  print(\"R2 Score for Ridge Regression on training data = {}\" .format(Train_r2_score_ridge * 100))\n",
        "\n",
        "  return model_ridge, Test_r2_score_ridge, Train_r2_score_ridge\n",
        "\n",
        "\n",
        "model_ridge, ridge_test_score, ridge_train_score = pred_model_ridge(X_train_scaled, y_train, X_test_scaled, y_test )"
      ],
      "execution_count": 122,
      "outputs": [
        {
          "output_type": "stream",
          "text": [
            "R2 Score for Ridge Regression on testing data = 65.7120839768282\n",
            "R2 Score for Ridge Regression on training data = 64.8398187261476\n"
          ],
          "name": "stdout"
        }
      ]
    },
    {
      "cell_type": "markdown",
      "metadata": {
        "id": "WNgIjxANs7pn",
        "colab_type": "text"
      },
      "source": [
        "Ridge Regression with all features"
      ]
    },
    {
      "cell_type": "markdown",
      "metadata": {
        "id": "69CQptJThIPQ",
        "colab_type": "text"
      },
      "source": [
        "Stochastic Gradient Descent"
      ]
    },
    {
      "cell_type": "code",
      "metadata": {
        "id": "sTizX3qChHgD",
        "colab_type": "code",
        "colab": {
          "base_uri": "https://localhost:8080/",
          "height": 54
        },
        "outputId": "f81840b5-9602-469d-fa7b-2919b11192ad"
      },
      "source": [
        "def pred_model_sgd(X_train, y_train, X_test, y_test):\n",
        "  model_sgd = linear_model.SGDRegressor()\n",
        "  model_sgd.fit(X_train, y_train)\n",
        "  y_train_pred_sgd = model_sgd.predict(X_test)\n",
        "  Test_r2_score_sgd = metrics.r2_score(y_test, y_train_pred_sgd)\n",
        "  print(\"R2 Score for Stochastic Gradient Descent on testing data = {}\" .format(Test_r2_score_sgd * 100))\n",
        "\n",
        "  y_train_pred_sgd = model_sgd.predict(X_train)\n",
        "  Train_r2_score_sgd = metrics.r2_score(y_train, y_train_pred_sgd)\n",
        "  print(\"R2 Score for Stochastic Gradient Descent on training data = {}\" .format(Train_r2_score_sgd * 100))\n",
        "\n",
        "  return model_sgd, Test_r2_score_sgd, Train_r2_score_sgd\n",
        "\n",
        "model_sgd, sgd_test_score, sgd_test_score = pred_model_sgd(X_train_scaled, y_train, X_test_scaled, y_test )"
      ],
      "execution_count": 123,
      "outputs": [
        {
          "output_type": "stream",
          "text": [
            "R2 Score for Stochastic Gradient Descent on testing data = 65.11344944249058\n",
            "R2 Score for Stochastic Gradient Descent on training data = 64.57048741084175\n"
          ],
          "name": "stdout"
        }
      ]
    },
    {
      "cell_type": "markdown",
      "metadata": {
        "id": "U_Xbu64RiOdn",
        "colab_type": "text"
      },
      "source": [
        "SVM\n",
        "\n",
        "\n"
      ]
    },
    {
      "cell_type": "code",
      "metadata": {
        "id": "4jM2xUOniOpm",
        "colab_type": "code",
        "colab": {
          "base_uri": "https://localhost:8080/",
          "height": 110
        },
        "outputId": "c826dc90-90a8-4b35-c57f-9e8c2666ddc5"
      },
      "source": [
        "def pred_model_SVM(X_train, y_train, X_test, y_test):\n",
        "  model_svm = svm.SVR(max_iter= 1000000)\n",
        "  model_svm.fit(X_train, y_train)\n",
        "  y_train_pred_svm = model_svm.predict(X_test)\n",
        "  Test_r2_score_svm = metrics.r2_score(y_test, y_train_pred_svm)\n",
        "  print(\"R2 Score for Support Vector Machine on testing data = {}\" .format(Test_r2_score_svm * 100))\n",
        "\n",
        "  y_train_pred_svm = model_svm.predict(X_train)\n",
        "  Train_r2_score_svm = metrics.r2_score(y_train, y_train_pred_svm)\n",
        "  print(\"R2 Score for Support Vector Machine on training data = {}\" .format(Train_r2_score_svm * 100))\n",
        "\n",
        "  return model_svm, Test_r2_score_svm, Train_r2_score_svm\n",
        "\n",
        "model_svm, svm_test_score, svm_train_score = pred_model_SVM(X_train_scaled, y_train, X_test_scaled, y_test )"
      ],
      "execution_count": 124,
      "outputs": [
        {
          "output_type": "stream",
          "text": [
            "/usr/local/lib/python3.6/dist-packages/sklearn/svm/base.py:193: FutureWarning: The default value of gamma will change from 'auto' to 'scale' in version 0.22 to account better for unscaled features. Set gamma explicitly to 'auto' or 'scale' to avoid this warning.\n",
            "  \"avoid this warning.\", FutureWarning)\n"
          ],
          "name": "stderr"
        },
        {
          "output_type": "stream",
          "text": [
            "R2 Score for Support Vector Machine on testing data = -0.4480773745281441\n",
            "R2 Score for Support Vector Machine on training data = 1.781047318435891\n"
          ],
          "name": "stdout"
        }
      ]
    },
    {
      "cell_type": "markdown",
      "metadata": {
        "id": "L-kB1fRG55ds",
        "colab_type": "text"
      },
      "source": [
        "Decision Trees"
      ]
    },
    {
      "cell_type": "code",
      "metadata": {
        "id": "Sdx_68mq5491",
        "colab_type": "code",
        "colab": {
          "base_uri": "https://localhost:8080/",
          "height": 54
        },
        "outputId": "a72bf534-5a9d-4cfb-875b-095d03f53163"
      },
      "source": [
        "def pred_model_dt(X_train, y_train, X_test, y_test):\n",
        "  model_dt = tree.DecisionTreeRegressor()\n",
        "  model_dt.fit(X_train, y_train)\n",
        "  y_pred_decisionTree = model_dt.predict(X_test)\n",
        "  Test_r2_score_decisionTree = metrics.r2_score(y_test, y_pred_decisionTree)\n",
        "  print(\"R2 Score for Decision Tree on testing data = {}\" .format(Test_r2_score_decisionTree * 100))\n",
        "\n",
        "  y_train_pred_regression = model_dt.predict(X_train)\n",
        "  Train_r2_score_decisionTree = metrics.r2_score(y_train, y_train_pred_regression)\n",
        "  print(\"R2 Score for Decision Tree on training data = {}\" .format(Train_r2_score_decisionTree * 100))\n",
        "\n",
        "  return model_dt, Test_r2_score_decisionTree, Train_r2_score_decisionTree\n",
        "\n",
        "model_dt, dt_test_score, dt_train_score = pred_model_dt(X_train_scaled, y_train, X_test_scaled, y_test)"
      ],
      "execution_count": 125,
      "outputs": [
        {
          "output_type": "stream",
          "text": [
            "R2 Score for Decision Tree on testing data = 63.6062890301702\n",
            "R2 Score for Decision Tree on training data = 100.0\n"
          ],
          "name": "stdout"
        }
      ]
    },
    {
      "cell_type": "markdown",
      "metadata": {
        "id": "n6aU1xHL7ITf",
        "colab_type": "text"
      },
      "source": [
        "As the R2 score on training data is much better than testing data, we can say that our model suffers from \"High Variance\""
      ]
    },
    {
      "cell_type": "code",
      "metadata": {
        "id": "QLpiBEYe3KGq",
        "colab_type": "code",
        "colab": {
          "base_uri": "https://localhost:8080/",
          "height": 412
        },
        "outputId": "f161efce-6691-4548-c041-1fc4a3684396"
      },
      "source": [
        "model_scores = {\n",
        "    \"Regression\": [regr_test_score, regr_train_score],\n",
        "    \"Stochastic Gradient Descent\": [sgd_test_score, sgd_test_score],\n",
        "    \"SVM\": [svm_test_score, svm_train_score],\n",
        "    \"Decision Trees\": [dt_test_score, dt_train_score]}\n",
        "\n",
        "barWidth = 0.45\n",
        "\n",
        "r1 = np.arange(len(model_scores.keys()))\n",
        "r2 = [x + barWidth for x in r1]\n",
        "\n",
        "plt.bar(r1, [value[1] for key, value in model_scores.items()], color='#7f6d5f', width=barWidth, edgecolor='white', label='Train R2 Score')\n",
        "plt.bar(r2, [max(value[0], -1) for key, value in model_scores.items()], color='#557f2d', width=barWidth, edgecolor='white', label='Test R2 Score')\n",
        "\n",
        "plt.xlabel('Model performances plot', fontweight='bold')\n",
        "plt.xticks([r + barWidth for r in range(len(model_scores.keys()))], [key for key, value in model_scores.items()], rotation = 90)\n",
        "\n",
        "\n",
        "plt.legend(loc=9, bbox_to_anchor=(0.8,0.2))\n",
        "plt.show()"
      ],
      "execution_count": 126,
      "outputs": [
        {
          "output_type": "display_data",
          "data": {
            "image/png": "[encoded data removed]",
            "text/plain": [
              "<Figure size 432x288 with 1 Axes>"
            ]
          },
          "metadata": {
            "tags": []
          }
        }
      ]
    },
    {
      "cell_type": "code",
      "metadata": {
        "id": "aVewFVDv88Hx",
        "colab_type": "code",
        "colab": {
          "base_uri": "https://localhost:8080/",
          "height": 370
        },
        "outputId": "aa2ab676-110e-4922-847b-dc6718a3c3f2"
      },
      "source": [
        "feature_importance = model_dt.feature_importances_\n",
        "feature_importance_sorted = (np.sort(feature_importance))[::-1]\n",
        "print(\"feature_importance = \", feature_importance)\n",
        "\n",
        "y_pos = np.arange(len(feature_importance))\n",
        "plt.bar(y_pos,feature_importance, align='center', alpha=0.5)\n",
        "plt.xticks(y_pos, X_train.columns[:len(feature_importance)])\n",
        "plt.ylabel('Feature importance')\n",
        "plt.title('features')\n",
        "plt.xticks(rotation=60)\n",
        "\n",
        "#plt.rcParams['figure.figsize'] = 50, 100\n",
        "plt.tight_layout()\n",
        "\n",
        "plt.show()\n"
      ],
      "execution_count": 127,
      "outputs": [
        {
          "output_type": "stream",
          "text": [
            "feature_importance =  [0.00360605 0.03844872 0.66304969 0.00664905 0.00381714 0.02219218\n",
            " 0.02532747 0.0109072  0.04262391 0.00831299 0.01778662 0.01221625\n",
            " 0.0057422  0.00918995 0.01866296 0.00839076 0.00900561 0.05322952\n",
            " 0.01028869 0.02003955 0.01051349]\n"
          ],
          "name": "stdout"
        },
        {
          "output_type": "display_data",
          "data": {
            "image/png": "[encoded data removed]",
            "text/plain": [
              "<Figure size 432x288 with 1 Axes>"
            ]
          },
          "metadata": {
            "tags": []
          }
        }
      ]
    },
    {
      "cell_type": "markdown",
      "metadata": {
        "id": "Eq62Z9vNNJKy",
        "colab_type": "text"
      },
      "source": [
        "Selecting best min sample leaf values and min sample split values for decision trees"
      ]
    },
    {
      "cell_type": "code",
      "metadata": {
        "id": "ud-CjmMzFBPM",
        "colab_type": "code",
        "colab": {
          "base_uri": "https://localhost:8080/",
          "height": 54
        },
        "outputId": "a35a6514-d0b2-464f-90db-7ba8a1da3a47"
      },
      "source": [
        "min_samples_split_values = [int(i) for i in np.logspace(1, 12, num=10, base=2)]\n",
        "min_samples_leaf_values = [int(i) for i in np.logspace(1, 12, num=10, base=2)]\n",
        "\n",
        "def testTrees(x_train, x_test, y_train, y_test, split, leaf):\n",
        "    '''\n",
        "    Build a function that takes in tree hyperparams, data and returns accuracy on test data\n",
        "    '''\n",
        "    model = tree.DecisionTreeRegressor(criterion='mse',min_samples_leaf = leaf, min_samples_split = split)\n",
        "    \n",
        "    model.fit(x_train,y_train)\n",
        "    test_p = model.predict(x_test)\n",
        "    train_p = model.predict(x_train)\n",
        "    \n",
        "    test_r2_score = metrics.r2_score(y_test, test_p)\n",
        "    train_r2_score = metrics.r2_score(y_train, train_p)\n",
        "\n",
        "    return train_r2_score, test_r2_score\n",
        " \n",
        "res = dict()\n",
        "train_res = dict()\n",
        "for s in min_samples_leaf_values:\n",
        "    res[s] = list()\n",
        "    train_res[s] = list()\n",
        "\n",
        "for l in min_samples_leaf_values:\n",
        "    for s in min_samples_split_values:\n",
        "        train_r2_score, test_r2_score = testTrees(X_train_scaled, X_test_scaled, y_train, y_test, s, l)\n",
        "        res[s].append(test_r2_score)\n",
        "        train_res[s].append(train_r2_score)\n",
        "\n",
        "#To get the best test score\n",
        "maximum = max(res, key=res.get)\n",
        "print(\"min sample leaf value = {}, sample split value = {} for the best R2 score = {}\" .format(s ,res[maximum].index(max(res[maximum])) , max(res[maximum]) * 100))\n",
        "#To get train value corresponding to best test result\n",
        "optim_dt_test_score = max(res[maximum])\n",
        "optim_dt_train_score = train_res[maximum][res[maximum].index(max(res[maximum]))]\n",
        "print(\"Train R2 score corresponding to best test result = \" ,train_res[maximum][res[maximum].index(max(res[maximum]))] * 100)"
      ],
      "execution_count": 128,
      "outputs": [
        {
          "output_type": "stream",
          "text": [
            "min sample leaf value = 4096, sample split value = 0 for the best R2 score = 70.54165308595137\n",
            "Train R2 score corresponding to best test result =  80.08602501243183\n"
          ],
          "name": "stdout"
        }
      ]
    },
    {
      "cell_type": "markdown",
      "metadata": {
        "id": "Sa9dolABRH1q",
        "colab_type": "text"
      },
      "source": [
        "We can see that the train R2 score is still higher than test score. This could be made better using ensember model"
      ]
    },
    {
      "cell_type": "code",
      "metadata": {
        "id": "MM1GzgeGGZME",
        "colab_type": "code",
        "colab": {
          "base_uri": "https://localhost:8080/",
          "height": 422
        },
        "outputId": "5cc73f3b-c67e-46a3-c725-266e64fa4f51"
      },
      "source": [
        "def r():\n",
        "    return np.random.rand()\n",
        "\n",
        "fig = plt.figure(figsize = (15, 6))\n",
        "ax = fig.add_subplot(111)\n",
        "\n",
        "for l in min_samples_leaf_values:\n",
        "    plt.plot(np.log2(min_samples_split_values), res[l], \n",
        "             color=(r(),r(),r()), label='Leaf={}'.format(np.floor(l)))\n",
        "\n",
        "box = ax.get_position()\n",
        "ax.set_position([box.x0, box.y0, box.width * 0.8, box.height])\n",
        "\n",
        "ax.legend(loc='center left', bbox_to_anchor=(1, 0.5))\n",
        "ax.set_xlabel('Min Split Size - Log2')\n",
        "ax.set_ylabel('Test Set Accuracy')\n",
        "plt.title('Holdout Accuracy by Hyperparameters')"
      ],
      "execution_count": 129,
      "outputs": [
        {
          "output_type": "execute_result",
          "data": {
            "text/plain": [
              "Text(0.5, 1.0, 'Holdout Accuracy by Hyperparameters')"
            ]
          },
          "metadata": {
            "tags": []
          },
          "execution_count": 129
        },
        {
          "output_type": "display_data",
          "data": {
            "image/png": "[encoded data removed]",
            "text/plain": [
              "<Figure size 1080x432 with 1 Axes>"
            ]
          },
          "metadata": {
            "tags": []
          }
        }
      ]
    },
    {
      "cell_type": "code",
      "metadata": {
        "id": "AQyKl6_LavVe",
        "colab_type": "code",
        "outputId": "16edd315-b52a-4b66-c521-2d46564bcc48",
        "colab": {
          "base_uri": "https://localhost:8080/",
          "height": 54
        }
      },
      "source": [
        "def pred_model_rf(X_train, y_train, X_test, y_test):\n",
        "  model_rf = ensemble.RandomForestRegressor(n_estimators = 500)\n",
        "  model_rf.fit(X_train, y_train)\n",
        "  y_train_pred_randomForest = model_rf.predict(X_test)\n",
        "  Test_r2_score_randomForest = metrics.r2_score(y_test, y_train_pred_randomForest)\n",
        "  print(\"R2 Score for Random Forest on testing data = {}\" .format(Test_r2_score_randomForest * 100))\n",
        "\n",
        "  y_train_pred_randomForest = model_rf.predict(X_train)\n",
        "  Train_r2_score_randomForest = metrics.r2_score(y_train, y_train_pred_randomForest)\n",
        "  print(\"R2 Score for Random Forest on training data = {}\" .format(Train_r2_score_randomForest * 100))\n",
        "\n",
        "  return model_rf, Test_r2_score_randomForest, Train_r2_score_randomForest\n",
        "\n",
        "\n",
        "model_rf, rf_test_score, rf_train_score = pred_model_rf(X_train_scaled, y_train, X_test_scaled, y_test )"
      ],
      "execution_count": 130,
      "outputs": [
        {
          "output_type": "stream",
          "text": [
            "R2 Score for Random Forest on testing data = 81.88080466257907\n",
            "R2 Score for Random Forest on training data = 97.33514817786283\n"
          ],
          "name": "stdout"
        }
      ]
    },
    {
      "cell_type": "code",
      "metadata": {
        "id": "Ekx5mQn6eJus",
        "colab_type": "code",
        "colab": {
          "base_uri": "https://localhost:8080/",
          "height": 217
        },
        "outputId": "3bff0279-17ec-4672-bbda-360db304825b"
      },
      "source": [
        "#Hyperparameter tuning\n",
        "def pred_model_rf_hp_tuning(X_train, y_train, X_test, y_test):\n",
        "  best_test_Score = 0\n",
        "  for estimator in range(100,1100,200):\n",
        "    model_rf = ensemble.RandomForestRegressor(n_estimators = estimator)\n",
        "    model_rf.fit(X_train, y_train)\n",
        "    y_train_pred_randomForest = model_rf.predict(X_test)\n",
        "    Test_r2_score_randomForest = metrics.r2_score(y_test, y_train_pred_randomForest)\n",
        "    print(\"R2 Score for Random Forest on testing data = {} for estimator = {}\" .format(Test_r2_score_randomForest * 100, estimator))\n",
        "\n",
        "    y_train_pred_randomForest = model_rf.predict(X_train)\n",
        "    Train_r2_score_randomForest = metrics.r2_score(y_train, y_train_pred_randomForest)\n",
        "    print(\"R2 Score for Random Forest on training data = {}  for estimator = {}\" .format(Train_r2_score_randomForest * 100, estimator))\n",
        "\n",
        "    if best_test_Score < Test_r2_score_randomForest:\n",
        "      best_test_Score = Test_r2_score_randomForest\n",
        "      optimum_estimator = estimator\n",
        "\n",
        "  return optimum_estimator\n",
        "\n",
        "optimum_estimator = pred_model_rf_hp_tuning(X_train_scaled, y_train, X_test_scaled, y_test )\n",
        "print(\"Optimum Estimator Value= \",optimum_estimator )"
      ],
      "execution_count": 131,
      "outputs": [
        {
          "output_type": "stream",
          "text": [
            "R2 Score for Random Forest on testing data = 81.99566308316344 for estimator = 100\n",
            "R2 Score for Random Forest on training data = 97.33118217479185  for estimator = 100\n",
            "R2 Score for Random Forest on testing data = 82.36503682356104 for estimator = 300\n",
            "R2 Score for Random Forest on training data = 97.29637783915425  for estimator = 300\n",
            "R2 Score for Random Forest on testing data = 82.09459574839521 for estimator = 500\n",
            "R2 Score for Random Forest on training data = 97.34941517557351  for estimator = 500\n",
            "R2 Score for Random Forest on testing data = 82.15339714417101 for estimator = 700\n",
            "R2 Score for Random Forest on training data = 97.31094116513482  for estimator = 700\n",
            "R2 Score for Random Forest on testing data = 82.39558428279094 for estimator = 900\n",
            "R2 Score for Random Forest on training data = 97.31694108849697  for estimator = 900\n",
            "Optimum Estimator Value=  900\n"
          ],
          "name": "stdout"
        }
      ]
    },
    {
      "cell_type": "markdown",
      "metadata": {
        "id": "_0G8hxiGPiNz",
        "colab_type": "text"
      },
      "source": [
        "K fold Cross Validation"
      ]
    },
    {
      "cell_type": "code",
      "metadata": {
        "id": "hkZkZThBPuY3",
        "colab_type": "code",
        "colab": {
          "base_uri": "https://localhost:8080/",
          "height": 217
        },
        "outputId": "2dd31fa7-fe5d-4a55-cf39-9c3cf67ebcc4"
      },
      "source": [
        "n_splits = 5\n",
        "tscv = model_selection.TimeSeriesSplit(n_splits=n_splits)\n",
        "split_number = 0\n",
        "best_r2_test = 0\n",
        "\n",
        "r2_score_cv = []\n",
        "for train_index, test_index in tscv.split(X):\n",
        "  split_number += 1\n",
        "  #print(\"TRAIN:\", train_index, \"TEST:\", test_index)\n",
        "  X_train_cv, X_test_cv = X.iloc[train_index], X.iloc[test_index]\n",
        "  y_train_cv, y_test_cv = y.iloc[train_index], y.iloc[test_index]\n",
        "\n",
        "  mm_scaler = sklearn.preprocessing.MinMaxScaler()\n",
        "  X_train_cv_scaled = mm_scaler.fit_transform(X_train_cv)\n",
        "  X_test_cv_scaled = mm_scaler.transform(X_test_cv)\n",
        "\n",
        "  model_rf = sklearn.ensemble.RandomForestRegressor(n_estimators = optimum_estimator)\n",
        "  model_rf.fit(X_train_cv_scaled, y_train_cv)\n",
        "  y_train_pred_randomForest = model_rf.predict(X_test_cv_scaled)\n",
        "  Test_r2_score_randomForest = metrics.r2_score(y_test_cv, y_train_pred_randomForest)\n",
        "  print(\"R2 Score for Random Forest on testing data = {} for split number = {}\" .format(Test_r2_score_randomForest * 100, split_number))\n",
        "\n",
        "  y_train_pred_randomForest = model_rf.predict(X_train_cv_scaled)\n",
        "  Train_r2_score_randomForest = metrics.r2_score(y_train_cv, y_train_pred_randomForest)\n",
        "  print(\"R2 Score for Random Forest on training data = {} for split number = {}\" .format(Train_r2_score_randomForest * 100, split_number))\n",
        "\n",
        "  r2_score_cv.append(Test_r2_score_randomForest)\n",
        "\n",
        "  if Test_r2_score_randomForest > best_r2_test:\n",
        "    best_r2_test = Test_r2_score_randomForest\n",
        "    best_r2_train = Train_r2_score_randomForest\n",
        "    best_split_model = copy.deepcopy(model_rf)\n",
        "    best_split_X_train = X_train_cv.copy()\n",
        "    best_split_X_test = y_train_cv.copy()\n",
        "\n",
        "print(\"R2 Score for the best Random Forest model on testing data = {}\" .format(best_r2_test * 100))"
      ],
      "execution_count": 23,
      "outputs": [
        {
          "output_type": "stream",
          "text": [
            "R2 Score for Random Forest on testing data = 65.06613201147772 for split number = 1\n",
            "R2 Score for Random Forest on training data = 97.85777775273638 for split number = 1\n",
            "R2 Score for Random Forest on testing data = 72.98684777725992 for split number = 2\n",
            "R2 Score for Random Forest on training data = 97.41745734466546 for split number = 2\n",
            "R2 Score for Random Forest on testing data = 84.4977712944538 for split number = 3\n",
            "R2 Score for Random Forest on training data = 97.56328436895886 for split number = 3\n",
            "R2 Score for Random Forest on testing data = 77.48585091878265 for split number = 4\n",
            "R2 Score for Random Forest on training data = 97.88385641372915 for split number = 4\n",
            "R2 Score for Random Forest on testing data = 87.21453445637609 for split number = 5\n",
            "R2 Score for Random Forest on training data = 97.83174960486852 for split number = 5\n",
            "R2 Score for the best Random Forest model on testing data = 87.21453445637609\n"
          ],
          "name": "stdout"
        }
      ]
    },
    {
      "cell_type": "code",
      "metadata": {
        "id": "SVsiwT1dP3EL",
        "colab_type": "code",
        "colab": {
          "base_uri": "https://localhost:8080/",
          "height": 295
        },
        "outputId": "ff6dde0f-9453-43b4-8905-fc62da6d0255"
      },
      "source": [
        "y_pos = np.arange(n_splits)\n",
        "plt.bar(y_pos,r2_score_cv, align='center', alpha=0.5)\n",
        "plt.xticks(y_pos,range(n_splits))\n",
        "plt.ylabel('R2 Score')\n",
        "plt.xlabel('Splits')\n",
        "plt.title('R2 Score Cross Validation')\n",
        "\n",
        "plt.show()"
      ],
      "execution_count": 24,
      "outputs": [
        {
          "output_type": "display_data",
          "data": {
            "image/png": "[encoded data removed]",
            "text/plain": [
              "<Figure size 432x288 with 1 Axes>"
            ]
          },
          "metadata": {
            "tags": []
          }
        }
      ]
    },
    {
      "cell_type": "code",
      "metadata": {
        "id": "Qp5r8CedgfOm",
        "colab_type": "code",
        "colab": {
          "base_uri": "https://localhost:8080/",
          "height": 405
        },
        "outputId": "59fa7433-5fc3-4710-aed8-9e92e1dd92b0"
      },
      "source": [
        "extended_feature_importance = model_rf.feature_importances_\n",
        "\n",
        "extended_feature_dict = {}\n",
        "for i in range(len(feature_importance)):\n",
        "  extended_feature_dict[list(X.columns)[i]] = extended_feature_importance[i]\n",
        "\n",
        "y_pos = np.arange(len(extended_feature_importance))\n",
        "plt.bar(y_pos,extended_feature_importance, align='center', alpha=0.5)\n",
        "plt.xticks(y_pos, X_train.columns[:len(feature_importance)])\n",
        "plt.ylabel('Feature importance')\n",
        "plt.title('features')\n",
        "plt.xticks(rotation=90)\n",
        "\n",
        "plt.figure(figsize=(50,30))\n",
        "#plt.tight_layout()\n",
        "\n",
        "plt.show()"
      ],
      "execution_count": 25,
      "outputs": [
        {
          "output_type": "display_data",
          "data": {
            "image/png": "[encoded data removed]",
            "text/plain": [
              "<Figure size 432x288 with 1 Axes>"
            ]
          },
          "metadata": {
            "tags": []
          }
        },
        {
          "output_type": "display_data",
          "data": {
            "text/plain": [
              "<Figure size 3600x2160 with 0 Axes>"
            ]
          },
          "metadata": {
            "tags": []
          }
        }
      ]
    },
    {
      "cell_type": "code",
      "metadata": {
        "id": "tip3QbwFAnJ3",
        "colab_type": "code",
        "colab": {
          "base_uri": "https://localhost:8080/",
          "height": 377
        },
        "outputId": "c3400745-315d-4d37-a4a0-1af9531ffa96"
      },
      "source": [
        "extended_model_scores = {\n",
        "    \"Linear Regression\": [regr_test_score, regr_train_score],\n",
        "    \"Ridge Regression\" : [ridge_test_score, ridge_train_score],\n",
        "    \"Stochastic Gradient Descent\": [sgd_test_score, sgd_test_score],\n",
        "    \"SVM\": [svm_test_score, svm_train_score],\n",
        "    \"Decision Trees\": [dt_test_score, dt_train_score], \n",
        "    \"Optimised Decision Tree\": [optim_dt_test_score, optim_dt_train_score],\n",
        "    \"Random Forest\": [rf_test_score, rf_train_score],\n",
        "    \"Optimised Random Forest\" : [best_r2_test ,best_r2_train]}\n",
        "\n",
        "barWidth = 0.35\n",
        "\n",
        "r1 = np.arange(len(extended_model_scores.keys()))\n",
        "r2 = [x + barWidth for x in r1]\n",
        "\n",
        "plt.bar(r1, [value[1] for key, value in extended_model_scores.items()], color='#7f6d5f', width=barWidth, edgecolor='white', label='Train R2 Score')\n",
        "plt.bar(r2, [max(value[0],-1) for key, value in extended_model_scores.items()], color='#557f2d', width=barWidth, edgecolor='white', label='Test R2 Score')\n",
        "\n",
        "plt.xlabel('Model performance plot', fontweight='bold')\n",
        "plt.xticks([r + barWidth for r in range(len(extended_model_scores.keys()))], [key for key, value in extended_model_scores.items()], rotation = 45, ha = 'right')\n",
        " \n",
        "plt.legend(loc=9, bbox_to_anchor=(0.8,0.2))\n",
        "plt.show()"
      ],
      "execution_count": 26,
      "outputs": [
        {
          "output_type": "display_data",
          "data": {
            "image/png": "[encoded data removed]",
            "text/plain": [
              "<Figure size 432x288 with 1 Axes>"
            ]
          },
          "metadata": {
            "tags": []
          }
        }
      ]
    },
    {
      "cell_type": "code",
      "metadata": {
        "id": "TETA-WucmZBi",
        "colab_type": "code",
        "colab": {
          "base_uri": "https://localhost:8080/",
          "height": 35
        },
        "outputId": "8d56260e-280c-4243-898f-0cd5ba7a6c0b"
      },
      "source": [
        "y_pred = best_split_model.predict(final_x_test_scaled)\n",
        "Test_r2_score_final = metrics.r2_score(final_y_test, y_pred)\n",
        "print(\"R2 Score on testing data = {}\" .format(Test_r2_score_final * 100))"
      ],
      "execution_count": 36,
      "outputs": [
        {
          "output_type": "stream",
          "text": [
            "R2 Score on testing data = 63.867573561840786\n"
          ],
          "name": "stdout"
        }
      ]
    },
    {
      "cell_type": "code",
      "metadata": {
        "id": "qYS7w8PQC85-",
        "colab_type": "code",
        "colab": {
          "base_uri": "https://localhost:8080/",
          "height": 35
        },
        "outputId": "70ba15df-24dd-4395-ba4e-f7d910a16200"
      },
      "source": [
        "y_pred = model_regr.predict(final_x_test_scaled)\n",
        "Test_r2_score_final = metrics.r2_score(final_y_test, y_pred)\n",
        "print(\"R2 Score on testing data = {}\" .format(Test_r2_score_final * 100))"
      ],
      "execution_count": 132,
      "outputs": [
        {
          "output_type": "stream",
          "text": [
            "R2 Score on testing data = 63.787365369219316\n"
          ],
          "name": "stdout"
        }
      ]
    },
    {
      "cell_type": "code",
      "metadata": {
        "id": "bH8xTYGpdlW1",
        "colab_type": "code",
        "colab": {}
      },
      "source": [
        ""
      ],
      "execution_count": 0,
      "outputs": []
    }
  ]
}