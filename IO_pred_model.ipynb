{
  "nbformat": 4,
  "nbformat_minor": 0,
  "metadata": {
    "colab": {
      "name": "IO_pred_model.ipynb",
      "provenance": [],
      "collapsed_sections": []
    },
    "kernelspec": {
      "name": "python3",
      "display_name": "Python 3"
    },
    "accelerator": "GPU"
  },
  "cells": [
    {
      "cell_type": "code",
      "metadata": {
        "id": "_hyNVLriWD_i",
        "colab_type": "code",
        "colab": {}
      },
      "source": [
        "import pandas as pd\n",
        "import numpy as np\n",
        "import matplotlib.pyplot as plt  \n",
        "import seaborn as seabornInstance \n",
        "\n",
        "import sklearn\n",
        "from sklearn import metrics\n",
        "from sklearn import model_selection\n",
        "from sklearn import linear_model\n",
        "from sklearn import svm\n",
        "from sklearn import ensemble\n",
        "from sklearn import tree\n",
        "\n",
        "import matplotlib.pyplot as plt\n",
        "import copy\n",
        "%matplotlib inline"
      ],
      "execution_count": 0,
      "outputs": []
    },
    {
      "cell_type": "code",
      "metadata": {
        "id": "0Uc9jSi6Wv0G",
        "colab_type": "code",
        "outputId": "52df2557-17f1-4bc0-979b-c0742d5b3a23",
        "colab": {
          "base_uri": "https://localhost:8080/",
          "height": 308
        }
      },
      "source": [
        "df_master = pd.read_csv(\"master.csv\", index_col=0)\n",
        "#df_master = df_master.drop(columns = 'Unnamed:0.1')\n",
        "df_master.describe()"
      ],
      "execution_count": 181,
      "outputs": [
        {
          "output_type": "execute_result",
          "data": {
            "text/html": [
              "<div>\n",
              "<style scoped>\n",
              "    .dataframe tbody tr th:only-of-type {\n",
              "        vertical-align: middle;\n",
              "    }\n",
              "\n",
              "    .dataframe tbody tr th {\n",
              "        vertical-align: top;\n",
              "    }\n",
              "\n",
              "    .dataframe thead th {\n",
              "        text-align: right;\n",
              "    }\n",
              "</style>\n",
              "<table border=\"1\" class=\"dataframe\">\n",
              "  <thead>\n",
              "    <tr style=\"text-align: right;\">\n",
              "      <th></th>\n",
              "      <th>year</th>\n",
              "      <th>CDC Week</th>\n",
              "      <th>FIPS</th>\n",
              "      <th>Count</th>\n",
              "      <th>Disease_INFLUENZA_A</th>\n",
              "      <th>Disease_INFLUENZA_B</th>\n",
              "      <th>Disease_INFLUENZA_UNSPECIFIED</th>\n",
              "      <th>UnempRate</th>\n",
              "      <th>GDP</th>\n",
              "      <th>GDP_change</th>\n",
              "      <th>Population</th>\n",
              "      <th>flu</th>\n",
              "      <th>fluSymptoms</th>\n",
              "      <th>fever</th>\n",
              "      <th>cough</th>\n",
              "      <th>soreThroat</th>\n",
              "      <th>Target</th>\n",
              "      <th>VaxRate</th>\n",
              "      <th>PRCP</th>\n",
              "      <th>SNOW</th>\n",
              "      <th>TAVG</th>\n",
              "      <th>TMAX</th>\n",
              "      <th>TMIN</th>\n",
              "      <th>SNOWDepth</th>\n",
              "      <th>F_PRCP</th>\n",
              "      <th>F_SNOW</th>\n",
              "      <th>F_TAVG</th>\n",
              "    </tr>\n",
              "  </thead>\n",
              "  <tbody>\n",
              "    <tr>\n",
              "      <th>count</th>\n",
              "      <td>20080.000000</td>\n",
              "      <td>20080.000000</td>\n",
              "      <td>20080.000000</td>\n",
              "      <td>20080.000000</td>\n",
              "      <td>20080.000000</td>\n",
              "      <td>20080.000000</td>\n",
              "      <td>20080.000000</td>\n",
              "      <td>18530.000000</td>\n",
              "      <td>7.432000e+03</td>\n",
              "      <td>5386.000000</td>\n",
              "      <td>1.778600e+04</td>\n",
              "      <td>18592.000000</td>\n",
              "      <td>18592.000000</td>\n",
              "      <td>18592.000000</td>\n",
              "      <td>18592.000000</td>\n",
              "      <td>18592.000000</td>\n",
              "      <td>19956.000000</td>\n",
              "      <td>9540.000000</td>\n",
              "      <td>20080.000000</td>\n",
              "      <td>20080.000000</td>\n",
              "      <td>20080.000000</td>\n",
              "      <td>20080.000000</td>\n",
              "      <td>20080.000000</td>\n",
              "      <td>20080.000000</td>\n",
              "      <td>19956.000000</td>\n",
              "      <td>19956.000000</td>\n",
              "      <td>19956.000000</td>\n",
              "    </tr>\n",
              "    <tr>\n",
              "      <th>mean</th>\n",
              "      <td>2014.174402</td>\n",
              "      <td>24.816434</td>\n",
              "      <td>36063.424900</td>\n",
              "      <td>26.010458</td>\n",
              "      <td>20.003088</td>\n",
              "      <td>5.811604</td>\n",
              "      <td>0.195767</td>\n",
              "      <td>6.718840</td>\n",
              "      <td>2.319177e+07</td>\n",
              "      <td>1.283420</td>\n",
              "      <td>3.236327e+05</td>\n",
              "      <td>0.026605</td>\n",
              "      <td>0.020833</td>\n",
              "      <td>0.287768</td>\n",
              "      <td>0.256351</td>\n",
              "      <td>0.260344</td>\n",
              "      <td>26.124424</td>\n",
              "      <td>0.555987</td>\n",
              "      <td>0.131557</td>\n",
              "      <td>0.484755</td>\n",
              "      <td>37.844781</td>\n",
              "      <td>46.809265</td>\n",
              "      <td>28.886304</td>\n",
              "      <td>2.103956</td>\n",
              "      <td>0.131296</td>\n",
              "      <td>0.487767</td>\n",
              "      <td>37.756891</td>\n",
              "    </tr>\n",
              "    <tr>\n",
              "      <th>std</th>\n",
              "      <td>2.992755</td>\n",
              "      <td>18.086529</td>\n",
              "      <td>35.586314</td>\n",
              "      <td>88.217416</td>\n",
              "      <td>68.727437</td>\n",
              "      <td>29.215823</td>\n",
              "      <td>1.604029</td>\n",
              "      <td>1.915021</td>\n",
              "      <td>8.214317e+07</td>\n",
              "      <td>3.383907</td>\n",
              "      <td>5.484115e+05</td>\n",
              "      <td>0.090495</td>\n",
              "      <td>0.079796</td>\n",
              "      <td>0.149518</td>\n",
              "      <td>0.178057</td>\n",
              "      <td>0.168710</td>\n",
              "      <td>88.469715</td>\n",
              "      <td>0.089235</td>\n",
              "      <td>0.130011</td>\n",
              "      <td>1.029249</td>\n",
              "      <td>13.171385</td>\n",
              "      <td>13.964036</td>\n",
              "      <td>12.856703</td>\n",
              "      <td>4.154272</td>\n",
              "      <td>0.130091</td>\n",
              "      <td>1.031730</td>\n",
              "      <td>13.161972</td>\n",
              "    </tr>\n",
              "    <tr>\n",
              "      <th>min</th>\n",
              "      <td>2009.000000</td>\n",
              "      <td>1.000000</td>\n",
              "      <td>36001.000000</td>\n",
              "      <td>0.000000</td>\n",
              "      <td>0.000000</td>\n",
              "      <td>0.000000</td>\n",
              "      <td>0.000000</td>\n",
              "      <td>3.300000</td>\n",
              "      <td>1.221810e+05</td>\n",
              "      <td>-9.800000</td>\n",
              "      <td>4.434000e+03</td>\n",
              "      <td>0.000000</td>\n",
              "      <td>0.000000</td>\n",
              "      <td>0.000000</td>\n",
              "      <td>0.000000</td>\n",
              "      <td>0.000000</td>\n",
              "      <td>0.000000</td>\n",
              "      <td>0.337000</td>\n",
              "      <td>0.000000</td>\n",
              "      <td>0.000000</td>\n",
              "      <td>-5.785714</td>\n",
              "      <td>6.375000</td>\n",
              "      <td>-23.142857</td>\n",
              "      <td>0.000000</td>\n",
              "      <td>0.000000</td>\n",
              "      <td>0.000000</td>\n",
              "      <td>-5.785714</td>\n",
              "    </tr>\n",
              "    <tr>\n",
              "      <th>25%</th>\n",
              "      <td>2012.000000</td>\n",
              "      <td>9.000000</td>\n",
              "      <td>36033.000000</td>\n",
              "      <td>0.000000</td>\n",
              "      <td>0.000000</td>\n",
              "      <td>0.000000</td>\n",
              "      <td>0.000000</td>\n",
              "      <td>5.000000</td>\n",
              "      <td>1.497613e+06</td>\n",
              "      <td>-0.600000</td>\n",
              "      <td>5.030000e+04</td>\n",
              "      <td>0.002475</td>\n",
              "      <td>0.001258</td>\n",
              "      <td>0.204321</td>\n",
              "      <td>0.139920</td>\n",
              "      <td>0.140832</td>\n",
              "      <td>0.000000</td>\n",
              "      <td>0.520000</td>\n",
              "      <td>0.038333</td>\n",
              "      <td>0.000000</td>\n",
              "      <td>28.250000</td>\n",
              "      <td>36.000000</td>\n",
              "      <td>20.285714</td>\n",
              "      <td>0.000000</td>\n",
              "      <td>0.038000</td>\n",
              "      <td>0.000000</td>\n",
              "      <td>28.214286</td>\n",
              "    </tr>\n",
              "    <tr>\n",
              "      <th>50%</th>\n",
              "      <td>2014.000000</td>\n",
              "      <td>17.000000</td>\n",
              "      <td>36065.000000</td>\n",
              "      <td>2.000000</td>\n",
              "      <td>1.000000</td>\n",
              "      <td>0.000000</td>\n",
              "      <td>0.000000</td>\n",
              "      <td>6.700000</td>\n",
              "      <td>3.190219e+06</td>\n",
              "      <td>1.300000</td>\n",
              "      <td>9.235000e+04</td>\n",
              "      <td>0.005558</td>\n",
              "      <td>0.002965</td>\n",
              "      <td>0.271068</td>\n",
              "      <td>0.221400</td>\n",
              "      <td>0.247043</td>\n",
              "      <td>2.000000</td>\n",
              "      <td>0.591000</td>\n",
              "      <td>0.100000</td>\n",
              "      <td>0.000000</td>\n",
              "      <td>37.714286</td>\n",
              "      <td>46.000000</td>\n",
              "      <td>29.285714</td>\n",
              "      <td>0.000000</td>\n",
              "      <td>0.100000</td>\n",
              "      <td>0.000000</td>\n",
              "      <td>37.571429</td>\n",
              "    </tr>\n",
              "    <tr>\n",
              "      <th>75%</th>\n",
              "      <td>2017.000000</td>\n",
              "      <td>44.000000</td>\n",
              "      <td>36095.000000</td>\n",
              "      <td>14.000000</td>\n",
              "      <td>10.000000</td>\n",
              "      <td>2.000000</td>\n",
              "      <td>0.000000</td>\n",
              "      <td>8.200000</td>\n",
              "      <td>1.068296e+07</td>\n",
              "      <td>3.300000</td>\n",
              "      <td>2.342030e+05</td>\n",
              "      <td>0.013376</td>\n",
              "      <td>0.008617</td>\n",
              "      <td>0.355073</td>\n",
              "      <td>0.332691</td>\n",
              "      <td>0.364779</td>\n",
              "      <td>15.000000</td>\n",
              "      <td>0.620000</td>\n",
              "      <td>0.186667</td>\n",
              "      <td>0.540000</td>\n",
              "      <td>48.214286</td>\n",
              "      <td>58.142857</td>\n",
              "      <td>38.285714</td>\n",
              "      <td>2.428571</td>\n",
              "      <td>0.185714</td>\n",
              "      <td>0.550000</td>\n",
              "      <td>48.000000</td>\n",
              "    </tr>\n",
              "    <tr>\n",
              "      <th>max</th>\n",
              "      <td>2019.000000</td>\n",
              "      <td>53.000000</td>\n",
              "      <td>36123.000000</td>\n",
              "      <td>2401.000000</td>\n",
              "      <td>1213.000000</td>\n",
              "      <td>1166.000000</td>\n",
              "      <td>92.000000</td>\n",
              "      <td>12.400000</td>\n",
              "      <td>6.296820e+08</td>\n",
              "      <td>12.600000</td>\n",
              "      <td>2.611232e+06</td>\n",
              "      <td>1.000000</td>\n",
              "      <td>0.915000</td>\n",
              "      <td>1.244567</td>\n",
              "      <td>1.245430</td>\n",
              "      <td>1.016013</td>\n",
              "      <td>2401.000000</td>\n",
              "      <td>0.721000</td>\n",
              "      <td>2.820000</td>\n",
              "      <td>15.000000</td>\n",
              "      <td>72.928571</td>\n",
              "      <td>85.714286</td>\n",
              "      <td>65.285714</td>\n",
              "      <td>38.285714</td>\n",
              "      <td>2.820000</td>\n",
              "      <td>15.000000</td>\n",
              "      <td>72.928571</td>\n",
              "    </tr>\n",
              "  </tbody>\n",
              "</table>\n",
              "</div>"
            ],
            "text/plain": [
              "               year      CDC Week  ...        F_SNOW        F_TAVG\n",
              "count  20080.000000  20080.000000  ...  19956.000000  19956.000000\n",
              "mean    2014.174402     24.816434  ...      0.487767     37.756891\n",
              "std        2.992755     18.086529  ...      1.031730     13.161972\n",
              "min     2009.000000      1.000000  ...      0.000000     -5.785714\n",
              "25%     2012.000000      9.000000  ...      0.000000     28.214286\n",
              "50%     2014.000000     17.000000  ...      0.000000     37.571429\n",
              "75%     2017.000000     44.000000  ...      0.550000     48.000000\n",
              "max     2019.000000     53.000000  ...     15.000000     72.928571\n",
              "\n",
              "[8 rows x 27 columns]"
            ]
          },
          "metadata": {
            "tags": []
          },
          "execution_count": 181
        }
      ]
    },
    {
      "cell_type": "code",
      "metadata": {
        "id": "vPRFvIZqtNEe",
        "colab_type": "code",
        "colab": {
          "base_uri": "https://localhost:8080/",
          "height": 92
        },
        "outputId": "096c8c22-e112-4d70-ace0-812ff3fbf54b"
      },
      "source": [
        "columns = list(df_master.columns)\n",
        "print(\"Columns in dataframe = \", columns)\n",
        "columns_to_drop = ['County','FIPS', 'County Centroid', 'Disease_INFLUENZA_A','Disease_INFLUENZA_B', 'Disease_INFLUENZA_UNSPECIFIED', 'GDP', 'Population', 'TMAX', 'TMIN'] \n",
        "columns = [x for x in columns if x not in columns_to_drop]\n",
        "print(\"columns = \", columns)\n",
        "\n",
        "target_variable = 'Target'\n",
        "non_features_for_model = ['Week Ending Date']\n",
        "features = [x for x in columns if x not in non_features_for_model]\n",
        "print(\"features = \", features)"
      ],
      "execution_count": 182,
      "outputs": [
        {
          "output_type": "stream",
          "text": [
            "Columns in dataframe =  ['County', 'year', 'CDC Week', 'FIPS', 'County Centroid', 'Week Ending Date', 'Count', 'Disease_INFLUENZA_A', 'Disease_INFLUENZA_B', 'Disease_INFLUENZA_UNSPECIFIED', 'UnempRate', 'GDP', 'GDP_change', 'Population', 'flu', 'fluSymptoms', 'fever', 'cough', 'soreThroat', 'Target', 'VaxRate', 'PRCP', 'SNOW', 'TAVG', 'TMAX', 'TMIN', 'SNOWDepth', 'Density', 'F_PRCP', 'F_SNOW', 'F_TAVG']\n",
            "columns =  ['year', 'CDC Week', 'Week Ending Date', 'Count', 'UnempRate', 'GDP_change', 'flu', 'fluSymptoms', 'fever', 'cough', 'soreThroat', 'Target', 'VaxRate', 'PRCP', 'SNOW', 'TAVG', 'SNOWDepth', 'Density', 'F_PRCP', 'F_SNOW', 'F_TAVG']\n",
            "features =  ['year', 'CDC Week', 'Count', 'UnempRate', 'GDP_change', 'flu', 'fluSymptoms', 'fever', 'cough', 'soreThroat', 'Target', 'VaxRate', 'PRCP', 'SNOW', 'TAVG', 'SNOWDepth', 'Density', 'F_PRCP', 'F_SNOW', 'F_TAVG']\n"
          ],
          "name": "stdout"
        }
      ]
    },
    {
      "cell_type": "code",
      "metadata": {
        "id": "UGgxBkkAwHei",
        "colab_type": "code",
        "colab": {
          "base_uri": "https://localhost:8080/",
          "height": 500
        },
        "outputId": "be9cce72-2b77-4ada-9f38-26e11c49cfd4"
      },
      "source": [
        "df_master_modified = df_master[columns]\n",
        "\n",
        "for column in df_master_modified.columns:\n",
        "  if column not in ['Week Ending Date']:#, 'County']:\n",
        "    df_master_modified[column] = pd.to_numeric(df_master_modified[column],errors='coerce')\n",
        "print(\"Shape of dataframe = \", df_master_modified.shape)\n",
        "\n",
        "\n",
        "#df_master_modified = pd.get_dummies(df_master_modified, columns=['County'])\n",
        "#df_master_modified = df_master_modified.drop(columns = ['County_YATES'])\n",
        "df_master_modified.sample(8)"
      ],
      "execution_count": 183,
      "outputs": [
        {
          "output_type": "stream",
          "text": [
            "Shape of dataframe =  (20080, 21)\n"
          ],
          "name": "stdout"
        },
        {
          "output_type": "stream",
          "text": [
            "/usr/local/lib/python3.6/dist-packages/ipykernel_launcher.py:5: SettingWithCopyWarning: \n",
            "A value is trying to be set on a copy of a slice from a DataFrame.\n",
            "Try using .loc[row_indexer,col_indexer] = value instead\n",
            "\n",
            "See the caveats in the documentation: http://pandas.pydata.org/pandas-docs/stable/user_guide/indexing.html#returning-a-view-versus-a-copy\n",
            "  \"\"\"\n"
          ],
          "name": "stderr"
        },
        {
          "output_type": "execute_result",
          "data": {
            "text/html": [
              "<div>\n",
              "<style scoped>\n",
              "    .dataframe tbody tr th:only-of-type {\n",
              "        vertical-align: middle;\n",
              "    }\n",
              "\n",
              "    .dataframe tbody tr th {\n",
              "        vertical-align: top;\n",
              "    }\n",
              "\n",
              "    .dataframe thead th {\n",
              "        text-align: right;\n",
              "    }\n",
              "</style>\n",
              "<table border=\"1\" class=\"dataframe\">\n",
              "  <thead>\n",
              "    <tr style=\"text-align: right;\">\n",
              "      <th></th>\n",
              "      <th>year</th>\n",
              "      <th>CDC Week</th>\n",
              "      <th>Week Ending Date</th>\n",
              "      <th>Count</th>\n",
              "      <th>UnempRate</th>\n",
              "      <th>GDP_change</th>\n",
              "      <th>flu</th>\n",
              "      <th>fluSymptoms</th>\n",
              "      <th>fever</th>\n",
              "      <th>cough</th>\n",
              "      <th>soreThroat</th>\n",
              "      <th>Target</th>\n",
              "      <th>VaxRate</th>\n",
              "      <th>PRCP</th>\n",
              "      <th>SNOW</th>\n",
              "      <th>TAVG</th>\n",
              "      <th>SNOWDepth</th>\n",
              "      <th>Density</th>\n",
              "      <th>F_PRCP</th>\n",
              "      <th>F_SNOW</th>\n",
              "      <th>F_TAVG</th>\n",
              "    </tr>\n",
              "    <tr>\n",
              "      <th>Index_column</th>\n",
              "      <th></th>\n",
              "      <th></th>\n",
              "      <th></th>\n",
              "      <th></th>\n",
              "      <th></th>\n",
              "      <th></th>\n",
              "      <th></th>\n",
              "      <th></th>\n",
              "      <th></th>\n",
              "      <th></th>\n",
              "      <th></th>\n",
              "      <th></th>\n",
              "      <th></th>\n",
              "      <th></th>\n",
              "      <th></th>\n",
              "      <th></th>\n",
              "      <th></th>\n",
              "      <th></th>\n",
              "      <th></th>\n",
              "      <th></th>\n",
              "      <th></th>\n",
              "    </tr>\n",
              "  </thead>\n",
              "  <tbody>\n",
              "    <tr>\n",
              "      <th>919</th>\n",
              "      <td>2019</td>\n",
              "      <td>5</td>\n",
              "      <td>02/02/2019</td>\n",
              "      <td>816</td>\n",
              "      <td>NaN</td>\n",
              "      <td>NaN</td>\n",
              "      <td>NaN</td>\n",
              "      <td>NaN</td>\n",
              "      <td>NaN</td>\n",
              "      <td>NaN</td>\n",
              "      <td>NaN</td>\n",
              "      <td>934.0</td>\n",
              "      <td>NaN</td>\n",
              "      <td>0.045000</td>\n",
              "      <td>0.033333</td>\n",
              "      <td>26.142857</td>\n",
              "      <td>0.142857</td>\n",
              "      <td>NaN</td>\n",
              "      <td>0.114286</td>\n",
              "      <td>0.250000</td>\n",
              "      <td>37.214286</td>\n",
              "    </tr>\n",
              "    <tr>\n",
              "      <th>10128</th>\n",
              "      <td>2013</td>\n",
              "      <td>17</td>\n",
              "      <td>04/27/2013</td>\n",
              "      <td>8</td>\n",
              "      <td>7.4</td>\n",
              "      <td>-2.8</td>\n",
              "      <td>0.001485</td>\n",
              "      <td>0.001440</td>\n",
              "      <td>0.188480</td>\n",
              "      <td>0.073538</td>\n",
              "      <td>0.242393</td>\n",
              "      <td>11.0</td>\n",
              "      <td>NaN</td>\n",
              "      <td>0.130000</td>\n",
              "      <td>0.006250</td>\n",
              "      <td>46.214286</td>\n",
              "      <td>0.000000</td>\n",
              "      <td>192.469668</td>\n",
              "      <td>0.034286</td>\n",
              "      <td>0.000000</td>\n",
              "      <td>57.071429</td>\n",
              "    </tr>\n",
              "    <tr>\n",
              "      <th>14871</th>\n",
              "      <td>2014</td>\n",
              "      <td>42</td>\n",
              "      <td>10/18/2014</td>\n",
              "      <td>0</td>\n",
              "      <td>6.7</td>\n",
              "      <td>-0.4</td>\n",
              "      <td>0.022806</td>\n",
              "      <td>0.004881</td>\n",
              "      <td>0.362294</td>\n",
              "      <td>0.267058</td>\n",
              "      <td>0.425572</td>\n",
              "      <td>0.0</td>\n",
              "      <td>0.385</td>\n",
              "      <td>0.040000</td>\n",
              "      <td>0.000000</td>\n",
              "      <td>59.000000</td>\n",
              "      <td>0.000000</td>\n",
              "      <td>96.771541</td>\n",
              "      <td>0.051429</td>\n",
              "      <td>0.000000</td>\n",
              "      <td>47.428571</td>\n",
              "    </tr>\n",
              "    <tr>\n",
              "      <th>3969</th>\n",
              "      <td>2009</td>\n",
              "      <td>49</td>\n",
              "      <td>12/12/2009</td>\n",
              "      <td>7</td>\n",
              "      <td>7.7</td>\n",
              "      <td>NaN</td>\n",
              "      <td>0.019800</td>\n",
              "      <td>0.016618</td>\n",
              "      <td>0.222430</td>\n",
              "      <td>0.108240</td>\n",
              "      <td>0.106470</td>\n",
              "      <td>6.0</td>\n",
              "      <td>NaN</td>\n",
              "      <td>0.341667</td>\n",
              "      <td>3.500000</td>\n",
              "      <td>42.916667</td>\n",
              "      <td>2.000000</td>\n",
              "      <td>NaN</td>\n",
              "      <td>0.144000</td>\n",
              "      <td>0.800000</td>\n",
              "      <td>24.666667</td>\n",
              "    </tr>\n",
              "    <tr>\n",
              "      <th>1381</th>\n",
              "      <td>2013</td>\n",
              "      <td>47</td>\n",
              "      <td>11/23/2013</td>\n",
              "      <td>0</td>\n",
              "      <td>8.5</td>\n",
              "      <td>2.2</td>\n",
              "      <td>0.006641</td>\n",
              "      <td>0.003958</td>\n",
              "      <td>0.168265</td>\n",
              "      <td>0.254911</td>\n",
              "      <td>0.194204</td>\n",
              "      <td>0.0</td>\n",
              "      <td>0.505</td>\n",
              "      <td>0.051429</td>\n",
              "      <td>0.416667</td>\n",
              "      <td>33.357143</td>\n",
              "      <td>3.600000</td>\n",
              "      <td>60.381396</td>\n",
              "      <td>0.008333</td>\n",
              "      <td>0.416667</td>\n",
              "      <td>31.214286</td>\n",
              "    </tr>\n",
              "    <tr>\n",
              "      <th>19902</th>\n",
              "      <td>2014</td>\n",
              "      <td>14</td>\n",
              "      <td>04/05/2014</td>\n",
              "      <td>0</td>\n",
              "      <td>5.7</td>\n",
              "      <td>0.3</td>\n",
              "      <td>0.006035</td>\n",
              "      <td>0.011607</td>\n",
              "      <td>0.265579</td>\n",
              "      <td>0.166886</td>\n",
              "      <td>0.301049</td>\n",
              "      <td>0.0</td>\n",
              "      <td>0.631</td>\n",
              "      <td>0.041429</td>\n",
              "      <td>0.171429</td>\n",
              "      <td>37.428571</td>\n",
              "      <td>0.142857</td>\n",
              "      <td>74.371562</td>\n",
              "      <td>0.114286</td>\n",
              "      <td>0.171429</td>\n",
              "      <td>45.714286</td>\n",
              "    </tr>\n",
              "    <tr>\n",
              "      <th>18059</th>\n",
              "      <td>2019</td>\n",
              "      <td>40</td>\n",
              "      <td>10/05/2019</td>\n",
              "      <td>1</td>\n",
              "      <td>NaN</td>\n",
              "      <td>NaN</td>\n",
              "      <td>NaN</td>\n",
              "      <td>NaN</td>\n",
              "      <td>NaN</td>\n",
              "      <td>NaN</td>\n",
              "      <td>NaN</td>\n",
              "      <td>0.0</td>\n",
              "      <td>NaN</td>\n",
              "      <td>0.085714</td>\n",
              "      <td>0.000000</td>\n",
              "      <td>58.142857</td>\n",
              "      <td>0.000000</td>\n",
              "      <td>NaN</td>\n",
              "      <td>0.357143</td>\n",
              "      <td>0.000000</td>\n",
              "      <td>51.214286</td>\n",
              "    </tr>\n",
              "    <tr>\n",
              "      <th>11362</th>\n",
              "      <td>2010</td>\n",
              "      <td>7</td>\n",
              "      <td>02/20/2010</td>\n",
              "      <td>0</td>\n",
              "      <td>9.6</td>\n",
              "      <td>NaN</td>\n",
              "      <td>0.003864</td>\n",
              "      <td>0.004914</td>\n",
              "      <td>0.249120</td>\n",
              "      <td>0.139860</td>\n",
              "      <td>0.213150</td>\n",
              "      <td>0.0</td>\n",
              "      <td>NaN</td>\n",
              "      <td>0.010000</td>\n",
              "      <td>0.671429</td>\n",
              "      <td>29.333333</td>\n",
              "      <td>2.571429</td>\n",
              "      <td>109.497521</td>\n",
              "      <td>0.002857</td>\n",
              "      <td>0.014286</td>\n",
              "      <td>31.642857</td>\n",
              "    </tr>\n",
              "  </tbody>\n",
              "</table>\n",
              "</div>"
            ],
            "text/plain": [
              "              year  CDC Week Week Ending Date  ...    F_PRCP    F_SNOW     F_TAVG\n",
              "Index_column                                   ...                               \n",
              "919           2019         5       02/02/2019  ...  0.114286  0.250000  37.214286\n",
              "10128         2013        17       04/27/2013  ...  0.034286  0.000000  57.071429\n",
              "14871         2014        42       10/18/2014  ...  0.051429  0.000000  47.428571\n",
              "3969          2009        49       12/12/2009  ...  0.144000  0.800000  24.666667\n",
              "1381          2013        47       11/23/2013  ...  0.008333  0.416667  31.214286\n",
              "19902         2014        14       04/05/2014  ...  0.114286  0.171429  45.714286\n",
              "18059         2019        40       10/05/2019  ...  0.357143  0.000000  51.214286\n",
              "11362         2010         7       02/20/2010  ...  0.002857  0.014286  31.642857\n",
              "\n",
              "[8 rows x 21 columns]"
            ]
          },
          "metadata": {
            "tags": []
          },
          "execution_count": 183
        }
      ]
    },
    {
      "cell_type": "code",
      "metadata": {
        "id": "yFDcK2Bv1akK",
        "colab_type": "code",
        "colab": {
          "base_uri": "https://localhost:8080/",
          "height": 345
        },
        "outputId": "f0152cd9-637f-4b5e-bda8-ca0b31c43dd9"
      },
      "source": [
        "#Copying all the rows with year == 2018 to df_test\n",
        "\n",
        "df_test = df_master_modified.loc[df_master_modified['year'] == 2017]\n",
        "print(df_master_modified.shape)\n",
        "\n",
        "#Deleting all the rows with year == 2018 from County onehot encoded master dataframe\n",
        "df_master_modified = df_master_modified.drop(list(np.where(df_master_modified['year'] == 2017)[0]))\n",
        "df_master_modified = df_master_modified.reset_index(drop=True)\n",
        "df_master_modified = df_master_modified.drop(list(np.where(df_master_modified['year'] == 2018)[0]))\n",
        "df_master_modified = df_master_modified.reset_index(drop=True)\n",
        "df_master_modified = df_master_modified.drop(list(np.where(df_master_modified['year'] == 2019)[0]))\n",
        "print(df_master_modified.shape)\n",
        "df_test.describe()"
      ],
      "execution_count": 184,
      "outputs": [
        {
          "output_type": "stream",
          "text": [
            "(20080, 21)\n",
            "(14438, 21)\n"
          ],
          "name": "stdout"
        },
        {
          "output_type": "execute_result",
          "data": {
            "text/html": [
              "<div>\n",
              "<style scoped>\n",
              "    .dataframe tbody tr th:only-of-type {\n",
              "        vertical-align: middle;\n",
              "    }\n",
              "\n",
              "    .dataframe tbody tr th {\n",
              "        vertical-align: top;\n",
              "    }\n",
              "\n",
              "    .dataframe thead th {\n",
              "        text-align: right;\n",
              "    }\n",
              "</style>\n",
              "<table border=\"1\" class=\"dataframe\">\n",
              "  <thead>\n",
              "    <tr style=\"text-align: right;\">\n",
              "      <th></th>\n",
              "      <th>year</th>\n",
              "      <th>CDC Week</th>\n",
              "      <th>Count</th>\n",
              "      <th>UnempRate</th>\n",
              "      <th>GDP_change</th>\n",
              "      <th>flu</th>\n",
              "      <th>fluSymptoms</th>\n",
              "      <th>fever</th>\n",
              "      <th>cough</th>\n",
              "      <th>soreThroat</th>\n",
              "      <th>Target</th>\n",
              "      <th>VaxRate</th>\n",
              "      <th>PRCP</th>\n",
              "      <th>SNOW</th>\n",
              "      <th>TAVG</th>\n",
              "      <th>SNOWDepth</th>\n",
              "      <th>Density</th>\n",
              "      <th>F_PRCP</th>\n",
              "      <th>F_SNOW</th>\n",
              "      <th>F_TAVG</th>\n",
              "    </tr>\n",
              "  </thead>\n",
              "  <tbody>\n",
              "    <tr>\n",
              "      <th>count</th>\n",
              "      <td>2046.0</td>\n",
              "      <td>2046.000000</td>\n",
              "      <td>2046.000000</td>\n",
              "      <td>2046.000000</td>\n",
              "      <td>0.0</td>\n",
              "      <td>2046.000000</td>\n",
              "      <td>2046.000000</td>\n",
              "      <td>2046.000000</td>\n",
              "      <td>2046.000000</td>\n",
              "      <td>2046.000000</td>\n",
              "      <td>2046.000000</td>\n",
              "      <td>2046.000000</td>\n",
              "      <td>2046.000000</td>\n",
              "      <td>2046.000000</td>\n",
              "      <td>2046.000000</td>\n",
              "      <td>2046.000000</td>\n",
              "      <td>2046.000000</td>\n",
              "      <td>2046.000000</td>\n",
              "      <td>2046.000000</td>\n",
              "      <td>2046.000000</td>\n",
              "    </tr>\n",
              "    <tr>\n",
              "      <th>mean</th>\n",
              "      <td>2017.0</td>\n",
              "      <td>24.484848</td>\n",
              "      <td>32.255621</td>\n",
              "      <td>5.182258</td>\n",
              "      <td>NaN</td>\n",
              "      <td>0.012580</td>\n",
              "      <td>0.008297</td>\n",
              "      <td>0.351111</td>\n",
              "      <td>0.389336</td>\n",
              "      <td>0.364180</td>\n",
              "      <td>34.016618</td>\n",
              "      <td>0.548889</td>\n",
              "      <td>0.141986</td>\n",
              "      <td>0.469135</td>\n",
              "      <td>38.673868</td>\n",
              "      <td>2.066095</td>\n",
              "      <td>3105.874134</td>\n",
              "      <td>0.144557</td>\n",
              "      <td>0.519641</td>\n",
              "      <td>38.179614</td>\n",
              "    </tr>\n",
              "    <tr>\n",
              "      <th>std</th>\n",
              "      <td>0.0</td>\n",
              "      <td>18.075190</td>\n",
              "      <td>73.868327</td>\n",
              "      <td>0.803923</td>\n",
              "      <td>NaN</td>\n",
              "      <td>0.009720</td>\n",
              "      <td>0.009291</td>\n",
              "      <td>0.143201</td>\n",
              "      <td>0.189954</td>\n",
              "      <td>0.176198</td>\n",
              "      <td>76.404859</td>\n",
              "      <td>0.103296</td>\n",
              "      <td>0.144827</td>\n",
              "      <td>1.112694</td>\n",
              "      <td>13.376193</td>\n",
              "      <td>4.042574</td>\n",
              "      <td>11048.972296</td>\n",
              "      <td>0.149221</td>\n",
              "      <td>1.211880</td>\n",
              "      <td>14.160386</td>\n",
              "    </tr>\n",
              "    <tr>\n",
              "      <th>min</th>\n",
              "      <td>2017.0</td>\n",
              "      <td>1.000000</td>\n",
              "      <td>0.000000</td>\n",
              "      <td>3.800000</td>\n",
              "      <td>NaN</td>\n",
              "      <td>0.000000</td>\n",
              "      <td>0.000000</td>\n",
              "      <td>0.025566</td>\n",
              "      <td>0.000000</td>\n",
              "      <td>0.000000</td>\n",
              "      <td>0.000000</td>\n",
              "      <td>0.337000</td>\n",
              "      <td>0.000000</td>\n",
              "      <td>0.000000</td>\n",
              "      <td>2.000000</td>\n",
              "      <td>0.000000</td>\n",
              "      <td>2.609222</td>\n",
              "      <td>0.000000</td>\n",
              "      <td>0.000000</td>\n",
              "      <td>-3.375000</td>\n",
              "    </tr>\n",
              "    <tr>\n",
              "      <th>25%</th>\n",
              "      <td>2017.0</td>\n",
              "      <td>9.000000</td>\n",
              "      <td>1.000000</td>\n",
              "      <td>4.500000</td>\n",
              "      <td>NaN</td>\n",
              "      <td>0.005336</td>\n",
              "      <td>0.001929</td>\n",
              "      <td>0.263273</td>\n",
              "      <td>0.251898</td>\n",
              "      <td>0.259701</td>\n",
              "      <td>1.000000</td>\n",
              "      <td>0.471000</td>\n",
              "      <td>0.042589</td>\n",
              "      <td>0.000000</td>\n",
              "      <td>29.214286</td>\n",
              "      <td>0.000000</td>\n",
              "      <td>73.791921</td>\n",
              "      <td>0.040313</td>\n",
              "      <td>0.000000</td>\n",
              "      <td>29.142857</td>\n",
              "    </tr>\n",
              "    <tr>\n",
              "      <th>50%</th>\n",
              "      <td>2017.0</td>\n",
              "      <td>17.000000</td>\n",
              "      <td>7.000000</td>\n",
              "      <td>5.050000</td>\n",
              "      <td>NaN</td>\n",
              "      <td>0.010735</td>\n",
              "      <td>0.005159</td>\n",
              "      <td>0.341393</td>\n",
              "      <td>0.366076</td>\n",
              "      <td>0.358720</td>\n",
              "      <td>8.000000</td>\n",
              "      <td>0.591000</td>\n",
              "      <td>0.100000</td>\n",
              "      <td>0.000000</td>\n",
              "      <td>36.571429</td>\n",
              "      <td>0.000000</td>\n",
              "      <td>119.295516</td>\n",
              "      <td>0.100000</td>\n",
              "      <td>0.000000</td>\n",
              "      <td>36.500000</td>\n",
              "    </tr>\n",
              "    <tr>\n",
              "      <th>75%</th>\n",
              "      <td>2017.0</td>\n",
              "      <td>44.000000</td>\n",
              "      <td>27.000000</td>\n",
              "      <td>5.700000</td>\n",
              "      <td>NaN</td>\n",
              "      <td>0.017829</td>\n",
              "      <td>0.011382</td>\n",
              "      <td>0.424275</td>\n",
              "      <td>0.505528</td>\n",
              "      <td>0.457020</td>\n",
              "      <td>29.000000</td>\n",
              "      <td>0.621000</td>\n",
              "      <td>0.192560</td>\n",
              "      <td>0.428571</td>\n",
              "      <td>49.642857</td>\n",
              "      <td>2.470875</td>\n",
              "      <td>429.707785</td>\n",
              "      <td>0.201607</td>\n",
              "      <td>0.533333</td>\n",
              "      <td>49.642857</td>\n",
              "    </tr>\n",
              "    <tr>\n",
              "      <th>max</th>\n",
              "      <td>2017.0</td>\n",
              "      <td>52.000000</td>\n",
              "      <td>649.000000</td>\n",
              "      <td>7.400000</td>\n",
              "      <td>NaN</td>\n",
              "      <td>0.052802</td>\n",
              "      <td>0.053584</td>\n",
              "      <td>0.962703</td>\n",
              "      <td>1.023814</td>\n",
              "      <td>1.016013</td>\n",
              "      <td>649.000000</td>\n",
              "      <td>0.681000</td>\n",
              "      <td>1.224000</td>\n",
              "      <td>12.000000</td>\n",
              "      <td>72.928571</td>\n",
              "      <td>28.500000</td>\n",
              "      <td>71387.647832</td>\n",
              "      <td>1.224000</td>\n",
              "      <td>14.000000</td>\n",
              "      <td>72.928571</td>\n",
              "    </tr>\n",
              "  </tbody>\n",
              "</table>\n",
              "</div>"
            ],
            "text/plain": [
              "         year     CDC Week        Count  ...       F_PRCP       F_SNOW       F_TAVG\n",
              "count  2046.0  2046.000000  2046.000000  ...  2046.000000  2046.000000  2046.000000\n",
              "mean   2017.0    24.484848    32.255621  ...     0.144557     0.519641    38.179614\n",
              "std       0.0    18.075190    73.868327  ...     0.149221     1.211880    14.160386\n",
              "min    2017.0     1.000000     0.000000  ...     0.000000     0.000000    -3.375000\n",
              "25%    2017.0     9.000000     1.000000  ...     0.040313     0.000000    29.142857\n",
              "50%    2017.0    17.000000     7.000000  ...     0.100000     0.000000    36.500000\n",
              "75%    2017.0    44.000000    27.000000  ...     0.201607     0.533333    49.642857\n",
              "max    2017.0    52.000000   649.000000  ...     1.224000    14.000000    72.928571\n",
              "\n",
              "[8 rows x 20 columns]"
            ]
          },
          "metadata": {
            "tags": []
          },
          "execution_count": 184
        }
      ]
    },
    {
      "cell_type": "markdown",
      "metadata": {
        "id": "fkIJNJ8z4A9A",
        "colab_type": "text"
      },
      "source": [
        "Handling missing data"
      ]
    },
    {
      "cell_type": "code",
      "metadata": {
        "id": "qzMycM_44EaE",
        "colab_type": "code",
        "colab": {
          "base_uri": "https://localhost:8080/",
          "height": 452
        },
        "outputId": "84d04917-9a72-412c-c0e3-51fac7b2fcc5"
      },
      "source": [
        "def missing_data_handle(dataframe, method = \"drop\"):\n",
        "  if method == \"drop\":\n",
        "    dataframe_updated = dataframe.dropna()\n",
        "    return dataframe_updated\n",
        "  elif method == \"avg_over_month\":\n",
        "    dataframe['Date'] = pd.to_datetime(dataframe['Week Ending Date'])\n",
        "    dataframe_updated = dataframe.fillna(dataframe.groupby(dataframe.Date.dt.month).transform('mean'))\n",
        "    dataframe_updated = dataframe_updated.drop(columns = [\"Date\"])\n",
        "    return dataframe_updated\n",
        "  else:\n",
        "    print(\"Invalid method\")\n",
        "    return dataframe\n",
        "\n",
        "df_master_modified = missing_data_handle(dataframe = df_master_modified, method = \"avg_over_month\")\n",
        "df_test_modified = missing_data_handle(dataframe = df_test, method = \"avg_over_month\")\n",
        "\n",
        "#columns_to_remove = ['Week Ending Date']\n",
        "df_master_modified = df_master_modified.drop(columns = non_features_for_model)\n",
        "df_test_modified = df_test_modified.drop(columns = non_features_for_model)\n",
        "\n",
        "print(df_master_modified.shape)\n",
        "print(df_test_modified.shape)\n",
        "df_test_modified = df_test_modified.fillna(0)\n",
        "df_test_modified.sample(10)"
      ],
      "execution_count": 185,
      "outputs": [
        {
          "output_type": "stream",
          "text": [
            "(14438, 20)\n",
            "(2046, 20)\n"
          ],
          "name": "stdout"
        },
        {
          "output_type": "execute_result",
          "data": {
            "text/html": [
              "<div>\n",
              "<style scoped>\n",
              "    .dataframe tbody tr th:only-of-type {\n",
              "        vertical-align: middle;\n",
              "    }\n",
              "\n",
              "    .dataframe tbody tr th {\n",
              "        vertical-align: top;\n",
              "    }\n",
              "\n",
              "    .dataframe thead th {\n",
              "        text-align: right;\n",
              "    }\n",
              "</style>\n",
              "<table border=\"1\" class=\"dataframe\">\n",
              "  <thead>\n",
              "    <tr style=\"text-align: right;\">\n",
              "      <th></th>\n",
              "      <th>year</th>\n",
              "      <th>CDC Week</th>\n",
              "      <th>Count</th>\n",
              "      <th>UnempRate</th>\n",
              "      <th>GDP_change</th>\n",
              "      <th>flu</th>\n",
              "      <th>fluSymptoms</th>\n",
              "      <th>fever</th>\n",
              "      <th>cough</th>\n",
              "      <th>soreThroat</th>\n",
              "      <th>Target</th>\n",
              "      <th>VaxRate</th>\n",
              "      <th>PRCP</th>\n",
              "      <th>SNOW</th>\n",
              "      <th>TAVG</th>\n",
              "      <th>SNOWDepth</th>\n",
              "      <th>Density</th>\n",
              "      <th>F_PRCP</th>\n",
              "      <th>F_SNOW</th>\n",
              "      <th>F_TAVG</th>\n",
              "    </tr>\n",
              "    <tr>\n",
              "      <th>Index_column</th>\n",
              "      <th></th>\n",
              "      <th></th>\n",
              "      <th></th>\n",
              "      <th></th>\n",
              "      <th></th>\n",
              "      <th></th>\n",
              "      <th></th>\n",
              "      <th></th>\n",
              "      <th></th>\n",
              "      <th></th>\n",
              "      <th></th>\n",
              "      <th></th>\n",
              "      <th></th>\n",
              "      <th></th>\n",
              "      <th></th>\n",
              "      <th></th>\n",
              "      <th></th>\n",
              "      <th></th>\n",
              "      <th></th>\n",
              "      <th></th>\n",
              "    </tr>\n",
              "  </thead>\n",
              "  <tbody>\n",
              "    <tr>\n",
              "      <th>3593</th>\n",
              "      <td>2017</td>\n",
              "      <td>46</td>\n",
              "      <td>0</td>\n",
              "      <td>5.8</td>\n",
              "      <td>0.0</td>\n",
              "      <td>0.015007</td>\n",
              "      <td>0.009201</td>\n",
              "      <td>0.322456</td>\n",
              "      <td>0.734446</td>\n",
              "      <td>0.250654</td>\n",
              "      <td>1.0</td>\n",
              "      <td>0.471</td>\n",
              "      <td>0.084000</td>\n",
              "      <td>0.000000</td>\n",
              "      <td>35.071429</td>\n",
              "      <td>0.000000</td>\n",
              "      <td>95.909856</td>\n",
              "      <td>0.013333</td>\n",
              "      <td>0.00</td>\n",
              "      <td>33.250000</td>\n",
              "    </tr>\n",
              "    <tr>\n",
              "      <th>1160</th>\n",
              "      <td>2017</td>\n",
              "      <td>10</td>\n",
              "      <td>72</td>\n",
              "      <td>5.6</td>\n",
              "      <td>0.0</td>\n",
              "      <td>0.008445</td>\n",
              "      <td>0.009867</td>\n",
              "      <td>0.400167</td>\n",
              "      <td>0.285512</td>\n",
              "      <td>0.317443</td>\n",
              "      <td>112.0</td>\n",
              "      <td>0.621</td>\n",
              "      <td>0.140000</td>\n",
              "      <td>0.216667</td>\n",
              "      <td>28.142857</td>\n",
              "      <td>8.571429</td>\n",
              "      <td>273.402100</td>\n",
              "      <td>0.170000</td>\n",
              "      <td>0.10</td>\n",
              "      <td>31.642857</td>\n",
              "    </tr>\n",
              "    <tr>\n",
              "      <th>19662</th>\n",
              "      <td>2017</td>\n",
              "      <td>10</td>\n",
              "      <td>4</td>\n",
              "      <td>5.6</td>\n",
              "      <td>0.0</td>\n",
              "      <td>0.013813</td>\n",
              "      <td>0.004947</td>\n",
              "      <td>0.282044</td>\n",
              "      <td>0.394842</td>\n",
              "      <td>0.481927</td>\n",
              "      <td>3.0</td>\n",
              "      <td>0.621</td>\n",
              "      <td>0.200000</td>\n",
              "      <td>0.366667</td>\n",
              "      <td>33.500000</td>\n",
              "      <td>3.166667</td>\n",
              "      <td>67.959511</td>\n",
              "      <td>0.126000</td>\n",
              "      <td>0.02</td>\n",
              "      <td>36.428571</td>\n",
              "    </tr>\n",
              "    <tr>\n",
              "      <th>6005</th>\n",
              "      <td>2017</td>\n",
              "      <td>42</td>\n",
              "      <td>0</td>\n",
              "      <td>5.2</td>\n",
              "      <td>0.0</td>\n",
              "      <td>0.011946</td>\n",
              "      <td>0.005303</td>\n",
              "      <td>0.329923</td>\n",
              "      <td>0.207762</td>\n",
              "      <td>0.288606</td>\n",
              "      <td>0.0</td>\n",
              "      <td>0.337</td>\n",
              "      <td>0.048571</td>\n",
              "      <td>0.000000</td>\n",
              "      <td>51.285714</td>\n",
              "      <td>0.000000</td>\n",
              "      <td>73.357439</td>\n",
              "      <td>0.318571</td>\n",
              "      <td>0.00</td>\n",
              "      <td>45.714286</td>\n",
              "    </tr>\n",
              "    <tr>\n",
              "      <th>18334</th>\n",
              "      <td>2017</td>\n",
              "      <td>45</td>\n",
              "      <td>0</td>\n",
              "      <td>5.3</td>\n",
              "      <td>0.0</td>\n",
              "      <td>0.012457</td>\n",
              "      <td>0.011389</td>\n",
              "      <td>0.270113</td>\n",
              "      <td>0.453998</td>\n",
              "      <td>0.325701</td>\n",
              "      <td>0.0</td>\n",
              "      <td>0.471</td>\n",
              "      <td>0.062000</td>\n",
              "      <td>0.000000</td>\n",
              "      <td>37.500000</td>\n",
              "      <td>0.000000</td>\n",
              "      <td>74.315704</td>\n",
              "      <td>0.005000</td>\n",
              "      <td>0.00</td>\n",
              "      <td>39.600000</td>\n",
              "    </tr>\n",
              "    <tr>\n",
              "      <th>12944</th>\n",
              "      <td>2017</td>\n",
              "      <td>12</td>\n",
              "      <td>163</td>\n",
              "      <td>4.0</td>\n",
              "      <td>0.0</td>\n",
              "      <td>0.004367</td>\n",
              "      <td>0.002157</td>\n",
              "      <td>0.403065</td>\n",
              "      <td>0.204733</td>\n",
              "      <td>0.289645</td>\n",
              "      <td>259.0</td>\n",
              "      <td>0.662</td>\n",
              "      <td>0.025000</td>\n",
              "      <td>0.000000</td>\n",
              "      <td>42.642857</td>\n",
              "      <td>0.000000</td>\n",
              "      <td>21163.411038</td>\n",
              "      <td>0.408000</td>\n",
              "      <td>0.00</td>\n",
              "      <td>49.571429</td>\n",
              "    </tr>\n",
              "    <tr>\n",
              "      <th>2389</th>\n",
              "      <td>2017</td>\n",
              "      <td>50</td>\n",
              "      <td>2</td>\n",
              "      <td>5.5</td>\n",
              "      <td>0.0</td>\n",
              "      <td>0.016488</td>\n",
              "      <td>0.010967</td>\n",
              "      <td>0.259108</td>\n",
              "      <td>0.340107</td>\n",
              "      <td>0.000000</td>\n",
              "      <td>15.0</td>\n",
              "      <td>0.517</td>\n",
              "      <td>0.135000</td>\n",
              "      <td>2.500000</td>\n",
              "      <td>18.928571</td>\n",
              "      <td>10.375000</td>\n",
              "      <td>208.356450</td>\n",
              "      <td>0.147143</td>\n",
              "      <td>2.70</td>\n",
              "      <td>16.375000</td>\n",
              "    </tr>\n",
              "    <tr>\n",
              "      <th>8588</th>\n",
              "      <td>2017</td>\n",
              "      <td>43</td>\n",
              "      <td>4</td>\n",
              "      <td>4.9</td>\n",
              "      <td>0.0</td>\n",
              "      <td>0.014401</td>\n",
              "      <td>0.003611</td>\n",
              "      <td>0.409242</td>\n",
              "      <td>0.413275</td>\n",
              "      <td>0.162471</td>\n",
              "      <td>6.0</td>\n",
              "      <td>0.337</td>\n",
              "      <td>0.880000</td>\n",
              "      <td>0.000000</td>\n",
              "      <td>55.142857</td>\n",
              "      <td>0.000000</td>\n",
              "      <td>1129.678489</td>\n",
              "      <td>0.022000</td>\n",
              "      <td>0.00</td>\n",
              "      <td>37.214286</td>\n",
              "    </tr>\n",
              "    <tr>\n",
              "      <th>15653</th>\n",
              "      <td>2017</td>\n",
              "      <td>52</td>\n",
              "      <td>7</td>\n",
              "      <td>4.5</td>\n",
              "      <td>0.0</td>\n",
              "      <td>0.046307</td>\n",
              "      <td>0.028281</td>\n",
              "      <td>0.558170</td>\n",
              "      <td>1.023814</td>\n",
              "      <td>0.605868</td>\n",
              "      <td>20.0</td>\n",
              "      <td>0.517</td>\n",
              "      <td>0.027500</td>\n",
              "      <td>0.666667</td>\n",
              "      <td>14.687500</td>\n",
              "      <td>4.428571</td>\n",
              "      <td>12.806766</td>\n",
              "      <td>0.205714</td>\n",
              "      <td>2.00</td>\n",
              "      <td>27.357143</td>\n",
              "    </tr>\n",
              "    <tr>\n",
              "      <th>4802</th>\n",
              "      <td>2017</td>\n",
              "      <td>47</td>\n",
              "      <td>0</td>\n",
              "      <td>5.5</td>\n",
              "      <td>0.0</td>\n",
              "      <td>0.001039</td>\n",
              "      <td>0.000323</td>\n",
              "      <td>0.045974</td>\n",
              "      <td>0.070162</td>\n",
              "      <td>0.038068</td>\n",
              "      <td>2.0</td>\n",
              "      <td>0.471</td>\n",
              "      <td>0.060000</td>\n",
              "      <td>0.540000</td>\n",
              "      <td>36.642857</td>\n",
              "      <td>0.000000</td>\n",
              "      <td>20.906461</td>\n",
              "      <td>0.046667</td>\n",
              "      <td>0.10</td>\n",
              "      <td>36.500000</td>\n",
              "    </tr>\n",
              "  </tbody>\n",
              "</table>\n",
              "</div>"
            ],
            "text/plain": [
              "              year  CDC Week  Count  ...    F_PRCP  F_SNOW     F_TAVG\n",
              "Index_column                         ...                             \n",
              "3593          2017        46      0  ...  0.013333    0.00  33.250000\n",
              "1160          2017        10     72  ...  0.170000    0.10  31.642857\n",
              "19662         2017        10      4  ...  0.126000    0.02  36.428571\n",
              "6005          2017        42      0  ...  0.318571    0.00  45.714286\n",
              "18334         2017        45      0  ...  0.005000    0.00  39.600000\n",
              "12944         2017        12    163  ...  0.408000    0.00  49.571429\n",
              "2389          2017        50      2  ...  0.147143    2.70  16.375000\n",
              "8588          2017        43      4  ...  0.022000    0.00  37.214286\n",
              "15653         2017        52      7  ...  0.205714    2.00  27.357143\n",
              "4802          2017        47      0  ...  0.046667    0.10  36.500000\n",
              "\n",
              "[10 rows x 20 columns]"
            ]
          },
          "metadata": {
            "tags": []
          },
          "execution_count": 185
        }
      ]
    },
    {
      "cell_type": "markdown",
      "metadata": {
        "id": "foe-D0wc4W-L",
        "colab_type": "text"
      },
      "source": [
        "Preprocessing"
      ]
    },
    {
      "cell_type": "code",
      "metadata": {
        "id": "8odVxQYa4Lpo",
        "colab_type": "code",
        "colab": {}
      },
      "source": [
        "#Divide into features and dependent variable \n",
        "X = df_master_modified.copy()\n",
        "X = X.drop(columns = [target_variable])\n",
        "y = df_master_modified[target_variable]\n",
        "\n",
        "#Divide into Training set and test set\n",
        "X_train, X_test, y_train, y_test = model_selection.train_test_split(X, y, test_size=0.2, random_state=0, shuffle = True)\n",
        "\n",
        "\n",
        "#Scaling\n",
        "mm_scaler = sklearn.preprocessing.MinMaxScaler()\n",
        "X_train_scaled = mm_scaler.fit_transform(X_train)\n",
        "X_test_scaled = mm_scaler.transform(X_test)\n",
        "#X_test_scaled = mm_scaler.transform(X_test)\n",
        "\n",
        "final_y_test = df_test_modified[target_variable]\n",
        "df_test_modified = df_test_modified.drop(columns = [target_variable])\n",
        "np_test = df_test_modified.to_numpy()\n",
        "final_x_test_scaled = mm_scaler.transform(np_test)"
      ],
      "execution_count": 0,
      "outputs": []
    },
    {
      "cell_type": "markdown",
      "metadata": {
        "id": "Y9W0gTB646kE",
        "colab_type": "text"
      },
      "source": [
        "Linear Regression model\n",
        "with subset of features for base modeling"
      ]
    },
    {
      "cell_type": "code",
      "metadata": {
        "id": "QZAD_NTGtJ15",
        "colab_type": "code",
        "colab": {}
      },
      "source": [
        "#Divide into features and dependent variable \n",
        "sub_features = ['year','CDC Week', 'flu' ,'fluSymptoms', 'fever', 'cough', 'soreThroat','VaxRate', 'PRCP', 'SNOW', 'TAVG', 'SNOWDepth', 'Density']\n",
        "X_sub = df_master_modified[sub_features]\n",
        "y_sub = df_master_modified[target_variable]\n",
        "\n",
        "#Divide into Training set and test set\n",
        "X_train_sub, X_test_sub, y_train_sub, y_test_sub = model_selection.train_test_split(X_sub, y_sub, test_size=0.2, random_state=0, shuffle = False)\n",
        "\n",
        "#Scaling\n",
        "mm_scaler = sklearn.preprocessing.MinMaxScaler()\n",
        "X_train_scaled_sub = mm_scaler.fit_transform(X_train_sub)\n",
        "X_test_scaled_sub = mm_scaler.transform(X_test_sub)"
      ],
      "execution_count": 0,
      "outputs": []
    },
    {
      "cell_type": "code",
      "metadata": {
        "id": "jVERA4uMZQdE",
        "colab_type": "code",
        "outputId": "1f98fbb2-3afb-4516-a47f-9ad00e4019a6",
        "colab": {
          "base_uri": "https://localhost:8080/",
          "height": 54
        }
      },
      "source": [
        "def pred_model_regr_sub(X_train, y_train, X_test, y_test ):\n",
        "  model_regr = linear_model.LinearRegression()\n",
        "  model_regr.fit(X_train, y_train)\n",
        "  y_pred_regression = model_regr.predict(X_test)\n",
        "  Test_r2_score_regression = metrics.r2_score(y_test, y_pred_regression)\n",
        "  print(\"R2 Score for Regression on testing data = {}\" .format(Test_r2_score_regression * 100))\n",
        "\n",
        "  y_train_pred_regression = model_regr.predict(X_train)\n",
        "  Train_r2_score_regression = metrics.r2_score(y_train, y_train_pred_regression)\n",
        "  print(\"R2 Score for Regression on training data = {}\" .format(Train_r2_score_regression * 100))\n",
        "\n",
        "  return model_regr, Test_r2_score_regression, Train_r2_score_regression\n",
        "\n",
        "\n",
        "model_regr, regr_test_score_sub, regr_train_score_sub = pred_model_regr_sub(X_train_scaled_sub, y_train_sub, X_test_scaled_sub, y_test_sub )"
      ],
      "execution_count": 188,
      "outputs": [
        {
          "output_type": "stream",
          "text": [
            "R2 Score for Regression on testing data = 7.351238908997337\n",
            "R2 Score for Regression on training data = 16.618919017379085\n"
          ],
          "name": "stdout"
        }
      ]
    },
    {
      "cell_type": "markdown",
      "metadata": {
        "id": "ge24XymhshUi",
        "colab_type": "text"
      },
      "source": [
        "Test R2 value is too low, opting for regularization \n",
        "LASSO penalizes features to zero if not required but Ridge does not penalize the feature to zero but minimizes them if required"
      ]
    },
    {
      "cell_type": "markdown",
      "metadata": {
        "id": "ZT_Jfm-rp3Qv",
        "colab_type": "text"
      },
      "source": [
        "Ridge Regression"
      ]
    },
    {
      "cell_type": "code",
      "metadata": {
        "id": "8x8alHtEuOR0",
        "colab_type": "code",
        "colab": {
          "base_uri": "https://localhost:8080/",
          "height": 54
        },
        "outputId": "9daa22be-e576-4b3e-ed9b-5ef219d1a28d"
      },
      "source": [
        "def pred_model_ridge_sub(X_train, y_train, X_test, y_test ):\n",
        "  model_ridge_sub = linear_model.Ridge(alpha = 0.8)\n",
        "  model_ridge_sub.fit(X_train, y_train)\n",
        "  y_pred_ridge = model_ridge_sub.predict(X_test)\n",
        "  Test_r2_score_ridge = metrics.r2_score(y_test, y_pred_ridge)\n",
        "  print(\"R2 Score for Ridge Regression with subset features on testing data = {}\" .format(Test_r2_score_ridge * 100))\n",
        "\n",
        "  y_train_pred_ridge = model_ridge_sub.predict(X_train)\n",
        "  Train_r2_score_ridge = metrics.r2_score(y_train, y_train_pred_ridge)\n",
        "  print(\"R2 Score for Ridge Regression with subset features on training data = {}\" .format(Train_r2_score_ridge * 100))\n",
        "\n",
        "  return model_ridge_sub, Test_r2_score_ridge, Train_r2_score_ridge\n",
        "\n",
        "\n",
        "model_ridge_sub, ridge_test_score_sub, ridge_train_score_sub = pred_model_ridge_sub(X_train_scaled_sub, y_train_sub, X_test_scaled_sub, y_test_sub )"
      ],
      "execution_count": 189,
      "outputs": [
        {
          "output_type": "stream",
          "text": [
            "R2 Score for Ridge Regression with subset features on testing data = 7.333790165654364\n",
            "R2 Score for Ridge Regression with subset features on training data = 16.61503213220813\n"
          ],
          "name": "stdout"
        }
      ]
    },
    {
      "cell_type": "markdown",
      "metadata": {
        "id": "PG4msr3nvn__",
        "colab_type": "text"
      },
      "source": [
        "All the features"
      ]
    },
    {
      "cell_type": "code",
      "metadata": {
        "id": "LQJgLjsWvHz8",
        "colab_type": "code",
        "colab": {
          "base_uri": "https://localhost:8080/",
          "height": 54
        },
        "outputId": "b8530cfe-4967-4ad7-f1ed-be30e0983a84"
      },
      "source": [
        "def pred_model_regr(X_train, y_train, X_test, y_test ):\n",
        "  model_regr = linear_model.LinearRegression()\n",
        "  model_regr.fit(X_train, y_train)\n",
        "  y_pred_regression = model_regr.predict(X_test)\n",
        "  Test_r2_score_regression = metrics.r2_score(y_test, y_pred_regression)\n",
        "  print(\"R2 Score for Regression on testing data = {}\" .format(Test_r2_score_regression * 100))\n",
        "\n",
        "  y_train_pred_regression = model_regr.predict(X_train)\n",
        "  Train_r2_score_regression = metrics.r2_score(y_train, y_train_pred_regression)\n",
        "  print(\"R2 Score for Regression on training data = {}\" .format(Train_r2_score_regression * 100))\n",
        "\n",
        "  return model_regr, Test_r2_score_regression, Train_r2_score_regression\n",
        "\n",
        "\n",
        "model_regr, regr_test_score, regr_train_score = pred_model_regr(X_train_scaled, y_train, X_test_scaled, y_test )"
      ],
      "execution_count": 190,
      "outputs": [
        {
          "output_type": "stream",
          "text": [
            "R2 Score for Regression on testing data = 60.10792714086046\n",
            "R2 Score for Regression on training data = 61.903325499547094\n"
          ],
          "name": "stdout"
        }
      ]
    },
    {
      "cell_type": "code",
      "metadata": {
        "id": "uj6DOueKp2VA",
        "colab_type": "code",
        "colab": {
          "base_uri": "https://localhost:8080/",
          "height": 54
        },
        "outputId": "c306b789-fb55-4558-d990-a9de3ecdbb58"
      },
      "source": [
        "def pred_model_ridge(X_train, y_train, X_test, y_test ):\n",
        "  model_ridge = linear_model.Ridge(alpha = 0.2)\n",
        "  model_ridge.fit(X_train, y_train)\n",
        "  y_pred_ridge = model_ridge.predict(X_test)\n",
        "  Test_r2_score_ridge = metrics.r2_score(y_test, y_pred_ridge)\n",
        "  print(\"R2 Score for Ridge Regression on testing data = {}\" .format(Test_r2_score_ridge * 100))\n",
        "\n",
        "  y_train_pred_ridge = model_ridge.predict(X_train)\n",
        "  Train_r2_score_ridge = metrics.r2_score(y_train, y_train_pred_ridge)\n",
        "  print(\"R2 Score for Ridge Regression on training data = {}\" .format(Train_r2_score_ridge * 100))\n",
        "\n",
        "  return model_ridge, Test_r2_score_ridge, Train_r2_score_ridge\n",
        "\n",
        "\n",
        "model_ridge, ridge_test_score, ridge_train_score = pred_model_ridge(X_train_scaled, y_train, X_test_scaled, y_test )"
      ],
      "execution_count": 191,
      "outputs": [
        {
          "output_type": "stream",
          "text": [
            "R2 Score for Ridge Regression on testing data = 60.088976565064826\n",
            "R2 Score for Ridge Regression on training data = 61.90042138299777\n"
          ],
          "name": "stdout"
        }
      ]
    },
    {
      "cell_type": "markdown",
      "metadata": {
        "id": "WNgIjxANs7pn",
        "colab_type": "text"
      },
      "source": [
        "Ridge Regression with all features"
      ]
    },
    {
      "cell_type": "markdown",
      "metadata": {
        "id": "69CQptJThIPQ",
        "colab_type": "text"
      },
      "source": [
        "Stochastic Gradient Descent"
      ]
    },
    {
      "cell_type": "code",
      "metadata": {
        "id": "sTizX3qChHgD",
        "colab_type": "code",
        "colab": {
          "base_uri": "https://localhost:8080/",
          "height": 54
        },
        "outputId": "63d0a409-62bc-4cc7-a824-f5e6fa0d2e0e"
      },
      "source": [
        "def pred_model_sgd(X_train, y_train, X_test, y_test):\n",
        "  model_sgd = linear_model.SGDRegressor()\n",
        "  model_sgd.fit(X_train, y_train)\n",
        "  y_train_pred_sgd = model_sgd.predict(X_test)\n",
        "  Test_r2_score_sgd = metrics.r2_score(y_test, y_train_pred_sgd)\n",
        "  print(\"R2 Score for Stochastic Gradient Descent on testing data = {}\" .format(Test_r2_score_sgd * 100))\n",
        "\n",
        "  y_train_pred_sgd = model_sgd.predict(X_train)\n",
        "  Train_r2_score_sgd = metrics.r2_score(y_train, y_train_pred_sgd)\n",
        "  print(\"R2 Score for Stochastic Gradient Descent on training data = {}\" .format(Train_r2_score_sgd * 100))\n",
        "\n",
        "  return model_sgd, Test_r2_score_sgd, Train_r2_score_sgd\n",
        "\n",
        "model_sgd, sgd_test_score, sgd_test_score = pred_model_sgd(X_train_scaled, y_train, X_test_scaled, y_test )"
      ],
      "execution_count": 192,
      "outputs": [
        {
          "output_type": "stream",
          "text": [
            "R2 Score for Stochastic Gradient Descent on testing data = 59.41182857494793\n",
            "R2 Score for Stochastic Gradient Descent on training data = 61.39576625165854\n"
          ],
          "name": "stdout"
        }
      ]
    },
    {
      "cell_type": "markdown",
      "metadata": {
        "id": "U_Xbu64RiOdn",
        "colab_type": "text"
      },
      "source": [
        "SVM\n",
        "\n",
        "\n"
      ]
    },
    {
      "cell_type": "code",
      "metadata": {
        "id": "4jM2xUOniOpm",
        "colab_type": "code",
        "colab": {
          "base_uri": "https://localhost:8080/",
          "height": 110
        },
        "outputId": "f16feeda-a5ca-4372-8ffa-d55f77d54ab1"
      },
      "source": [
        "def pred_model_SVM(X_train, y_train, X_test, y_test):\n",
        "  model_svm = svm.SVR(max_iter= 1000000)\n",
        "  model_svm.fit(X_train, y_train)\n",
        "  y_train_pred_svm = model_svm.predict(X_test)\n",
        "  Test_r2_score_svm = metrics.r2_score(y_test, y_train_pred_svm)\n",
        "  print(\"R2 Score for Support Vector Machine on testing data = {}\" .format(Test_r2_score_svm * 100))\n",
        "\n",
        "  y_train_pred_svm = model_svm.predict(X_train)\n",
        "  Train_r2_score_svm = metrics.r2_score(y_train, y_train_pred_svm)\n",
        "  print(\"R2 Score for Support Vector Machine on training data = {}\" .format(Train_r2_score_svm * 100))\n",
        "\n",
        "  return model_svm, Test_r2_score_svm, Train_r2_score_svm\n",
        "\n",
        "model_svm, svm_test_score, svm_train_score = pred_model_SVM(X_train_scaled, y_train, X_test_scaled, y_test )"
      ],
      "execution_count": 193,
      "outputs": [
        {
          "output_type": "stream",
          "text": [
            "/usr/local/lib/python3.6/dist-packages/sklearn/svm/base.py:193: FutureWarning: The default value of gamma will change from 'auto' to 'scale' in version 0.22 to account better for unscaled features. Set gamma explicitly to 'auto' or 'scale' to avoid this warning.\n",
            "  \"avoid this warning.\", FutureWarning)\n"
          ],
          "name": "stderr"
        },
        {
          "output_type": "stream",
          "text": [
            "R2 Score for Support Vector Machine on testing data = -0.8509054488483381\n",
            "R2 Score for Support Vector Machine on training data = -0.1392138898720363\n"
          ],
          "name": "stdout"
        }
      ]
    },
    {
      "cell_type": "markdown",
      "metadata": {
        "id": "L-kB1fRG55ds",
        "colab_type": "text"
      },
      "source": [
        "Decision Trees"
      ]
    },
    {
      "cell_type": "code",
      "metadata": {
        "id": "Sdx_68mq5491",
        "colab_type": "code",
        "colab": {
          "base_uri": "https://localhost:8080/",
          "height": 54
        },
        "outputId": "31f7802c-8efd-4fd7-bd75-0242568a6984"
      },
      "source": [
        "def pred_model_dt(X_train, y_train, X_test, y_test):\n",
        "  model_dt = tree.DecisionTreeRegressor()\n",
        "  model_dt.fit(X_train, y_train)\n",
        "  y_pred_decisionTree = model_dt.predict(X_test)\n",
        "  Test_r2_score_decisionTree = metrics.r2_score(y_test, y_pred_decisionTree)\n",
        "  print(\"R2 Score for Decision Tree on testing data = {}\" .format(Test_r2_score_decisionTree * 100))\n",
        "\n",
        "  y_train_pred_regression = model_dt.predict(X_train)\n",
        "  Train_r2_score_decisionTree = metrics.r2_score(y_train, y_train_pred_regression)\n",
        "  print(\"R2 Score for Decision Tree on training data = {}\" .format(Train_r2_score_decisionTree * 100))\n",
        "\n",
        "  return model_dt, Test_r2_score_decisionTree, Train_r2_score_decisionTree\n",
        "\n",
        "model_dt, dt_test_score, dt_train_score = pred_model_dt(X_train_scaled, y_train, X_test_scaled, y_test)"
      ],
      "execution_count": 194,
      "outputs": [
        {
          "output_type": "stream",
          "text": [
            "R2 Score for Decision Tree on testing data = 53.07144301757399\n",
            "R2 Score for Decision Tree on training data = 100.0\n"
          ],
          "name": "stdout"
        }
      ]
    },
    {
      "cell_type": "markdown",
      "metadata": {
        "id": "n6aU1xHL7ITf",
        "colab_type": "text"
      },
      "source": [
        "As the R2 score on training data is much better than testing data, we can say that our model suffers from \"High Variance\""
      ]
    },
    {
      "cell_type": "code",
      "metadata": {
        "id": "QLpiBEYe3KGq",
        "colab_type": "code",
        "colab": {
          "base_uri": "https://localhost:8080/",
          "height": 398
        },
        "outputId": "50eeb5d2-2daf-49bb-a5a2-50162bab2f75"
      },
      "source": [
        "model_scores = {\n",
        "    \"Regression\": [regr_test_score, regr_train_score],\n",
        "    \"Stochastic Gradient Descent\": [sgd_test_score, sgd_test_score],\n",
        "    \"SVM\": [svm_test_score, svm_train_score],\n",
        "    \"Decision Trees\": [dt_test_score, dt_train_score]}\n",
        "\n",
        "barWidth = 0.45\n",
        "\n",
        "r1 = np.arange(len(model_scores.keys()))\n",
        "r2 = [x + barWidth for x in r1]\n",
        "\n",
        "plt.bar(r1, [value[1] for key, value in model_scores.items()], color='#7f6d5f', width=barWidth, edgecolor='white', label='Train R2 Score')\n",
        "plt.bar(r2, [max(value[0], -1) for key, value in model_scores.items()], color='#557f2d', width=barWidth, edgecolor='white', label='Validation R2 Score')\n",
        "\n",
        "plt.xlabel('Model performances plot', fontweight='bold')\n",
        "plt.xticks([r + barWidth for r in range(len(model_scores.keys()))], [key for key, value in model_scores.items()], rotation = 60)\n",
        "\n",
        "\n",
        "plt.legend()#loc=9, bbox_to_anchor=(0.8,0.2))\n",
        "plt.show()"
      ],
      "execution_count": 209,
      "outputs": [
        {
          "output_type": "display_data",
          "data": {
            "image/png": "[encoded data removed]",
            "text/plain": [
              "<Figure size 432x288 with 1 Axes>"
            ]
          },
          "metadata": {
            "tags": []
          }
        }
      ]
    },
    {
      "cell_type": "code",
      "metadata": {
        "id": "aVewFVDv88Hx",
        "colab_type": "code",
        "colab": {
          "base_uri": "https://localhost:8080/",
          "height": 370
        },
        "outputId": "838c1413-2c8c-49b8-a6f8-4692883a97c8"
      },
      "source": [
        "feature_importance = model_dt.feature_importances_\n",
        "feature_importance_sorted = (np.sort(feature_importance))[::-1]\n",
        "print(\"feature_importance = \", feature_importance)\n",
        "\n",
        "y_pos = np.arange(len(feature_importance))\n",
        "plt.bar(y_pos,feature_importance, align='center', alpha=0.5)\n",
        "plt.xticks(y_pos, X_train.columns[:len(feature_importance)])\n",
        "plt.ylabel('Feature importance')\n",
        "plt.title('features')\n",
        "plt.xticks(rotation=90)\n",
        "\n",
        "#plt.rcParams['figure.figsize'] = 50, 100\n",
        "plt.tight_layout()\n",
        "\n",
        "plt.show()\n"
      ],
      "execution_count": 196,
      "outputs": [
        {
          "output_type": "stream",
          "text": [
            "feature_importance =  [0.00375596 0.02041148 0.65516742 0.02649226 0.0028495  0.03552654\n",
            " 0.01751435 0.02715189 0.03723195 0.02458982 0.03400276 0.01378703\n",
            " 0.00225138 0.02162984 0.00282389 0.0331736  0.01041228 0.00910801\n",
            " 0.02212005]\n"
          ],
          "name": "stdout"
        },
        {
          "output_type": "display_data",
          "data": {
            "image/png": "[encoded data removed]",
            "text/plain": [
              "<Figure size 432x288 with 1 Axes>"
            ]
          },
          "metadata": {
            "tags": []
          }
        }
      ]
    },
    {
      "cell_type": "markdown",
      "metadata": {
        "id": "Eq62Z9vNNJKy",
        "colab_type": "text"
      },
      "source": [
        "Selecting best min sample leaf values and min sample split values for decision trees"
      ]
    },
    {
      "cell_type": "code",
      "metadata": {
        "id": "ud-CjmMzFBPM",
        "colab_type": "code",
        "colab": {
          "base_uri": "https://localhost:8080/",
          "height": 54
        },
        "outputId": "52c46a90-81ac-4893-943e-030a48ff899d"
      },
      "source": [
        "min_samples_split_values = [int(i) for i in np.logspace(1, 12, num=10, base=2)]\n",
        "min_samples_leaf_values = [int(i) for i in np.logspace(1, 12, num=10, base=2)]\n",
        "\n",
        "def testTrees(x_train, x_test, y_train, y_test, split, leaf):\n",
        "    '''\n",
        "    Build a function that takes in tree hyperparams, data and returns accuracy on test data\n",
        "    '''\n",
        "    model = tree.DecisionTreeRegressor(criterion='mse',min_samples_leaf = leaf, min_samples_split = split)\n",
        "    \n",
        "    model.fit(x_train,y_train)\n",
        "    test_p = model.predict(x_test) \n",
        "    train_p = model.predict(x_train)\n",
        "    \n",
        "    test_r2_score = metrics.r2_score(y_test, test_p)\n",
        "    train_r2_score = metrics.r2_score(y_train, train_p)\n",
        "\n",
        "    return train_r2_score, test_r2_score\n",
        " \n",
        "res = dict()\n",
        "train_res = dict()\n",
        "for s in min_samples_leaf_values:\n",
        "    res[s] = list()\n",
        "    train_res[s] = list()\n",
        "\n",
        "for l in min_samples_leaf_values:\n",
        "    for s in min_samples_split_values:\n",
        "        train_r2_score, test_r2_score = testTrees(X_train_scaled, X_test_scaled, y_train, y_test, s, l)\n",
        "        res[s].append(test_r2_score)\n",
        "        train_res[s].append(train_r2_score)\n",
        "\n",
        "#To get the best test score\n",
        "maximum = max(res, key=res.get)\n",
        "print(\"min sample leaf value = {}, sample split value = {} for the best R2 score = {}\" .format(s ,res[maximum].index(max(res[maximum])) , max(res[maximum]) * 100))\n",
        "#To get train value corresponding to best test result\n",
        "optim_dt_test_score = max(res[maximum])\n",
        "optim_dt_train_score = train_res[maximum][res[maximum].index(max(res[maximum]))]\n",
        "print(\"Train R2 score corresponding to best test result = \" ,train_res[maximum][res[maximum].index(max(res[maximum]))] * 100)"
      ],
      "execution_count": 197,
      "outputs": [
        {
          "output_type": "stream",
          "text": [
            "min sample leaf value = 4096, sample split value = 2 for the best R2 score = 68.01446120967486\n",
            "Train R2 score corresponding to best test result =  81.81385789809963\n"
          ],
          "name": "stdout"
        }
      ]
    },
    {
      "cell_type": "markdown",
      "metadata": {
        "id": "Sa9dolABRH1q",
        "colab_type": "text"
      },
      "source": [
        "We can see that the train R2 score is still higher than test score. This could be made better using ensember model"
      ]
    },
    {
      "cell_type": "code",
      "metadata": {
        "id": "MM1GzgeGGZME",
        "colab_type": "code",
        "colab": {
          "base_uri": "https://localhost:8080/",
          "height": 422
        },
        "outputId": "0e3f4acc-9c27-4a60-c4d2-e1044d65c074"
      },
      "source": [
        "def r():\n",
        "    return np.random.rand()\n",
        "\n",
        "fig = plt.figure(figsize = (15, 6))\n",
        "ax = fig.add_subplot(111)\n",
        "\n",
        "for l in min_samples_leaf_values:\n",
        "    plt.plot(np.log2(min_samples_split_values), res[l], \n",
        "             color=(r(),r(),r()), label='Leaf={}'.format(np.floor(l)))\n",
        "\n",
        "box = ax.get_position()\n",
        "ax.set_position([box.x0, box.y0, box.width * 0.8, box.height])\n",
        "\n",
        "ax.legend(loc='center left', bbox_to_anchor=(1, 0.5))\n",
        "ax.set_xlabel('Min Split Size - Log2')\n",
        "ax.set_ylabel('Test Set Accuracy')\n",
        "plt.title('Holdout Accuracy by Hyperparameters')"
      ],
      "execution_count": 198,
      "outputs": [
        {
          "output_type": "execute_result",
          "data": {
            "text/plain": [
              "Text(0.5, 1.0, 'Holdout Accuracy by Hyperparameters')"
            ]
          },
          "metadata": {
            "tags": []
          },
          "execution_count": 198
        },
        {
          "output_type": "display_data",
          "data": {
            "image/png": "[encoded data removed]",
            "text/plain": [
              "<Figure size 1080x432 with 1 Axes>"
            ]
          },
          "metadata": {
            "tags": []
          }
        }
      ]
    },
    {
      "cell_type": "code",
      "metadata": {
        "id": "AQyKl6_LavVe",
        "colab_type": "code",
        "outputId": "a5c11670-454d-4922-ca14-02e94de09344",
        "colab": {
          "base_uri": "https://localhost:8080/",
          "height": 54
        }
      },
      "source": [
        "def pred_model_rf(X_train, y_train, X_test, y_test):\n",
        "  model_rf = ensemble.RandomForestRegressor(n_estimators = 500)\n",
        "  model_rf.fit(X_train, y_train)\n",
        "  y_train_pred_randomForest = model_rf.predict(X_test)\n",
        "  Test_r2_score_randomForest = metrics.r2_score(y_test, y_train_pred_randomForest)\n",
        "  print(\"R2 Score for Random Forest on testing data = {}\" .format(Test_r2_score_randomForest * 100))\n",
        "\n",
        "  y_train_pred_randomForest = model_rf.predict(X_train)\n",
        "  Train_r2_score_randomForest = metrics.r2_score(y_train, y_train_pred_randomForest)\n",
        "  print(\"R2 Score for Random Forest on training data = {}\" .format(Train_r2_score_randomForest * 100))\n",
        "\n",
        "  return model_rf, Test_r2_score_randomForest, Train_r2_score_randomForest\n",
        "\n",
        "\n",
        "model_rf, rf_test_score, rf_train_score = pred_model_rf(X_train_scaled, y_train, X_test_scaled, y_test )"
      ],
      "execution_count": 199,
      "outputs": [
        {
          "output_type": "stream",
          "text": [
            "R2 Score for Random Forest on testing data = 77.82468677769079\n",
            "R2 Score for Random Forest on training data = 97.01230107457332\n"
          ],
          "name": "stdout"
        }
      ]
    },
    {
      "cell_type": "code",
      "metadata": {
        "id": "Ekx5mQn6eJus",
        "colab_type": "code",
        "colab": {
          "base_uri": "https://localhost:8080/",
          "height": 217
        },
        "outputId": "2f33f079-be12-40b7-e4f9-1028636f3156"
      },
      "source": [
        "#Hyperparameter tuning\n",
        "def pred_model_rf_hp_tuning(X_train, y_train, X_test, y_test):\n",
        "  best_test_Score = 0\n",
        "  for estimator in range(100,1100,200):\n",
        "    model_rf = ensemble.RandomForestRegressor(n_estimators = estimator)\n",
        "    model_rf.fit(X_train, y_train)\n",
        "    y_train_pred_randomForest = model_rf.predict(X_test)\n",
        "    Test_r2_score_randomForest = metrics.r2_score(y_test, y_train_pred_randomForest)\n",
        "    print(\"R2 Score for Random Forest on testing data = {} for estimator = {}\" .format(Test_r2_score_randomForest * 100, estimator))\n",
        "\n",
        "    y_train_pred_randomForest = model_rf.predict(X_train)\n",
        "    Train_r2_score_randomForest = metrics.r2_score(y_train, y_train_pred_randomForest)\n",
        "    print(\"R2 Score for Random Forest on training data = {}  for estimator = {}\" .format(Train_r2_score_randomForest * 100, estimator))\n",
        "\n",
        "    if best_test_Score < Test_r2_score_randomForest:\n",
        "      best_test_Score = Test_r2_score_randomForest\n",
        "      optimum_estimator = estimator\n",
        "\n",
        "  return optimum_estimator\n",
        "\n",
        "optimum_estimator = pred_model_rf_hp_tuning(X_train_scaled, y_train, X_test_scaled, y_test )\n",
        "print(\"Optimum Estimator Value= \",optimum_estimator )"
      ],
      "execution_count": 200,
      "outputs": [
        {
          "output_type": "stream",
          "text": [
            "R2 Score for Random Forest on testing data = 76.60308109277265 for estimator = 100\n",
            "R2 Score for Random Forest on training data = 96.90847397652654  for estimator = 100\n",
            "R2 Score for Random Forest on testing data = 77.77028575453654 for estimator = 300\n",
            "R2 Score for Random Forest on training data = 97.04813309901496  for estimator = 300\n",
            "R2 Score for Random Forest on testing data = 77.75887969505226 for estimator = 500\n",
            "R2 Score for Random Forest on training data = 96.9989517015454  for estimator = 500\n",
            "R2 Score for Random Forest on testing data = 77.75543826644919 for estimator = 700\n",
            "R2 Score for Random Forest on training data = 97.0160670856259  for estimator = 700\n",
            "R2 Score for Random Forest on testing data = 77.98209984878856 for estimator = 900\n",
            "R2 Score for Random Forest on training data = 97.07466094825145  for estimator = 900\n",
            "Optimum Estimator Value=  900\n"
          ],
          "name": "stdout"
        }
      ]
    },
    {
      "cell_type": "markdown",
      "metadata": {
        "id": "_0G8hxiGPiNz",
        "colab_type": "text"
      },
      "source": [
        "K fold Cross Validation"
      ]
    },
    {
      "cell_type": "code",
      "metadata": {
        "id": "hkZkZThBPuY3",
        "colab_type": "code",
        "colab": {
          "base_uri": "https://localhost:8080/",
          "height": 217
        },
        "outputId": "7e34a8e4-2126-40a3-ce9b-270ecf92b4d9"
      },
      "source": [
        "n_splits = 5\n",
        "tscv = model_selection.TimeSeriesSplit(n_splits=n_splits)\n",
        "split_number = 0\n",
        "best_r2_test = 0\n",
        "\n",
        "r2_score_cv = []\n",
        "for train_index, test_index in tscv.split(X):\n",
        "  split_number += 1\n",
        "  #print(\"TRAIN:\", train_index, \"TEST:\", test_index)\n",
        "  X_train_cv, X_test_cv = X.iloc[train_index], X.iloc[test_index]\n",
        "  y_train_cv, y_test_cv = y.iloc[train_index], y.iloc[test_index]\n",
        "\n",
        "  mm_scaler = sklearn.preprocessing.MinMaxScaler()\n",
        "  X_train_cv_scaled = mm_scaler.fit_transform(X_train_cv)\n",
        "  X_test_cv_scaled = mm_scaler.transform(X_test_cv)\n",
        "  \n",
        "  #Using the optimum estimator value previously calculated\n",
        "  model_rf = sklearn.ensemble.RandomForestRegressor(n_estimators = optimum_estimator)\n",
        "  model_rf.fit(X_train_cv_scaled, y_train_cv)\n",
        "  y_train_pred_randomForest = model_rf.predict(X_test_cv_scaled)\n",
        "  Test_r2_score_randomForest = metrics.r2_score(y_test_cv, y_train_pred_randomForest)\n",
        "  print(\"R2 Score for Random Forest on testing data = {} for split number = {}\" .format(Test_r2_score_randomForest * 100, split_number))\n",
        "\n",
        "  y_train_pred_randomForest = model_rf.predict(X_train_cv_scaled)\n",
        "  Train_r2_score_randomForest = metrics.r2_score(y_train_cv, y_train_pred_randomForest)\n",
        "  print(\"R2 Score for Random Forest on training data = {} for split number = {}\" .format(Train_r2_score_randomForest * 100, split_number))\n",
        "\n",
        "  r2_score_cv.append(Test_r2_score_randomForest)\n",
        "\n",
        "  if Test_r2_score_randomForest > best_r2_test:\n",
        "    best_r2_test = Test_r2_score_randomForest\n",
        "    best_r2_train = Train_r2_score_randomForest\n",
        "    best_split_model = copy.deepcopy(model_rf)\n",
        "    best_split_X_train = X_train_cv.copy() \n",
        "    best_split_X_test = y_train_cv.copy()\n",
        "\n",
        "print(\"R2 Score for the best Random Forest model on testing data = {}\" .format(best_r2_test * 100))"
      ],
      "execution_count": 201,
      "outputs": [
        {
          "output_type": "stream",
          "text": [
            "R2 Score for Random Forest on testing data = 21.414756887047293 for split number = 1\n",
            "R2 Score for Random Forest on training data = 96.81997450086112 for split number = 1\n",
            "R2 Score for Random Forest on testing data = 59.924609184113656 for split number = 2\n",
            "R2 Score for Random Forest on training data = 96.30120782662613 for split number = 2\n",
            "R2 Score for Random Forest on testing data = 79.32293859188668 for split number = 3\n",
            "R2 Score for Random Forest on training data = 96.22805444282069 for split number = 3\n",
            "R2 Score for Random Forest on testing data = 72.96357052981574 for split number = 4\n",
            "R2 Score for Random Forest on training data = 96.89599020738378 for split number = 4\n",
            "R2 Score for Random Forest on testing data = 84.71861855863611 for split number = 5\n",
            "R2 Score for Random Forest on training data = 97.02898540824467 for split number = 5\n",
            "R2 Score for the best Random Forest model on testing data = 84.71861855863611\n"
          ],
          "name": "stdout"
        }
      ]
    },
    {
      "cell_type": "code",
      "metadata": {
        "id": "SVsiwT1dP3EL",
        "colab_type": "code",
        "colab": {
          "base_uri": "https://localhost:8080/",
          "height": 295
        },
        "outputId": "10fd72dc-0478-4777-8b06-3fa005ce087e"
      },
      "source": [
        "y_pos = np.arange(n_splits)\n",
        "plt.bar(y_pos,r2_score_cv, align='center', alpha=0.5)\n",
        "plt.xticks(y_pos,range(n_splits))\n",
        "plt.ylabel('R2 Score')\n",
        "plt.xlabel('Splits')\n",
        "plt.title('R2 Score Cross Validation')\n",
        "\n",
        "plt.show()"
      ],
      "execution_count": 202,
      "outputs": [
        {
          "output_type": "display_data",
          "data": {
            "image/png": "[encoded data removed]",
            "text/plain": [
              "<Figure size 432x288 with 1 Axes>"
            ]
          },
          "metadata": {
            "tags": []
          }
        }
      ]
    },
    {
      "cell_type": "code",
      "metadata": {
        "id": "Qp5r8CedgfOm",
        "colab_type": "code",
        "colab": {
          "base_uri": "https://localhost:8080/",
          "height": 355
        },
        "outputId": "c7fc6335-5966-45d8-a118-5bc7bcccd133"
      },
      "source": [
        "extended_feature_importance = model_rf.feature_importances_\n",
        "\n",
        "extended_feature_dict = {}\n",
        "for i in range(len(feature_importance)):\n",
        "  extended_feature_dict[list(X.columns)[i]] = extended_feature_importance[i]\n",
        "\n",
        "y_pos = np.arange(len(extended_feature_importance))\n",
        "plt.bar(y_pos,extended_feature_importance, align='center', alpha=0.5)\n",
        "plt.xticks(y_pos, X_train.columns[:len(feature_importance)])\n",
        "plt.ylabel('Feature importance')\n",
        "plt.title('features')\n",
        "plt.xticks(rotation=90)\n",
        "\n",
        "plt.figure(figsize=(50,30))\n",
        "#plt.tight_layout()\n",
        "\n",
        "plt.show()"
      ],
      "execution_count": 203,
      "outputs": [
        {
          "output_type": "display_data",
          "data": {
            "image/png": "[encoded data removed]",
            "text/plain": [
              "<Figure size 432x288 with 1 Axes>"
            ]
          },
          "metadata": {
            "tags": []
          }
        },
        {
          "output_type": "display_data",
          "data": {
            "text/plain": [
              "<Figure size 3600x2160 with 0 Axes>"
            ]
          },
          "metadata": {
            "tags": []
          }
        }
      ]
    },
    {
      "cell_type": "code",
      "metadata": {
        "id": "tip3QbwFAnJ3",
        "colab_type": "code",
        "colab": {
          "base_uri": "https://localhost:8080/",
          "height": 393
        },
        "outputId": "a5c891cf-c99b-4674-f03e-18d425d4a5d7"
      },
      "source": [
        "extended_model_scores = {\n",
        "    \"Linear Regression\": [regr_test_score, regr_train_score],\n",
        "    \"Ridge Regression\" : [ridge_test_score, ridge_train_score],\n",
        "    \"Stochastic Gradient Descent\": [sgd_test_score, sgd_test_score],\n",
        "    \"SVM\": [svm_test_score, svm_train_score],\n",
        "    \"Decision Trees\": [dt_test_score, dt_train_score], \n",
        "    \"Optimised Decision Tree\": [optim_dt_test_score, optim_dt_train_score],\n",
        "    \"Random Forest\": [rf_test_score, rf_train_score],\n",
        "    \"Optimised Random Forest\" : [best_r2_test ,best_r2_train]}\n",
        "\n",
        "barWidth = 0.35\n",
        "\n",
        "r1 = np.arange(len(extended_model_scores.keys()))\n",
        "r2 = [x + barWidth for x in r1]\n",
        "\n",
        "plt.bar(r1, [value[1] for key, value in extended_model_scores.items()], color='#7f6d5f', width=barWidth, edgecolor='white', label='Train R2 Score')\n",
        "plt.bar(r2, [max(value[0],-1) for key, value in extended_model_scores.items()], color='#557f2d', width=barWidth, edgecolor='white', label='Validation R2 Score')\n",
        "\n",
        "plt.title(\"Model Performance plot\")\n",
        "plt.xlabel('Models')\n",
        "plt.xticks([r + barWidth for r in range(len(extended_model_scores.keys()))], [key for key, value in extended_model_scores.items()], rotation = 45, ha = 'right')\n",
        "plt.ylabel('R2 Score')\n",
        "plt.legend()#loc=9, bbox_to_anchor=(0.8,0.2))\n",
        "#plt.figure(figsize=(50,30))\n",
        "#plt.tight_layout()\n",
        "plt.savefig(\"model_performance.jpg\", dpi= 200, pad_inches = 100)#, bbox_inches = 20)\n",
        "\n",
        "plt.show()\n"
      ],
      "execution_count": 204,
      "outputs": [
        {
          "output_type": "display_data",
          "data": {
            "image/png": "[encoded data removed]",
            "text/plain": [
              "<Figure size 432x288 with 1 Axes>"
            ]
          },
          "metadata": {
            "tags": []
          }
        }
      ]
    },
    {
      "cell_type": "code",
      "metadata": {
        "id": "TETA-WucmZBi",
        "colab_type": "code",
        "colab": {
          "base_uri": "https://localhost:8080/",
          "height": 35
        },
        "outputId": "f6b50cda-5005-4486-b747-c8a47edd9990"
      },
      "source": [
        "y_pred = best_split_model.predict(final_x_test_scaled)\n",
        "Test_r2_score_final = metrics.r2_score(final_y_test, y_pred)\n",
        "print(\"R2 Score on testing data = {}\" .format(Test_r2_score_final * 100))"
      ],
      "execution_count": 205,
      "outputs": [
        {
          "output_type": "stream",
          "text": [
            "R2 Score on testing data = 77.50056730174576\n"
          ],
          "name": "stdout"
        }
      ]
    },
    {
      "cell_type": "code",
      "metadata": {
        "id": "qYS7w8PQC85-",
        "colab_type": "code",
        "colab": {
          "base_uri": "https://localhost:8080/",
          "height": 35
        },
        "outputId": "939c37f5-229b-4a7d-d0e4-3673398e6a81"
      },
      "source": [
        "y_pred = model_regr.predict(final_x_test_scaled)\n",
        "Test_r2_score_final = metrics.r2_score(final_y_test, y_pred)\n",
        "Test_r2_score_final_mse = metrics.mean_squared_error(final_y_test, y_pred)\n",
        "print(\"R2 Score on testing data = {}\" .format(Test_r2_score_final_mse * 100))"
      ],
      "execution_count": 206,
      "outputs": [
        {
          "output_type": "stream",
          "text": [
            "R2 Score on testing data = 154585.8910813951\n"
          ],
          "name": "stdout"
        }
      ]
    }
  ]
}