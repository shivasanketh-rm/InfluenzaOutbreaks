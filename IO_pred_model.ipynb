{
  "nbformat": 4,
  "nbformat_minor": 0,
  "metadata": {
    "colab": {
      "name": "IO_pred_model.ipynb",
      "provenance": [],
      "collapsed_sections": []
    },
    "kernelspec": {
      "name": "python3",
      "display_name": "Python 3"
    },
    "accelerator": "GPU"
  },
  "cells": [
    {
      "cell_type": "code",
      "metadata": {
        "id": "_hyNVLriWD_i",
        "colab_type": "code",
        "colab": {}
      },
      "source": [
        "import pandas as pd\n",
        "import numpy as np\n",
        "import matplotlib.pyplot as plt  \n",
        "import seaborn as seabornInstance \n",
        "\n",
        "import sklearn\n",
        "from sklearn import metrics\n",
        "from sklearn import model_selection\n",
        "from sklearn import linear_model\n",
        "from sklearn import svm\n",
        "from sklearn import ensemble\n",
        "from sklearn import tree\n",
        "\n",
        "import matplotlib.pyplot as plt\n",
        "import copy\n",
        "%matplotlib inline"
      ],
      "execution_count": 0,
      "outputs": []
    },
    {
      "cell_type": "code",
      "metadata": {
        "id": "0Uc9jSi6Wv0G",
        "colab_type": "code",
        "outputId": "d9d804af-f643-4d63-bb75-ae2171e799ce",
        "colab": {
          "base_uri": "https://localhost:8080/",
          "height": 308
        }
      },
      "source": [
        "df_master = pd.read_csv(\"master_12-05.csv\", index_col=0)\n",
        "df_master.describe()\n"
      ],
      "execution_count": 2,
      "outputs": [
        {
          "output_type": "execute_result",
          "data": {
            "text/html": [
              "<div>\n",
              "<style scoped>\n",
              "    .dataframe tbody tr th:only-of-type {\n",
              "        vertical-align: middle;\n",
              "    }\n",
              "\n",
              "    .dataframe tbody tr th {\n",
              "        vertical-align: top;\n",
              "    }\n",
              "\n",
              "    .dataframe thead th {\n",
              "        text-align: right;\n",
              "    }\n",
              "</style>\n",
              "<table border=\"1\" class=\"dataframe\">\n",
              "  <thead>\n",
              "    <tr style=\"text-align: right;\">\n",
              "      <th></th>\n",
              "      <th>FIPS</th>\n",
              "      <th>year</th>\n",
              "      <th>CDC Week</th>\n",
              "      <th>Count</th>\n",
              "      <th>Disease_INFLUENZA_A</th>\n",
              "      <th>Disease_INFLUENZA_B</th>\n",
              "      <th>Disease_INFLUENZA_UNSPECIFIED</th>\n",
              "      <th>flu</th>\n",
              "      <th>fluSymptoms</th>\n",
              "      <th>fever</th>\n",
              "      <th>cough</th>\n",
              "      <th>soreThroat</th>\n",
              "      <th>Target</th>\n",
              "      <th>VaxRate</th>\n",
              "      <th>PRCP</th>\n",
              "      <th>SNOW</th>\n",
              "      <th>TAVG</th>\n",
              "      <th>TMAX</th>\n",
              "      <th>TMIN</th>\n",
              "      <th>SNOWDepth</th>\n",
              "    </tr>\n",
              "  </thead>\n",
              "  <tbody>\n",
              "    <tr>\n",
              "      <th>count</th>\n",
              "      <td>20080.000000</td>\n",
              "      <td>20080.000000</td>\n",
              "      <td>20080.000000</td>\n",
              "      <td>20080.000000</td>\n",
              "      <td>20080.000000</td>\n",
              "      <td>20080.000000</td>\n",
              "      <td>20080.000000</td>\n",
              "      <td>18592.000000</td>\n",
              "      <td>18592.000000</td>\n",
              "      <td>18592.000000</td>\n",
              "      <td>18592.000000</td>\n",
              "      <td>18592.000000</td>\n",
              "      <td>19956.000000</td>\n",
              "      <td>9540.000000</td>\n",
              "      <td>18462.000000</td>\n",
              "      <td>15685.000000</td>\n",
              "      <td>18187.000000</td>\n",
              "      <td>18192.000000</td>\n",
              "      <td>18188.000000</td>\n",
              "      <td>15062.000000</td>\n",
              "    </tr>\n",
              "    <tr>\n",
              "      <th>mean</th>\n",
              "      <td>36063.424900</td>\n",
              "      <td>2014.174402</td>\n",
              "      <td>24.816434</td>\n",
              "      <td>26.010458</td>\n",
              "      <td>20.003088</td>\n",
              "      <td>5.811604</td>\n",
              "      <td>0.195767</td>\n",
              "      <td>0.026605</td>\n",
              "      <td>0.020833</td>\n",
              "      <td>0.287768</td>\n",
              "      <td>0.256351</td>\n",
              "      <td>0.260344</td>\n",
              "      <td>26.124424</td>\n",
              "      <td>0.555987</td>\n",
              "      <td>0.131613</td>\n",
              "      <td>0.486394</td>\n",
              "      <td>38.083467</td>\n",
              "      <td>46.986435</td>\n",
              "      <td>29.187038</td>\n",
              "      <td>2.208371</td>\n",
              "    </tr>\n",
              "    <tr>\n",
              "      <th>std</th>\n",
              "      <td>35.586314</td>\n",
              "      <td>2.992755</td>\n",
              "      <td>18.086529</td>\n",
              "      <td>88.217416</td>\n",
              "      <td>68.727437</td>\n",
              "      <td>29.215823</td>\n",
              "      <td>1.604029</td>\n",
              "      <td>0.090495</td>\n",
              "      <td>0.079796</td>\n",
              "      <td>0.149518</td>\n",
              "      <td>0.178057</td>\n",
              "      <td>0.168710</td>\n",
              "      <td>88.469715</td>\n",
              "      <td>0.089235</td>\n",
              "      <td>0.136317</td>\n",
              "      <td>1.070909</td>\n",
              "      <td>13.208433</td>\n",
              "      <td>14.038245</td>\n",
              "      <td>12.852083</td>\n",
              "      <td>4.444374</td>\n",
              "    </tr>\n",
              "    <tr>\n",
              "      <th>min</th>\n",
              "      <td>36001.000000</td>\n",
              "      <td>2009.000000</td>\n",
              "      <td>1.000000</td>\n",
              "      <td>0.000000</td>\n",
              "      <td>0.000000</td>\n",
              "      <td>0.000000</td>\n",
              "      <td>0.000000</td>\n",
              "      <td>0.000000</td>\n",
              "      <td>0.000000</td>\n",
              "      <td>0.000000</td>\n",
              "      <td>0.000000</td>\n",
              "      <td>0.000000</td>\n",
              "      <td>0.000000</td>\n",
              "      <td>0.337000</td>\n",
              "      <td>0.000000</td>\n",
              "      <td>0.000000</td>\n",
              "      <td>-5.785714</td>\n",
              "      <td>6.375000</td>\n",
              "      <td>-23.142857</td>\n",
              "      <td>0.000000</td>\n",
              "    </tr>\n",
              "    <tr>\n",
              "      <th>25%</th>\n",
              "      <td>36033.000000</td>\n",
              "      <td>2012.000000</td>\n",
              "      <td>9.000000</td>\n",
              "      <td>0.000000</td>\n",
              "      <td>0.000000</td>\n",
              "      <td>0.000000</td>\n",
              "      <td>0.000000</td>\n",
              "      <td>0.002475</td>\n",
              "      <td>0.001258</td>\n",
              "      <td>0.204321</td>\n",
              "      <td>0.139920</td>\n",
              "      <td>0.140832</td>\n",
              "      <td>0.000000</td>\n",
              "      <td>0.520000</td>\n",
              "      <td>0.035714</td>\n",
              "      <td>0.000000</td>\n",
              "      <td>28.500000</td>\n",
              "      <td>36.142857</td>\n",
              "      <td>20.714286</td>\n",
              "      <td>0.000000</td>\n",
              "    </tr>\n",
              "    <tr>\n",
              "      <th>50%</th>\n",
              "      <td>36065.000000</td>\n",
              "      <td>2014.000000</td>\n",
              "      <td>17.000000</td>\n",
              "      <td>2.000000</td>\n",
              "      <td>1.000000</td>\n",
              "      <td>0.000000</td>\n",
              "      <td>0.000000</td>\n",
              "      <td>0.005558</td>\n",
              "      <td>0.002965</td>\n",
              "      <td>0.271068</td>\n",
              "      <td>0.221400</td>\n",
              "      <td>0.247043</td>\n",
              "      <td>2.000000</td>\n",
              "      <td>0.591000</td>\n",
              "      <td>0.098571</td>\n",
              "      <td>0.000000</td>\n",
              "      <td>37.928571</td>\n",
              "      <td>46.285714</td>\n",
              "      <td>29.500000</td>\n",
              "      <td>0.000000</td>\n",
              "    </tr>\n",
              "    <tr>\n",
              "      <th>75%</th>\n",
              "      <td>36095.000000</td>\n",
              "      <td>2017.000000</td>\n",
              "      <td>44.000000</td>\n",
              "      <td>14.000000</td>\n",
              "      <td>10.000000</td>\n",
              "      <td>2.000000</td>\n",
              "      <td>0.000000</td>\n",
              "      <td>0.013376</td>\n",
              "      <td>0.008617</td>\n",
              "      <td>0.355073</td>\n",
              "      <td>0.332691</td>\n",
              "      <td>0.364779</td>\n",
              "      <td>15.000000</td>\n",
              "      <td>0.620000</td>\n",
              "      <td>0.185536</td>\n",
              "      <td>0.500000</td>\n",
              "      <td>48.428571</td>\n",
              "      <td>58.142857</td>\n",
              "      <td>38.428571</td>\n",
              "      <td>2.333333</td>\n",
              "    </tr>\n",
              "    <tr>\n",
              "      <th>max</th>\n",
              "      <td>36123.000000</td>\n",
              "      <td>2019.000000</td>\n",
              "      <td>53.000000</td>\n",
              "      <td>2401.000000</td>\n",
              "      <td>1213.000000</td>\n",
              "      <td>1166.000000</td>\n",
              "      <td>92.000000</td>\n",
              "      <td>1.000000</td>\n",
              "      <td>0.915000</td>\n",
              "      <td>1.244567</td>\n",
              "      <td>1.245430</td>\n",
              "      <td>1.016013</td>\n",
              "      <td>2401.000000</td>\n",
              "      <td>0.721000</td>\n",
              "      <td>2.820000</td>\n",
              "      <td>15.000000</td>\n",
              "      <td>70.750000</td>\n",
              "      <td>86.000000</td>\n",
              "      <td>67.000000</td>\n",
              "      <td>38.285714</td>\n",
              "    </tr>\n",
              "  </tbody>\n",
              "</table>\n",
              "</div>"
            ],
            "text/plain": [
              "               FIPS          year  ...          TMIN     SNOWDepth\n",
              "count  20080.000000  20080.000000  ...  18188.000000  15062.000000\n",
              "mean   36063.424900   2014.174402  ...     29.187038      2.208371\n",
              "std       35.586314      2.992755  ...     12.852083      4.444374\n",
              "min    36001.000000   2009.000000  ...    -23.142857      0.000000\n",
              "25%    36033.000000   2012.000000  ...     20.714286      0.000000\n",
              "50%    36065.000000   2014.000000  ...     29.500000      0.000000\n",
              "75%    36095.000000   2017.000000  ...     38.428571      2.333333\n",
              "max    36123.000000   2019.000000  ...     67.000000     38.285714\n",
              "\n",
              "[8 rows x 20 columns]"
            ]
          },
          "metadata": {
            "tags": []
          },
          "execution_count": 2
        }
      ]
    },
    {
      "cell_type": "markdown",
      "metadata": {
        "id": "LwzUFoYJ26o3",
        "colab_type": "text"
      },
      "source": [
        "Features to consider"
      ]
    },
    {
      "cell_type": "code",
      "metadata": {
        "id": "EX2ynw05252W",
        "colab_type": "code",
        "colab": {
          "base_uri": "https://localhost:8080/",
          "height": 219
        },
        "outputId": "9a3abb69-4593-4f7f-80ed-b6b89bd8a88d"
      },
      "source": [
        "#List of all the features to consider including target variable\n",
        "columns = ['year','CDC Week','Week Ending Date','PRCP','TAVG','Target','Count', 'SNOWDepth', 'UnempRate','GDP', 'Population','VaxRate', 'flu', 'fluSymptoms','fever','cough', 'soreThroat']\n",
        "features_withTarget = ['year','CDC Week','PRCP','TAVG', 'SNOWDepth','Count', 'UnempRate','GDP', 'Population','VaxRate', 'Target', 'flu', 'fluSymptoms','fever','cough', 'soreThroat']\n",
        "target_variable = 'Target'\n",
        "features = features_withTarget.copy()\n",
        "features.remove(target_variable)\n",
        "print(\"columns = \", columns)\n",
        "print(\"features = \",features )\n",
        "print(\"target_variable = \",target_variable )\n",
        "df_master_modified = df_master[columns]\n",
        "\n",
        "\n",
        "for column in df_master_modified.columns:\n",
        "  if column != 'Week Ending Date':\n",
        "    df_master_modified[column] = pd.to_numeric(df_master_modified[column],errors='coerce')\n",
        "print(\"Shape of dataframe = \", df_master_modified.shape)\n"
      ],
      "execution_count": 3,
      "outputs": [
        {
          "output_type": "stream",
          "text": [
            "columns =  ['year', 'CDC Week', 'Week Ending Date', 'PRCP', 'TAVG', 'Target', 'Count', 'SNOWDepth', 'UnempRate', 'GDP', 'Population', 'VaxRate', 'flu', 'fluSymptoms', 'fever', 'cough', 'soreThroat']\n",
            "features =  ['year', 'CDC Week', 'PRCP', 'TAVG', 'SNOWDepth', 'Count', 'UnempRate', 'GDP', 'Population', 'VaxRate', 'flu', 'fluSymptoms', 'fever', 'cough', 'soreThroat']\n",
            "target_variable =  Target\n",
            "Shape of dataframe =  (20080, 17)\n"
          ],
          "name": "stdout"
        },
        {
          "output_type": "stream",
          "text": [
            "/usr/local/lib/python3.6/dist-packages/ipykernel_launcher.py:14: SettingWithCopyWarning: \n",
            "A value is trying to be set on a copy of a slice from a DataFrame.\n",
            "Try using .loc[row_indexer,col_indexer] = value instead\n",
            "\n",
            "See the caveats in the documentation: http://pandas.pydata.org/pandas-docs/stable/user_guide/indexing.html#returning-a-view-versus-a-copy\n",
            "  \n"
          ],
          "name": "stderr"
        }
      ]
    },
    {
      "cell_type": "markdown",
      "metadata": {
        "id": "fkIJNJ8z4A9A",
        "colab_type": "text"
      },
      "source": [
        "Handling missing data"
      ]
    },
    {
      "cell_type": "code",
      "metadata": {
        "id": "qzMycM_44EaE",
        "colab_type": "code",
        "colab": {
          "base_uri": "https://localhost:8080/",
          "height": 145
        },
        "outputId": "67065308-3576-4329-f8f2-081da10fccb3"
      },
      "source": [
        "def missing_data_handle(dataframe, method = \"drop\"):\n",
        "  if method == \"drop\":\n",
        "    dataframe_updated = dataframe.dropna()\n",
        "    #dataframe_updated = dataframe_updated.drop(columns = ['Week Ending Date'])\n",
        "    return dataframe_updated\n",
        "  elif method == \"avg_over_month\":\n",
        "    #print(\"nans before averaging over month = \", dataframe.isna().sum())\n",
        "    dataframe['Date'] = pd.to_datetime(dataframe['Week Ending Date'])\n",
        "    dataframe_updated = dataframe.fillna(dataframe.groupby(dataframe.Date.dt.month).transform('mean'))\n",
        "    #print(\"nans after averaging over month = \", dataframe.isna().sum())\n",
        "    #print(dataframe.head())\n",
        "    dataframe_updated = dataframe_updated.drop(columns = [\"Date\"])\n",
        "    return dataframe_updated\n",
        "  else:\n",
        "    print(\"Invalid method\")\n",
        "    return dataframe\n",
        "\n",
        "df_master_modified = missing_data_handle(dataframe = df_master_modified, method = \"avg_over_month\")\n",
        "df_master_modified.shape\n",
        "\n",
        "columns_to_remove = ['Week Ending Date']\n",
        "df_master_modified = df_master_modified.drop(columns = columns_to_remove)\n",
        "#df_master_modified['Count'] = pd.to_numeric(df_master_modified['Count'],errors='coerce')\n",
        "\n",
        "'''print(df_master_modified.shape)\n",
        "\n",
        "for column in df_master_modified.columns:\n",
        "   df_master_modified[column] = pd.to_numeric(df_master_modified[column],errors='coerce')\n",
        "  \n",
        "df_master_modified = df_master_modified.dropna()'''\n",
        "print(df_master_modified.shape)"
      ],
      "execution_count": 4,
      "outputs": [
        {
          "output_type": "stream",
          "text": [
            "/usr/local/lib/python3.6/dist-packages/ipykernel_launcher.py:8: SettingWithCopyWarning: \n",
            "A value is trying to be set on a copy of a slice from a DataFrame.\n",
            "Try using .loc[row_indexer,col_indexer] = value instead\n",
            "\n",
            "See the caveats in the documentation: http://pandas.pydata.org/pandas-docs/stable/user_guide/indexing.html#returning-a-view-versus-a-copy\n",
            "  \n"
          ],
          "name": "stderr"
        },
        {
          "output_type": "stream",
          "text": [
            "(20080, 16)\n"
          ],
          "name": "stdout"
        }
      ]
    },
    {
      "cell_type": "markdown",
      "metadata": {
        "id": "foe-D0wc4W-L",
        "colab_type": "text"
      },
      "source": [
        "Preprocessing"
      ]
    },
    {
      "cell_type": "code",
      "metadata": {
        "id": "8odVxQYa4Lpo",
        "colab_type": "code",
        "colab": {}
      },
      "source": [
        "#columns to remove\n",
        "#columns_to_remove = ['Week Ending Date']\n",
        "#df_master_modified = df_master_modified.drop(columns = columns_to_remove)\n",
        "\n",
        "#Divide into features and dependent variable \n",
        "X = df_master_modified[features]\n",
        "y = df_master_modified[target_variable]\n",
        "\n",
        "#Divide into Training set and test set\n",
        "X_train, X_test, y_train, y_test = model_selection.train_test_split(X, y, test_size=0.2, random_state=0, shuffle = False)\n",
        "\n",
        "#Scaling\n",
        "mm_scaler = sklearn.preprocessing.MinMaxScaler()\n",
        "X_train_scaled = mm_scaler.fit_transform(X_train)\n",
        "X_test_scaled = mm_scaler.transform(X_test)"
      ],
      "execution_count": 0,
      "outputs": []
    },
    {
      "cell_type": "markdown",
      "metadata": {
        "id": "Y9W0gTB646kE",
        "colab_type": "text"
      },
      "source": [
        "Linear Regression model"
      ]
    },
    {
      "cell_type": "code",
      "metadata": {
        "id": "jVERA4uMZQdE",
        "colab_type": "code",
        "outputId": "c2db326f-0457-4cce-fdf0-a6d6be0b42a6",
        "colab": {
          "base_uri": "https://localhost:8080/",
          "height": 54
        }
      },
      "source": [
        "def pred_model_regr(X_train, y_train, X_test, y_test ):\n",
        "  model_regr = linear_model.LinearRegression()\n",
        "  model_regr.fit(X_train, y_train)\n",
        "  y_pred_regression = model_regr.predict(X_test)\n",
        "  Test_r2_score_regression = metrics.r2_score(y_test, y_pred_regression)\n",
        "  print(\"R2 Score for Regression on testing data = {}\" .format(Test_r2_score_regression * 100))\n",
        "\n",
        "  y_train_pred_regression = model_regr.predict(X_train)\n",
        "  Train_r2_score_regression = metrics.r2_score(y_train, y_train_pred_regression)\n",
        "  print(\"R2 Score for Regression on training data = {}\" .format(Train_r2_score_regression * 100))\n",
        "\n",
        "  return model_regr, Test_r2_score_regression, Train_r2_score_regression\n",
        "\n",
        "model_regr, regr_test_score, regr_train_score = pred_model_regr(X_train_scaled, y_train, X_test_scaled, y_test )"
      ],
      "execution_count": 6,
      "outputs": [
        {
          "output_type": "stream",
          "text": [
            "R2 Score for Regression on testing data = 70.97165150809633\n",
            "R2 Score for Regression on training data = 69.20866812455351\n"
          ],
          "name": "stdout"
        }
      ]
    },
    {
      "cell_type": "markdown",
      "metadata": {
        "id": "69CQptJThIPQ",
        "colab_type": "text"
      },
      "source": [
        "Stochastic Gradient Descent"
      ]
    },
    {
      "cell_type": "code",
      "metadata": {
        "id": "sTizX3qChHgD",
        "colab_type": "code",
        "colab": {
          "base_uri": "https://localhost:8080/",
          "height": 54
        },
        "outputId": "65994504-9399-4a82-9bed-799fe0d5ad03"
      },
      "source": [
        "def pred_model_sgd(X_train, y_train, X_test, y_test):\n",
        "  model_sgd = linear_model.SGDRegressor()\n",
        "  model_sgd.fit(X_train, y_train)\n",
        "  y_train_pred_sgd = model_sgd.predict(X_test)\n",
        "  Test_r2_score_sgd = metrics.r2_score(y_test, y_train_pred_sgd)\n",
        "  print(\"R2 Score for Stochastic Gradient Descent on testing data = {}\" .format(Test_r2_score_sgd * 100))\n",
        "\n",
        "  y_train_pred_sgd = model_sgd.predict(X_train)\n",
        "  Train_r2_score_sgd = metrics.r2_score(y_train, y_train_pred_sgd)\n",
        "  print(\"R2 Score for Stochastic Gradient Descent on training data = {}\" .format(Train_r2_score_sgd * 100))\n",
        "\n",
        "  return model_sgd, Test_r2_score_sgd, Train_r2_score_sgd\n",
        "\n",
        "model_sgd, sgd_test_score, sgd_test_score = pred_model_sgd(X_train_scaled, y_train, X_test_scaled, y_test )"
      ],
      "execution_count": 7,
      "outputs": [
        {
          "output_type": "stream",
          "text": [
            "R2 Score for Stochastic Gradient Descent on testing data = 69.8783041246983\n",
            "R2 Score for Stochastic Gradient Descent on training data = 68.35099554842577\n"
          ],
          "name": "stdout"
        }
      ]
    },
    {
      "cell_type": "markdown",
      "metadata": {
        "id": "U_Xbu64RiOdn",
        "colab_type": "text"
      },
      "source": [
        "SVM\n",
        "\n",
        "\n"
      ]
    },
    {
      "cell_type": "code",
      "metadata": {
        "id": "4jM2xUOniOpm",
        "colab_type": "code",
        "colab": {
          "base_uri": "https://localhost:8080/",
          "height": 110
        },
        "outputId": "e9736ccb-7fa8-415d-de6c-9fd75a75e239"
      },
      "source": [
        "def pred_model_SVM(X_train, y_train, X_test, y_test):\n",
        "  model_svm = svm.SVR(max_iter= 100000)\n",
        "  model_svm.fit(X_train, y_train)\n",
        "  y_train_pred_svm = model_svm.predict(X_test)\n",
        "  Test_r2_score_svm = metrics.r2_score(y_test, y_train_pred_svm)\n",
        "  print(\"R2 Score for Support Vector Machine on testing data = {}\" .format(Test_r2_score_svm * 100))\n",
        "\n",
        "  y_train_pred_svm = model_svm.predict(X_train)\n",
        "  Train_r2_score_svm = metrics.r2_score(y_train, y_train_pred_svm)\n",
        "  print(\"R2 Score for Support Vector Machine on training data = {}\" .format(Train_r2_score_svm * 100))\n",
        "\n",
        "  return model_svm, Test_r2_score_svm, Train_r2_score_svm\n",
        "\n",
        "model_svm, svm_test_score, svm_train_score = pred_model_SVM(X_train_scaled, y_train, X_test_scaled, y_test )"
      ],
      "execution_count": 8,
      "outputs": [
        {
          "output_type": "stream",
          "text": [
            "/usr/local/lib/python3.6/dist-packages/sklearn/svm/base.py:193: FutureWarning: The default value of gamma will change from 'auto' to 'scale' in version 0.22 to account better for unscaled features. Set gamma explicitly to 'auto' or 'scale' to avoid this warning.\n",
            "  \"avoid this warning.\", FutureWarning)\n"
          ],
          "name": "stderr"
        },
        {
          "output_type": "stream",
          "text": [
            "R2 Score for Support Vector Machine on testing data = 4.279950189189985\n",
            "R2 Score for Support Vector Machine on training data = 4.2645025244942625\n"
          ],
          "name": "stdout"
        }
      ]
    },
    {
      "cell_type": "markdown",
      "metadata": {
        "id": "L-kB1fRG55ds",
        "colab_type": "text"
      },
      "source": [
        "Decision Trees"
      ]
    },
    {
      "cell_type": "code",
      "metadata": {
        "id": "Sdx_68mq5491",
        "colab_type": "code",
        "colab": {
          "base_uri": "https://localhost:8080/",
          "height": 54
        },
        "outputId": "f9bdfecc-9e0e-407a-d799-6a0b6ed796b4"
      },
      "source": [
        "def pred_model_dt(X_train, y_train, X_test, y_test):\n",
        "  model_dt = tree.DecisionTreeRegressor()\n",
        "  model_dt.fit(X_train, y_train)\n",
        "  y_pred_decisionTree = model_dt.predict(X_test)\n",
        "  Test_r2_score_decisionTree = metrics.r2_score(y_test, y_pred_decisionTree)\n",
        "  print(\"R2 Score for Decision Tree on testing data = {}\" .format(Test_r2_score_decisionTree * 100))\n",
        "\n",
        "  y_train_pred_regression = model_dt.predict(X_train)\n",
        "  Train_r2_score_decisionTree = metrics.r2_score(y_train, y_train_pred_regression)\n",
        "  print(\"R2 Score for Decision Tree on training data = {}\" .format(Train_r2_score_decisionTree * 100))\n",
        "\n",
        "  return model_dt, Test_r2_score_decisionTree, Train_r2_score_decisionTree\n",
        "\n",
        "model_dt, dt_test_score, dt_train_score = pred_model_dt(X_train_scaled, y_train, X_test_scaled, y_test)"
      ],
      "execution_count": 9,
      "outputs": [
        {
          "output_type": "stream",
          "text": [
            "R2 Score for Decision Tree on testing data = 74.39405735079761\n",
            "R2 Score for Decision Tree on training data = 99.99965240114513\n"
          ],
          "name": "stdout"
        }
      ]
    },
    {
      "cell_type": "markdown",
      "metadata": {
        "id": "n6aU1xHL7ITf",
        "colab_type": "text"
      },
      "source": [
        "As the R2 score on training data is much better than testing data, we can say that our model suffers from \"High Variance\""
      ]
    },
    {
      "cell_type": "code",
      "metadata": {
        "id": "QLpiBEYe3KGq",
        "colab_type": "code",
        "colab": {
          "base_uri": "https://localhost:8080/",
          "height": 412
        },
        "outputId": "78039dca-9f49-4c36-ae30-537ffefa814e"
      },
      "source": [
        "model_scores = {\n",
        "    \"Regression\": [regr_test_score, regr_train_score],\n",
        "    \"Stochastic Gradient Descent\": [sgd_test_score, sgd_test_score],\n",
        "    \"SVM\": [svm_test_score, svm_train_score],\n",
        "    \"Decision Trees\": [dt_test_score, dt_train_score]}\n",
        "\n",
        "barWidth = 0.45\n",
        "\n",
        "r1 = np.arange(len(model_scores.keys()))\n",
        "r2 = [x + barWidth for x in r1]\n",
        "\n",
        "plt.bar(r1, [value[1] for key, value in model_scores.items()], color='#7f6d5f', width=barWidth, edgecolor='white', label='Train R2 Score')\n",
        "plt.bar(r2, [value[0] for key, value in model_scores.items()], color='#557f2d', width=barWidth, edgecolor='white', label='Test R2 Score')\n",
        "\n",
        "plt.xlabel('Model performances plot', fontweight='bold')\n",
        "plt.xticks([r + barWidth for r in range(len(model_scores.keys()))], [key for key, value in model_scores.items()], rotation = 90)\n",
        " \n",
        "plt.legend()\n",
        "plt.show()"
      ],
      "execution_count": 10,
      "outputs": [
        {
          "output_type": "display_data",
          "data": {
            "image/png": "[encoded data removed]",
            "text/plain": [
              "<Figure size 432x288 with 1 Axes>"
            ]
          },
          "metadata": {
            "tags": []
          }
        }
      ]
    },
    {
      "cell_type": "code",
      "metadata": {
        "id": "aVewFVDv88Hx",
        "colab_type": "code",
        "colab": {
          "base_uri": "https://localhost:8080/",
          "height": 387
        },
        "outputId": "553921f3-f8fe-4b4c-b881-6f50bd9f1f00"
      },
      "source": [
        "feature_importance = model_dt.feature_importances_\n",
        "feature_importance_sorted = (np.sort(feature_importance))[::-1]\n",
        "print(\"feature_importance = \", feature_importance)\n",
        "\n",
        "y_pos = np.arange(len(features))\n",
        "plt.bar(y_pos,feature_importance, align='center', alpha=0.5)\n",
        "plt.xticks(y_pos, X_train.columns[:len(features)])\n",
        "plt.ylabel('Feature importance')\n",
        "plt.title('features')\n",
        "plt.xticks(rotation=60)\n",
        "\n",
        "plt.show()"
      ],
      "execution_count": 11,
      "outputs": [
        {
          "output_type": "stream",
          "text": [
            "feature_importance =  [0.00362719 0.09513719 0.00565465 0.01431607 0.00922344 0.74388082\n",
            " 0.00743542 0.01190346 0.02358954 0.01509866 0.00934496 0.01213974\n",
            " 0.02012626 0.01345555 0.01506706]\n"
          ],
          "name": "stdout"
        },
        {
          "output_type": "display_data",
          "data": {
            "image/png": "[encoded data removed]",
            "text/plain": [
              "<Figure size 432x288 with 1 Axes>"
            ]
          },
          "metadata": {
            "tags": []
          }
        }
      ]
    },
    {
      "cell_type": "markdown",
      "metadata": {
        "id": "Eq62Z9vNNJKy",
        "colab_type": "text"
      },
      "source": [
        "Selecting best min sample leaf values and min sample split values for decision trees"
      ]
    },
    {
      "cell_type": "code",
      "metadata": {
        "id": "ud-CjmMzFBPM",
        "colab_type": "code",
        "colab": {
          "base_uri": "https://localhost:8080/",
          "height": 54
        },
        "outputId": "e1c0351f-6e9b-41b7-ac04-8ece305f0585"
      },
      "source": [
        "min_samples_split_values = [int(i) for i in np.logspace(1, 12, num=10, base=2)]\n",
        "min_samples_leaf_values = [int(i) for i in np.logspace(1, 12, num=10, base=2)]\n",
        "\n",
        "def testTrees(x_train, x_test, y_train, y_test, split, leaf):\n",
        "    '''\n",
        "    Build a function that takes in tree hyperparams, data and returns accuracy on test data\n",
        "    '''\n",
        "    model = tree.DecisionTreeRegressor(criterion='mse',min_samples_leaf = leaf, min_samples_split = split)\n",
        "    \n",
        "    model.fit(x_train,y_train)\n",
        "    test_p = model.predict(x_test)\n",
        "    train_p = model.predict(x_train)\n",
        "    \n",
        "    test_r2_score = metrics.r2_score(y_test, test_p)\n",
        "    train_r2_score = metrics.r2_score(y_train, train_p)\n",
        "\n",
        "    return train_r2_score, test_r2_score\n",
        " \n",
        "res = dict()\n",
        "train_res = dict()\n",
        "for s in min_samples_leaf_values:\n",
        "    res[s] = list()\n",
        "    train_res[s] = list()\n",
        "\n",
        "for l in min_samples_leaf_values:\n",
        "    for s in min_samples_split_values:\n",
        "        train_r2_score, test_r2_score = testTrees(X_train_scaled, X_test_scaled, y_train, y_test, s, l)\n",
        "        res[s].append(test_r2_score)\n",
        "        train_res[s].append(train_r2_score)\n",
        "\n",
        "#To get the best test score\n",
        "maximum = max(res, key=res.get)\n",
        "print(\"min sample leaf value = {}, sample split value = {} for the best R2 score = {}\" .format(s ,res[maximum].index(max(res[maximum])) , max(res[maximum]) * 100))\n",
        "#To get train value corresponding to best test result\n",
        "optim_dt_test_score = max(res[maximum])\n",
        "optim_dt_train_score = train_res[maximum][res[maximum].index(max(res[maximum]))]\n",
        "print(\"Train R2 score corresponding to best test result = \" ,train_res[maximum][res[maximum].index(max(res[maximum]))] * 100)"
      ],
      "execution_count": 12,
      "outputs": [
        {
          "output_type": "stream",
          "text": [
            "min sample leaf value = 4096, sample split value = 2 for the best R2 score = 81.8672161693052\n",
            "Train R2 score corresponding to best test result =  89.31873044366583\n"
          ],
          "name": "stdout"
        }
      ]
    },
    {
      "cell_type": "markdown",
      "metadata": {
        "id": "Sa9dolABRH1q",
        "colab_type": "text"
      },
      "source": [
        "We can see that the train R2 score is still higher than test score. This could be made better using ensember model"
      ]
    },
    {
      "cell_type": "code",
      "metadata": {
        "id": "MM1GzgeGGZME",
        "colab_type": "code",
        "colab": {
          "base_uri": "https://localhost:8080/",
          "height": 422
        },
        "outputId": "c058bd13-226f-45b5-e89e-21f7979d10bc"
      },
      "source": [
        "def r():\n",
        "    return np.random.rand()\n",
        "\n",
        "fig = plt.figure(figsize = (15, 6))\n",
        "ax = fig.add_subplot(111)\n",
        "\n",
        "for l in min_samples_leaf_values:\n",
        "    plt.plot(np.log2(min_samples_split_values), res[l], \n",
        "             color=(r(),r(),r()), label='Leaf={}'.format(np.floor(l)))\n",
        "\n",
        "box = ax.get_position()\n",
        "ax.set_position([box.x0, box.y0, box.width * 0.8, box.height])\n",
        "\n",
        "ax.legend(loc='center left', bbox_to_anchor=(1, 0.5))\n",
        "ax.set_xlabel('Min Split Size - Log2')\n",
        "ax.set_ylabel('Test Set Accuracy')\n",
        "plt.title('Holdout Accuracy by Hyperparameters')"
      ],
      "execution_count": 13,
      "outputs": [
        {
          "output_type": "execute_result",
          "data": {
            "text/plain": [
              "Text(0.5, 1.0, 'Holdout Accuracy by Hyperparameters')"
            ]
          },
          "metadata": {
            "tags": []
          },
          "execution_count": 13
        },
        {
          "output_type": "display_data",
          "data": {
            "image/png": "[encoded data removed]",
            "text/plain": [
              "<Figure size 1080x432 with 1 Axes>"
            ]
          },
          "metadata": {
            "tags": []
          }
        }
      ]
    },
    {
      "cell_type": "code",
      "metadata": {
        "id": "AQyKl6_LavVe",
        "colab_type": "code",
        "outputId": "618c5f11-7c26-4a04-f969-9f0ad92a803f",
        "colab": {
          "base_uri": "https://localhost:8080/",
          "height": 54
        }
      },
      "source": [
        "def pred_model_rf(X_train, y_train, X_test, y_test):\n",
        "  model_rf = ensemble.RandomForestRegressor(n_estimators = 500)\n",
        "  model_rf.fit(X_train, y_train)\n",
        "  y_train_pred_randomForest = model_rf.predict(X_test)\n",
        "  Test_r2_score_randomForest = metrics.r2_score(y_test, y_train_pred_randomForest)\n",
        "  print(\"R2 Score for Random Forest on testing data = {}\" .format(Test_r2_score_randomForest * 100))\n",
        "\n",
        "  y_train_pred_randomForest = model_rf.predict(X_train)\n",
        "  Train_r2_score_randomForest = metrics.r2_score(y_train, y_train_pred_randomForest)\n",
        "  print(\"R2 Score for Random Forest on training data = {}\" .format(Train_r2_score_randomForest * 100))\n",
        "\n",
        "  return model_rf, Test_r2_score_randomForest, Train_r2_score_randomForest\n",
        "\n",
        "\n",
        "model_rf, rf_test_score, rf_train_score = pred_model_rf(X_train_scaled, y_train, X_test_scaled, y_test )"
      ],
      "execution_count": 14,
      "outputs": [
        {
          "output_type": "stream",
          "text": [
            "R2 Score for Random Forest on testing data = 88.83998386532657\n",
            "R2 Score for Random Forest on training data = 98.32548275279646\n"
          ],
          "name": "stdout"
        }
      ]
    },
    {
      "cell_type": "code",
      "metadata": {
        "id": "Ekx5mQn6eJus",
        "colab_type": "code",
        "colab": {
          "base_uri": "https://localhost:8080/",
          "height": 217
        },
        "outputId": "1a98cd46-9d2d-4799-942c-5c7dc6ada409"
      },
      "source": [
        "#Hyperparameter tuning\n",
        "def pred_model_rf_hp_tuning(X_train, y_train, X_test, y_test):\n",
        "  best_test_Score = 0\n",
        "  for estimator in range(100,1100,200):\n",
        "    model_rf = ensemble.RandomForestRegressor(n_estimators = estimator)\n",
        "    model_rf.fit(X_train, y_train)\n",
        "    y_train_pred_randomForest = model_rf.predict(X_test)\n",
        "    Test_r2_score_randomForest = metrics.r2_score(y_test, y_train_pred_randomForest)\n",
        "    print(\"R2 Score for Random Forest on testing data = {} for estimator = {}\" .format(Test_r2_score_randomForest * 100, estimator))\n",
        "\n",
        "    y_train_pred_randomForest = model_rf.predict(X_train)\n",
        "    Train_r2_score_randomForest = metrics.r2_score(y_train, y_train_pred_randomForest)\n",
        "    print(\"R2 Score for Random Forest on training data = {}  for estimator = {}\" .format(Train_r2_score_randomForest * 100, estimator))\n",
        "\n",
        "    if best_test_Score < Test_r2_score_randomForest:\n",
        "      optimum_estimator = estimator\n",
        "\n",
        "  return optimum_estimator\n",
        "\n",
        "optimum_estimator = pred_model_rf_hp_tuning(X_train_scaled, y_train, X_test_scaled, y_test )\n",
        "print(\"Optimum Estimator Value= \",optimum_estimator )"
      ],
      "execution_count": 15,
      "outputs": [
        {
          "output_type": "stream",
          "text": [
            "R2 Score for Random Forest on testing data = 88.54739765651611 for estimator = 100\n",
            "R2 Score for Random Forest on training data = 98.18023898875117  for estimator = 100\n",
            "R2 Score for Random Forest on testing data = 88.89603938664256 for estimator = 300\n",
            "R2 Score for Random Forest on training data = 98.2998932865046  for estimator = 300\n",
            "R2 Score for Random Forest on testing data = 88.94566777740651 for estimator = 500\n",
            "R2 Score for Random Forest on training data = 98.36395981728042  for estimator = 500\n",
            "R2 Score for Random Forest on testing data = 89.00125667099066 for estimator = 700\n",
            "R2 Score for Random Forest on training data = 98.32685259643688  for estimator = 700\n",
            "R2 Score for Random Forest on testing data = 89.07088059268082 for estimator = 900\n",
            "R2 Score for Random Forest on training data = 98.35970778412714  for estimator = 900\n",
            "Optimum Estimator Value=  900\n"
          ],
          "name": "stdout"
        }
      ]
    },
    {
      "cell_type": "markdown",
      "metadata": {
        "id": "_0G8hxiGPiNz",
        "colab_type": "text"
      },
      "source": [
        "K fold Cross Validation"
      ]
    },
    {
      "cell_type": "code",
      "metadata": {
        "id": "hkZkZThBPuY3",
        "colab_type": "code",
        "colab": {
          "base_uri": "https://localhost:8080/",
          "height": 217
        },
        "outputId": "04f661b2-13c2-43c5-a5e4-596529846786"
      },
      "source": [
        "n_splits = 5\n",
        "tscv = model_selection.TimeSeriesSplit(n_splits=n_splits)\n",
        "split_number = 0\n",
        "best_r2_test = 0\n",
        "\n",
        "r2_score_cv = []\n",
        "for train_index, test_index in tscv.split(X):\n",
        "  split_number += 1\n",
        "  #print(\"TRAIN:\", train_index, \"TEST:\", test_index)\n",
        "  X_train_cv, X_test_cv = X.iloc[train_index], X.iloc[test_index]\n",
        "  y_train_cv, y_test_cv = y.iloc[train_index], y.iloc[test_index]\n",
        "\n",
        "  mm_scaler = sklearn.preprocessing.MinMaxScaler()\n",
        "  X_train_cv_scaled = mm_scaler.fit_transform(X_train_cv)\n",
        "  X_test_cv_scaled = mm_scaler.transform(X_test_cv)\n",
        "\n",
        "  model_rf = sklearn.ensemble.RandomForestRegressor(n_estimators = optimum_estimator)\n",
        "  model_rf.fit(X_train_cv_scaled, y_train_cv)\n",
        "  y_train_pred_randomForest = model_rf.predict(X_test_cv_scaled)\n",
        "  Test_r2_score_randomForest = metrics.r2_score(y_test_cv, y_train_pred_randomForest)\n",
        "  print(\"R2 Score for Random Forest on testing data = {} for split number = {}\" .format(Test_r2_score_randomForest * 100, split_number))\n",
        "\n",
        "  y_train_pred_randomForest = model_rf.predict(X_train_cv_scaled)\n",
        "  Train_r2_score_randomForest = metrics.r2_score(y_train_cv, y_train_pred_randomForest)\n",
        "  print(\"R2 Score for Random Forest on training data = {} for split number = {}\" .format(Train_r2_score_randomForest * 100, split_number))\n",
        "\n",
        "  r2_score_cv.append(Test_r2_score_randomForest)\n",
        "\n",
        "  if Test_r2_score_randomForest > best_r2_test:\n",
        "    best_r2_test = Test_r2_score_randomForest\n",
        "    best_r2_train = Train_r2_score_randomForest\n",
        "    best_split_model = copy.deepcopy(model_rf)\n",
        "    best_split_X_train = X_train_cv.copy()\n",
        "    best_split_X_test = y_train_cv.copy()\n",
        "\n",
        "print(\"R2 Score for the best Random Forest model on testing data = {}\" .format(best_r2_test * 100))"
      ],
      "execution_count": 16,
      "outputs": [
        {
          "output_type": "stream",
          "text": [
            "R2 Score for Random Forest on testing data = 70.91419960898368 for split number = 1\n",
            "R2 Score for Random Forest on training data = 96.68106803820558 for split number = 1\n",
            "R2 Score for Random Forest on testing data = 79.87293608202344 for split number = 2\n",
            "R2 Score for Random Forest on training data = 97.18374647677719 for split number = 2\n",
            "R2 Score for Random Forest on testing data = 86.83103752013913 for split number = 3\n",
            "R2 Score for Random Forest on training data = 98.14401823478163 for split number = 3\n",
            "R2 Score for Random Forest on testing data = 83.64133966418595 for split number = 4\n",
            "R2 Score for Random Forest on training data = 98.3578717089333 for split number = 4\n",
            "R2 Score for Random Forest on testing data = 92.4113990333624 for split number = 5\n",
            "R2 Score for Random Forest on training data = 98.43601968685101 for split number = 5\n",
            "R2 Score for the best Random Forest model on testing data = 92.4113990333624\n"
          ],
          "name": "stdout"
        }
      ]
    },
    {
      "cell_type": "code",
      "metadata": {
        "id": "SVsiwT1dP3EL",
        "colab_type": "code",
        "colab": {
          "base_uri": "https://localhost:8080/",
          "height": 295
        },
        "outputId": "ac535684-f4d7-4866-b923-7b70715a9b7a"
      },
      "source": [
        "y_pos = np.arange(n_splits)\n",
        "plt.bar(y_pos,r2_score_cv, align='center', alpha=0.5)\n",
        "plt.xticks(y_pos,range(n_splits))\n",
        "plt.ylabel('R2 Score')\n",
        "plt.xlabel('Splits')\n",
        "plt.title('R2 Score Cross Validation')\n",
        "\n",
        "plt.show()"
      ],
      "execution_count": 17,
      "outputs": [
        {
          "output_type": "display_data",
          "data": {
            "image/png": "[encoded data removed]",
            "text/plain": [
              "<Figure size 432x288 with 1 Axes>"
            ]
          },
          "metadata": {
            "tags": []
          }
        }
      ]
    },
    {
      "cell_type": "code",
      "metadata": {
        "id": "Qp5r8CedgfOm",
        "colab_type": "code",
        "colab": {
          "base_uri": "https://localhost:8080/",
          "height": 387
        },
        "outputId": "b45f5d2c-737f-415f-db65-09347e7b9dc8"
      },
      "source": [
        "feature_importance = model_rf.feature_importances_\n",
        "feature_importance_sorted = (np.sort(feature_importance))[::-1]\n",
        "print(\"feature_importance = \", feature_importance)\n",
        "\n",
        "y_pos = np.arange(len(features))\n",
        "plt.bar(y_pos,feature_importance, align='center', alpha=0.5)\n",
        "plt.xticks(y_pos, X_train.columns[:len(features)])\n",
        "plt.ylabel('Feature importance')\n",
        "plt.title('features')\n",
        "plt.xticks(rotation=60)\n",
        "\n",
        "plt.show()"
      ],
      "execution_count": 18,
      "outputs": [
        {
          "output_type": "stream",
          "text": [
            "feature_importance =  [0.01267578 0.09169108 0.01116694 0.01943828 0.00620425 0.72839432\n",
            " 0.0096247  0.00773066 0.02459893 0.02463775 0.00998263 0.01046736\n",
            " 0.01211101 0.01826547 0.01301083]\n"
          ],
          "name": "stdout"
        },
        {
          "output_type": "display_data",
          "data": {
            "image/png": "[encoded data removed]",
            "text/plain": [
              "<Figure size 432x288 with 1 Axes>"
            ]
          },
          "metadata": {
            "tags": []
          }
        }
      ]
    },
    {
      "cell_type": "code",
      "metadata": {
        "id": "tip3QbwFAnJ3",
        "colab_type": "code",
        "colab": {
          "base_uri": "https://localhost:8080/",
          "height": 412
        },
        "outputId": "77b7b40f-c141-491b-a8aa-40c50c9863b4"
      },
      "source": [
        "extended_model_scores = {\n",
        "    \"Regression\": [regr_test_score, regr_train_score],\n",
        "    \"Stochastic Gradient Descent\": [sgd_test_score, sgd_test_score],\n",
        "    \"SVM\": [svm_test_score, svm_train_score],\n",
        "    \"Decision Trees\": [dt_test_score, dt_train_score], \n",
        "    \"Optimised Decision Tree\": [optim_dt_test_score, optim_dt_train_score],\n",
        "    \"Random Forest\": [rf_test_score, rf_train_score],\n",
        "    \"Optimised Random Forest\" : [best_r2_test ,best_r2_train]}\n",
        "\n",
        "barWidth = 0.45\n",
        "\n",
        "r1 = np.arange(len(extended_model_scores.keys()))\n",
        "r2 = [x + barWidth for x in r1]\n",
        "\n",
        "plt.bar(r1, [value[1] for key, value in extended_model_scores.items()], color='#7f6d5f', width=barWidth, edgecolor='white', label='Train R2 Score')\n",
        "plt.bar(r2, [value[0] for key, value in extended_model_scores.items()], color='#557f2d', width=barWidth, edgecolor='white', label='Test R2 Score')\n",
        "\n",
        "plt.xlabel('Model performance plot', fontweight='bold')\n",
        "plt.xticks([r + barWidth for r in range(len(extended_model_scores.keys()))], [key for key, value in extended_model_scores.items()], rotation = 90)\n",
        " \n",
        "plt.legend()\n",
        "plt.show()"
      ],
      "execution_count": 19,
      "outputs": [
        {
          "output_type": "display_data",
          "data": {
            "image/png": "[encoded data removed]",
            "text/plain": [
              "<Figure size 432x288 with 1 Axes>"
            ]
          },
          "metadata": {
            "tags": []
          }
        }
      ]
    }
  ]
}