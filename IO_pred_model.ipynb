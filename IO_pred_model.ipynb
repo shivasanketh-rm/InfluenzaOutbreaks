{
  "nbformat": 4,
  "nbformat_minor": 0,
  "metadata": {
    "colab": {
      "name": "IO_pred_model.ipynb",
      "provenance": [],
      "collapsed_sections": []
    },
    "kernelspec": {
      "name": "python3",
      "display_name": "Python 3"
    },
    "accelerator": "GPU"
  },
  "cells": [
    {
      "cell_type": "code",
      "metadata": {
        "id": "_hyNVLriWD_i",
        "colab_type": "code",
        "colab": {}
      },
      "source": [
        "import pandas as pd\n",
        "import numpy as np\n",
        "import matplotlib.pyplot as plt  \n",
        "import seaborn as seabornInstance \n",
        "from sklearn.model_selection import train_test_split \n",
        "from sklearn.linear_model import LinearRegression\n",
        "from sklearn.ensemble import RandomForestRegressor\n",
        "from sklearn.ensemble import GradientBoostingRegressor\n",
        "\n",
        "from sklearn import preprocessing\n",
        "from sklearn import metrics"
      ],
      "execution_count": 0,
      "outputs": []
    },
    {
      "cell_type": "code",
      "metadata": {
        "id": "0Uc9jSi6Wv0G",
        "colab_type": "code",
        "colab": {
          "base_uri": "https://localhost:8080/",
          "height": 308
        },
        "outputId": "31a5829a-8680-4bc7-eed1-d9af2c2ebb8a"
      },
      "source": [
        "df_master = pd.read_csv(\"master_12-05.csv\", index_col=0)\n",
        "df_master.describe()\n"
      ],
      "execution_count": 3,
      "outputs": [
        {
          "output_type": "execute_result",
          "data": {
            "text/html": [
              "<div>\n",
              "<style scoped>\n",
              "    .dataframe tbody tr th:only-of-type {\n",
              "        vertical-align: middle;\n",
              "    }\n",
              "\n",
              "    .dataframe tbody tr th {\n",
              "        vertical-align: top;\n",
              "    }\n",
              "\n",
              "    .dataframe thead th {\n",
              "        text-align: right;\n",
              "    }\n",
              "</style>\n",
              "<table border=\"1\" class=\"dataframe\">\n",
              "  <thead>\n",
              "    <tr style=\"text-align: right;\">\n",
              "      <th></th>\n",
              "      <th>FIPS</th>\n",
              "      <th>year</th>\n",
              "      <th>CDC Week</th>\n",
              "      <th>Count</th>\n",
              "      <th>Disease_INFLUENZA_A</th>\n",
              "      <th>Disease_INFLUENZA_B</th>\n",
              "      <th>Disease_INFLUENZA_UNSPECIFIED</th>\n",
              "      <th>flu</th>\n",
              "      <th>fluSymptoms</th>\n",
              "      <th>fever</th>\n",
              "      <th>cough</th>\n",
              "      <th>soreThroat</th>\n",
              "      <th>Target</th>\n",
              "      <th>VaxRate</th>\n",
              "      <th>PRCP</th>\n",
              "      <th>SNOW</th>\n",
              "      <th>TAVG</th>\n",
              "      <th>TMAX</th>\n",
              "      <th>TMIN</th>\n",
              "      <th>SNOWDepth</th>\n",
              "    </tr>\n",
              "  </thead>\n",
              "  <tbody>\n",
              "    <tr>\n",
              "      <th>count</th>\n",
              "      <td>20080.000000</td>\n",
              "      <td>20080.000000</td>\n",
              "      <td>20080.000000</td>\n",
              "      <td>20080.000000</td>\n",
              "      <td>20080.000000</td>\n",
              "      <td>20080.000000</td>\n",
              "      <td>20080.000000</td>\n",
              "      <td>18592.000000</td>\n",
              "      <td>18592.000000</td>\n",
              "      <td>18592.000000</td>\n",
              "      <td>18592.000000</td>\n",
              "      <td>18592.000000</td>\n",
              "      <td>19956.000000</td>\n",
              "      <td>9540.000000</td>\n",
              "      <td>18462.000000</td>\n",
              "      <td>15685.000000</td>\n",
              "      <td>18187.000000</td>\n",
              "      <td>18192.000000</td>\n",
              "      <td>18188.000000</td>\n",
              "      <td>15062.000000</td>\n",
              "    </tr>\n",
              "    <tr>\n",
              "      <th>mean</th>\n",
              "      <td>36063.424900</td>\n",
              "      <td>2014.174402</td>\n",
              "      <td>24.816434</td>\n",
              "      <td>26.010458</td>\n",
              "      <td>20.003088</td>\n",
              "      <td>5.811604</td>\n",
              "      <td>0.195767</td>\n",
              "      <td>0.026605</td>\n",
              "      <td>0.020833</td>\n",
              "      <td>0.287768</td>\n",
              "      <td>0.256351</td>\n",
              "      <td>0.260344</td>\n",
              "      <td>26.124424</td>\n",
              "      <td>0.555987</td>\n",
              "      <td>0.131613</td>\n",
              "      <td>0.486394</td>\n",
              "      <td>38.083467</td>\n",
              "      <td>46.986435</td>\n",
              "      <td>29.187038</td>\n",
              "      <td>2.208371</td>\n",
              "    </tr>\n",
              "    <tr>\n",
              "      <th>std</th>\n",
              "      <td>35.586314</td>\n",
              "      <td>2.992755</td>\n",
              "      <td>18.086529</td>\n",
              "      <td>88.217416</td>\n",
              "      <td>68.727437</td>\n",
              "      <td>29.215823</td>\n",
              "      <td>1.604029</td>\n",
              "      <td>0.090495</td>\n",
              "      <td>0.079796</td>\n",
              "      <td>0.149518</td>\n",
              "      <td>0.178057</td>\n",
              "      <td>0.168710</td>\n",
              "      <td>88.469715</td>\n",
              "      <td>0.089235</td>\n",
              "      <td>0.136317</td>\n",
              "      <td>1.070909</td>\n",
              "      <td>13.208433</td>\n",
              "      <td>14.038245</td>\n",
              "      <td>12.852083</td>\n",
              "      <td>4.444374</td>\n",
              "    </tr>\n",
              "    <tr>\n",
              "      <th>min</th>\n",
              "      <td>36001.000000</td>\n",
              "      <td>2009.000000</td>\n",
              "      <td>1.000000</td>\n",
              "      <td>0.000000</td>\n",
              "      <td>0.000000</td>\n",
              "      <td>0.000000</td>\n",
              "      <td>0.000000</td>\n",
              "      <td>0.000000</td>\n",
              "      <td>0.000000</td>\n",
              "      <td>0.000000</td>\n",
              "      <td>0.000000</td>\n",
              "      <td>0.000000</td>\n",
              "      <td>0.000000</td>\n",
              "      <td>0.337000</td>\n",
              "      <td>0.000000</td>\n",
              "      <td>0.000000</td>\n",
              "      <td>-5.785714</td>\n",
              "      <td>6.375000</td>\n",
              "      <td>-23.142857</td>\n",
              "      <td>0.000000</td>\n",
              "    </tr>\n",
              "    <tr>\n",
              "      <th>25%</th>\n",
              "      <td>36033.000000</td>\n",
              "      <td>2012.000000</td>\n",
              "      <td>9.000000</td>\n",
              "      <td>0.000000</td>\n",
              "      <td>0.000000</td>\n",
              "      <td>0.000000</td>\n",
              "      <td>0.000000</td>\n",
              "      <td>0.002475</td>\n",
              "      <td>0.001258</td>\n",
              "      <td>0.204321</td>\n",
              "      <td>0.139920</td>\n",
              "      <td>0.140832</td>\n",
              "      <td>0.000000</td>\n",
              "      <td>0.520000</td>\n",
              "      <td>0.035714</td>\n",
              "      <td>0.000000</td>\n",
              "      <td>28.500000</td>\n",
              "      <td>36.142857</td>\n",
              "      <td>20.714286</td>\n",
              "      <td>0.000000</td>\n",
              "    </tr>\n",
              "    <tr>\n",
              "      <th>50%</th>\n",
              "      <td>36065.000000</td>\n",
              "      <td>2014.000000</td>\n",
              "      <td>17.000000</td>\n",
              "      <td>2.000000</td>\n",
              "      <td>1.000000</td>\n",
              "      <td>0.000000</td>\n",
              "      <td>0.000000</td>\n",
              "      <td>0.005558</td>\n",
              "      <td>0.002965</td>\n",
              "      <td>0.271068</td>\n",
              "      <td>0.221400</td>\n",
              "      <td>0.247043</td>\n",
              "      <td>2.000000</td>\n",
              "      <td>0.591000</td>\n",
              "      <td>0.098571</td>\n",
              "      <td>0.000000</td>\n",
              "      <td>37.928571</td>\n",
              "      <td>46.285714</td>\n",
              "      <td>29.500000</td>\n",
              "      <td>0.000000</td>\n",
              "    </tr>\n",
              "    <tr>\n",
              "      <th>75%</th>\n",
              "      <td>36095.000000</td>\n",
              "      <td>2017.000000</td>\n",
              "      <td>44.000000</td>\n",
              "      <td>14.000000</td>\n",
              "      <td>10.000000</td>\n",
              "      <td>2.000000</td>\n",
              "      <td>0.000000</td>\n",
              "      <td>0.013376</td>\n",
              "      <td>0.008617</td>\n",
              "      <td>0.355073</td>\n",
              "      <td>0.332691</td>\n",
              "      <td>0.364779</td>\n",
              "      <td>15.000000</td>\n",
              "      <td>0.620000</td>\n",
              "      <td>0.185536</td>\n",
              "      <td>0.500000</td>\n",
              "      <td>48.428571</td>\n",
              "      <td>58.142857</td>\n",
              "      <td>38.428571</td>\n",
              "      <td>2.333333</td>\n",
              "    </tr>\n",
              "    <tr>\n",
              "      <th>max</th>\n",
              "      <td>36123.000000</td>\n",
              "      <td>2019.000000</td>\n",
              "      <td>53.000000</td>\n",
              "      <td>2401.000000</td>\n",
              "      <td>1213.000000</td>\n",
              "      <td>1166.000000</td>\n",
              "      <td>92.000000</td>\n",
              "      <td>1.000000</td>\n",
              "      <td>0.915000</td>\n",
              "      <td>1.244567</td>\n",
              "      <td>1.245430</td>\n",
              "      <td>1.016013</td>\n",
              "      <td>2401.000000</td>\n",
              "      <td>0.721000</td>\n",
              "      <td>2.820000</td>\n",
              "      <td>15.000000</td>\n",
              "      <td>70.750000</td>\n",
              "      <td>86.000000</td>\n",
              "      <td>67.000000</td>\n",
              "      <td>38.285714</td>\n",
              "    </tr>\n",
              "  </tbody>\n",
              "</table>\n",
              "</div>"
            ],
            "text/plain": [
              "               FIPS          year  ...          TMIN     SNOWDepth\n",
              "count  20080.000000  20080.000000  ...  18188.000000  15062.000000\n",
              "mean   36063.424900   2014.174402  ...     29.187038      2.208371\n",
              "std       35.586314      2.992755  ...     12.852083      4.444374\n",
              "min    36001.000000   2009.000000  ...    -23.142857      0.000000\n",
              "25%    36033.000000   2012.000000  ...     20.714286      0.000000\n",
              "50%    36065.000000   2014.000000  ...     29.500000      0.000000\n",
              "75%    36095.000000   2017.000000  ...     38.428571      2.333333\n",
              "max    36123.000000   2019.000000  ...     67.000000     38.285714\n",
              "\n",
              "[8 rows x 20 columns]"
            ]
          },
          "metadata": {
            "tags": []
          },
          "execution_count": 3
        }
      ]
    },
    {
      "cell_type": "code",
      "metadata": {
        "id": "jVERA4uMZQdE",
        "colab_type": "code",
        "colab": {
          "base_uri": "https://localhost:8080/",
          "height": 54
        },
        "outputId": "239bae8a-b87f-47e6-ce5d-bf039346b0f6"
      },
      "source": [
        "#df_drop = df_master.dropna()\n",
        "#print(df_drop.shape)\n",
        "df_master_modified = df_master[['year','CDC Week','Count','PRCP','TAVG','Target']]\n",
        "df_master_modified = df_master_modified.dropna()\n",
        "X = df_master_modified[['year','CDC Week','PRCP','TAVG','Count']]\n",
        "y = df_master_modified['Target']\n",
        "X_train, X_test, y_train, y_test = train_test_split(X, y, test_size=0.2, random_state=0, shuffle = False)\n",
        "\n",
        "mm_scaler = preprocessing.MinMaxScaler()\n",
        "X_train = mm_scaler.fit_transform(X_train)\n",
        "X_test = mm_scaler.transform(X_test)\n",
        "\n",
        "regressor = LinearRegression()\n",
        "regressor.fit(X_train, y_train)\n",
        "y_pred = regressor.predict(X_test)\n",
        "Test_error = metrics.r2_score(y_test, y_pred)\n",
        "print(Test_r2_score)\n",
        "y_train_pred = regressor.predict(X_train)\n",
        "Train_error = metrics.r2_score(y_train, y_train_pred)\n",
        "print(Train_r2_score)"
      ],
      "execution_count": 36,
      "outputs": [
        {
          "output_type": "stream",
          "text": [
            "0.6998002043486303\n",
            "0.6903379709186552\n"
          ],
          "name": "stdout"
        }
      ]
    },
    {
      "cell_type": "code",
      "metadata": {
        "id": "AQyKl6_LavVe",
        "colab_type": "code",
        "colab": {
          "base_uri": "https://localhost:8080/",
          "height": 54
        },
        "outputId": "cf693938-602c-494b-9d5b-d5a1e89e27ae"
      },
      "source": [
        "rf = RandomForestRegressor(n_estimators = 500)\n",
        "rf.fit(X_train, y_train)\n",
        "y_pred = rf.predict(X_test)\n",
        "Test_error = metrics.r2_score(y_test, y_pred)\n",
        "print(Test_r2_score)\n",
        "y_train_pred = rf.predict(X_train)\n",
        "Train_error = metrics.r2_score(y_train, y_train_pred)\n",
        "print(Train_r2_score)"
      ],
      "execution_count": 37,
      "outputs": [
        {
          "output_type": "stream",
          "text": [
            "0.8041362619395119\n",
            "0.9802917899689731\n"
          ],
          "name": "stdout"
        }
      ]
    },
    {
      "cell_type": "code",
      "metadata": {
        "id": "oFpK7P7KxhkY",
        "colab_type": "code",
        "colab": {
          "base_uri": "https://localhost:8080/",
          "height": 35
        },
        "outputId": "a9551548-31fd-411d-e348-7f2d39874a37"
      },
      "source": [
        "est = GradientBoostingRegressor(n_estimators=100, learning_rate=0.1,max_depth=1, random_state=0, loss='ls').fit(X_train, y_train)\n",
        "metrics.r2_score(y_test, est.predict(X_test))"
      ],
      "execution_count": 43,
      "outputs": [
        {
          "output_type": "execute_result",
          "data": {
            "text/plain": [
              "0.6733441192726999"
            ]
          },
          "metadata": {
            "tags": []
          },
          "execution_count": 43
        }
      ]
    },
    {
      "cell_type": "code",
      "metadata": {
        "id": "yR3GaAHX1vL_",
        "colab_type": "code",
        "colab": {}
      },
      "source": [
        ""
      ],
      "execution_count": 0,
      "outputs": []
    }
  ]
}