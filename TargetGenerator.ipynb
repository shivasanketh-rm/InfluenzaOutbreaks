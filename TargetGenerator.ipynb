{
 "cells": [
  {
   "cell_type": "code",
   "execution_count": 36,
   "metadata": {},
   "outputs": [
    {
     "name": "stdout",
     "output_type": "stream",
     "text": [
      "        Date    County  Count\n",
      "0   9/1/2019  New York     24\n",
      "1   9/8/2019  New York     54\n",
      "2  9/15/2019  New York     72\n",
      "3   9/1/2019    Albany     17\n",
      "4   9/8/2019    Albany     29\n",
      "5  9/15/2019    Albany     37\n",
      "6  9/22/2019  New York     88\n",
      "7  9/22/2019    Albany     87\n",
      "   index       Date    County  Count  Target\n",
      "0      3 2019-09-01    Albany     17    37.0\n",
      "1      4 2019-09-08    Albany     29    87.0\n",
      "2      5 2019-09-15    Albany     37     NaN\n",
      "3      7 2019-09-22    Albany     87     NaN\n",
      "4      0 2019-09-01  New York     24    72.0\n",
      "5      1 2019-09-08  New York     54    88.0\n",
      "6      2 2019-09-15  New York     72     NaN\n",
      "7      6 2019-09-22  New York     88     NaN\n"
     ]
    }
   ],
   "source": [
    "import pandas as pd\n",
    "import numpy as np\n",
    "import os\n",
    "from sklearn.model_selection import train_test_split\n",
    "from sklearn.linear_model import LogisticRegression\n",
    "from sklearn import metrics\n",
    "from sklearn.metrics import roc_auc_score\n",
    "from sklearn.metrics import roc_curve\n",
    "from warnings import simplefilter\n",
    "simplefilter(action='ignore', category=FutureWarning)\n",
    "\n",
    "os.getcwd()\n",
    "os.chdir('C:\\\\Users\\\\Roman\\\\Desktop')\n",
    "\n",
    "def targetgen(file_name):\n",
    "    df = pd.read_csv(file_name,header = 0)\n",
    "    print(df)\n",
    "    df['Date'] = pd.to_datetime(df.Date)\n",
    "    sorted = df.sort_values(by=['County','Date'])\n",
    "    sorted.reset_index(inplace = True) \n",
    "    for i in range(0, len(df)-2):\n",
    "        if sorted.loc[i,'County'] == sorted.loc[i+2,'County']:\n",
    "            sorted.loc[i, 'Target'] = sorted.loc[i+2, 'Count']\n",
    "    print(sorted)\n",
    "    return sorted\n",
    "    \n",
    "df = targetgen('testing.csv')"
   ]
  }
 ],
 "metadata": {
  "kernelspec": {
   "display_name": "Python 3",
   "language": "python",
   "name": "python3"
  },
  "language_info": {
   "codemirror_mode": {
    "name": "ipython",
    "version": 3
   },
   "file_extension": ".py",
   "mimetype": "text/x-python",
   "name": "python",
   "nbconvert_exporter": "python",
   "pygments_lexer": "ipython3",
   "version": "3.7.3"
  }
 },
 "nbformat": 4,
 "nbformat_minor": 2
}
