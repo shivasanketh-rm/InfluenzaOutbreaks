{
 "cells": [
  {
   "cell_type": "code",
   "execution_count": 113,
   "metadata": {},
   "outputs": [
    {
     "data": {
      "text/html": [
       "<div>\n",
       "<style scoped>\n",
       "    .dataframe tbody tr th:only-of-type {\n",
       "        vertical-align: middle;\n",
       "    }\n",
       "\n",
       "    .dataframe tbody tr th {\n",
       "        vertical-align: top;\n",
       "    }\n",
       "\n",
       "    .dataframe thead th {\n",
       "        text-align: right;\n",
       "    }\n",
       "</style>\n",
       "<table border=\"1\" class=\"dataframe\">\n",
       "  <thead>\n",
       "    <tr style=\"text-align: right;\">\n",
       "      <th></th>\n",
       "      <th>Unnamed: 0.1</th>\n",
       "      <th>year</th>\n",
       "      <th>CDC Week</th>\n",
       "      <th>Count</th>\n",
       "      <th>Disease_INFLUENZA_A</th>\n",
       "      <th>Disease_INFLUENZA_B</th>\n",
       "      <th>Disease_INFLUENZA_UNSPECIFIED</th>\n",
       "      <th>Target</th>\n",
       "    </tr>\n",
       "  </thead>\n",
       "  <tbody>\n",
       "    <tr>\n",
       "      <th>0</th>\n",
       "      <td>0</td>\n",
       "      <td>2009</td>\n",
       "      <td>40</td>\n",
       "      <td>4</td>\n",
       "      <td>4</td>\n",
       "      <td>0</td>\n",
       "      <td>0</td>\n",
       "      <td>27.0</td>\n",
       "    </tr>\n",
       "    <tr>\n",
       "      <th>1</th>\n",
       "      <td>1</td>\n",
       "      <td>2009</td>\n",
       "      <td>41</td>\n",
       "      <td>11</td>\n",
       "      <td>11</td>\n",
       "      <td>0</td>\n",
       "      <td>0</td>\n",
       "      <td>87.0</td>\n",
       "    </tr>\n",
       "    <tr>\n",
       "      <th>2</th>\n",
       "      <td>2</td>\n",
       "      <td>2009</td>\n",
       "      <td>42</td>\n",
       "      <td>27</td>\n",
       "      <td>27</td>\n",
       "      <td>0</td>\n",
       "      <td>0</td>\n",
       "      <td>77.0</td>\n",
       "    </tr>\n",
       "    <tr>\n",
       "      <th>3</th>\n",
       "      <td>3</td>\n",
       "      <td>2009</td>\n",
       "      <td>43</td>\n",
       "      <td>87</td>\n",
       "      <td>86</td>\n",
       "      <td>1</td>\n",
       "      <td>0</td>\n",
       "      <td>61.0</td>\n",
       "    </tr>\n",
       "    <tr>\n",
       "      <th>4</th>\n",
       "      <td>4</td>\n",
       "      <td>2009</td>\n",
       "      <td>44</td>\n",
       "      <td>77</td>\n",
       "      <td>76</td>\n",
       "      <td>1</td>\n",
       "      <td>0</td>\n",
       "      <td>29.0</td>\n",
       "    </tr>\n",
       "  </tbody>\n",
       "</table>\n",
       "</div>"
      ],
      "text/plain": [
       "   Unnamed: 0.1  year  CDC Week  Count  Disease_INFLUENZA_A  \\\n",
       "0             0  2009        40      4                    4   \n",
       "1             1  2009        41     11                   11   \n",
       "2             2  2009        42     27                   27   \n",
       "3             3  2009        43     87                   86   \n",
       "4             4  2009        44     77                   76   \n",
       "\n",
       "   Disease_INFLUENZA_B  Disease_INFLUENZA_UNSPECIFIED  Target  \n",
       "0                    0                              0    27.0  \n",
       "1                    0                              0    87.0  \n",
       "2                    0                              0    77.0  \n",
       "3                    1                              0    61.0  \n",
       "4                    1                              0    29.0  "
      ]
     },
     "execution_count": 113,
     "metadata": {},
     "output_type": "execute_result"
    }
   ],
   "source": [
    "import numpy as np\n",
    "import pandas as pd\n",
    "import os\n",
    "from sklearn.model_selection import train_test_split\n",
    "from sklearn.tree import DecisionTreeClassifier\n",
    "from sklearn import metrics\n",
    "from sklearn.metrics import roc_auc_score\n",
    "from sklearn.metrics import roc_curve\n",
    "from warnings import simplefilter\n",
    "simplefilter(action='ignore', category=FutureWarning)\n",
    "\n",
    "df = pd.read_csv('base.csv')\n",
    "df = df.dropna()\n",
    "df_2018 = df.loc[df['year'] == 2018]\n",
    "df_base = df[df.year != 2018]\n",
    "\n",
    "df_base.head()"
   ]
  },
  {
   "cell_type": "code",
   "execution_count": 114,
   "metadata": {},
   "outputs": [
    {
     "name": "stdout",
     "output_type": "stream",
     "text": [
      "R2 score: 0.7303356235413488\n"
     ]
    }
   ],
   "source": [
    "#training on data without 2018\n",
    "from sklearn.linear_model import LinearRegression\n",
    "\n",
    "Y = df_base['Target']\n",
    "X = df_base[['year','Count','Disease_INFLUENZA_A','Disease_INFLUENZA_B','Disease_INFLUENZA_UNSPECIFIED']]\n",
    "\n",
    "X_train, X_test, Y_train, Y_test = train_test_split(X, Y, train_size=.8, random_state = 0)\n",
    "\n",
    "lrmodel = LinearRegression()\n",
    "lrmodel.fit(X_train,Y_train)\n",
    "\n",
    "Y_pred = lrmodel.predict(X_test)\n",
    "print(\"R2 score:\",metrics.r2_score(Y_test, Y_pred))"
   ]
  },
  {
   "cell_type": "code",
   "execution_count": 115,
   "metadata": {},
   "outputs": [
    {
     "name": "stdout",
     "output_type": "stream",
     "text": [
      "R2 score: 0.6398934569021679\n"
     ]
    }
   ],
   "source": [
    "#Testing against 2018\n",
    "Y_2018 = df_2018['Target']\n",
    "X_2018 = df_2018[['year','Count','Disease_INFLUENZA_A','Disease_INFLUENZA_B','Disease_INFLUENZA_UNSPECIFIED']]\n",
    "\n",
    "Y_pred = lrmodel.predict(X_2018)\n",
    "print(\"R2 score:\",metrics.r2_score(Y_2018, Y_pred))"
   ]
  }
 ],
 "metadata": {
  "kernelspec": {
   "display_name": "Python 3",
   "language": "python",
   "name": "python3"
  },
  "language_info": {
   "codemirror_mode": {
    "name": "ipython",
    "version": 3
   },
   "file_extension": ".py",
   "mimetype": "text/x-python",
   "name": "python",
   "nbconvert_exporter": "python",
   "pygments_lexer": "ipython3",
   "version": "3.7.3"
  }
 },
 "nbformat": 4,
 "nbformat_minor": 2
}
